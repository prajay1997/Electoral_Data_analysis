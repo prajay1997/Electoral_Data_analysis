{
  "nbformat": 4,
  "nbformat_minor": 0,
  "metadata": {
    "colab": {
      "name": "Assignment Bihar_election_result_data Analysis NWN.ipynb",
      "provenance": [],
      "collapsed_sections": [],
      "authorship_tag": "ABX9TyNO5Tre3irKWMT+y1L/J1D1",
      "include_colab_link": true
    },
    "kernelspec": {
      "name": "python3",
      "display_name": "Python 3"
    },
    "language_info": {
      "name": "python"
    }
  },
  "cells": [
    {
      "cell_type": "markdown",
      "metadata": {
        "id": "view-in-github",
        "colab_type": "text"
      },
      "source": [
        "<a href=\"https://colab.research.google.com/github/prajay1997/Electoral_Data_analysis/blob/main/Bihar_election_result_Electoral_data_Analysis.ipynb\" target=\"_parent\"><img src=\"https://colab.research.google.com/assets/colab-badge.svg\" alt=\"Open In Colab\"/></a>"
      ]
    },
    {
      "cell_type": "code",
      "execution_count": null,
      "metadata": {
        "colab": {
          "base_uri": "https://localhost:8080/"
        },
        "id": "wzwuOmsavko3",
        "outputId": "33291960-034a-4981-ca90-cb25bd1507ed"
      },
      "outputs": [
        {
          "output_type": "stream",
          "name": "stdout",
          "text": [
            "Mounted at /content/drive\n"
          ]
        }
      ],
      "source": [
        "from google.colab import drive\n",
        "drive.mount('/content/drive')"
      ]
    },
    {
      "cell_type": "code",
      "source": [
        "# Importing required libraries\n",
        "import pandas as pd\n",
        "import numpy as np\n",
        "import seaborn as sns\n",
        "import matplotlib.pyplot as plt\n",
        "%matplotlib inline"
      ],
      "metadata": {
        "id": "EwipQPJXv8Xq"
      },
      "execution_count": null,
      "outputs": []
    },
    {
      "cell_type": "code",
      "source": [
        "df = pd.read_csv('/content/drive/MyDrive/Bihar_Election_Results .csv')\n",
        "df.head()"
      ],
      "metadata": {
        "colab": {
          "base_uri": "https://localhost:8080/",
          "height": 206
        },
        "id": "DG3h5VDewAFn",
        "outputId": "72505d33-fc4d-4210-ff43-c2eb978af2c6"
      },
      "execution_count": null,
      "outputs": [
        {
          "output_type": "execute_result",
          "data": {
            "text/plain": [
              "  Election Year  Position                     Name  Votes Votes %  \\\n",
              "0          2010         1             Rajesh Singh  42289  29.40%   \n",
              "1          2010         2    Mukesh Kumar Kushwaha  27618  19.20%   \n",
              "2          2010         3  Dheerendra Pratap Singh  20886  14.50%   \n",
              "3          2010         4           Irshad Hussain  17747  12.40%   \n",
              "4          2010         5      Deep Narayan Mahato  14047   9.80%   \n",
              "\n",
              "                      Party        AC name  AC No  \n",
              "0       Janata Dal (United)  Valmiki Nagar      1  \n",
              "1      Rashtriya Janata Dal  Valmiki Nagar      1  \n",
              "2       Bahujan Samaj Party  Valmiki Nagar      1  \n",
              "3  Indian National Congress  Valmiki Nagar      1  \n",
              "4               Independent  Valmiki Nagar      1  "
            ],
            "text/html": [
              "\n",
              "  <div id=\"df-f66c9904-2df3-4643-9914-803c2ebc1ddc\">\n",
              "    <div class=\"colab-df-container\">\n",
              "      <div>\n",
              "<style scoped>\n",
              "    .dataframe tbody tr th:only-of-type {\n",
              "        vertical-align: middle;\n",
              "    }\n",
              "\n",
              "    .dataframe tbody tr th {\n",
              "        vertical-align: top;\n",
              "    }\n",
              "\n",
              "    .dataframe thead th {\n",
              "        text-align: right;\n",
              "    }\n",
              "</style>\n",
              "<table border=\"1\" class=\"dataframe\">\n",
              "  <thead>\n",
              "    <tr style=\"text-align: right;\">\n",
              "      <th></th>\n",
              "      <th>Election Year</th>\n",
              "      <th>Position</th>\n",
              "      <th>Name</th>\n",
              "      <th>Votes</th>\n",
              "      <th>Votes %</th>\n",
              "      <th>Party</th>\n",
              "      <th>AC name</th>\n",
              "      <th>AC No</th>\n",
              "    </tr>\n",
              "  </thead>\n",
              "  <tbody>\n",
              "    <tr>\n",
              "      <th>0</th>\n",
              "      <td>2010</td>\n",
              "      <td>1</td>\n",
              "      <td>Rajesh Singh</td>\n",
              "      <td>42289</td>\n",
              "      <td>29.40%</td>\n",
              "      <td>Janata Dal (United)</td>\n",
              "      <td>Valmiki Nagar</td>\n",
              "      <td>1</td>\n",
              "    </tr>\n",
              "    <tr>\n",
              "      <th>1</th>\n",
              "      <td>2010</td>\n",
              "      <td>2</td>\n",
              "      <td>Mukesh Kumar Kushwaha</td>\n",
              "      <td>27618</td>\n",
              "      <td>19.20%</td>\n",
              "      <td>Rashtriya Janata Dal</td>\n",
              "      <td>Valmiki Nagar</td>\n",
              "      <td>1</td>\n",
              "    </tr>\n",
              "    <tr>\n",
              "      <th>2</th>\n",
              "      <td>2010</td>\n",
              "      <td>3</td>\n",
              "      <td>Dheerendra Pratap Singh</td>\n",
              "      <td>20886</td>\n",
              "      <td>14.50%</td>\n",
              "      <td>Bahujan Samaj Party</td>\n",
              "      <td>Valmiki Nagar</td>\n",
              "      <td>1</td>\n",
              "    </tr>\n",
              "    <tr>\n",
              "      <th>3</th>\n",
              "      <td>2010</td>\n",
              "      <td>4</td>\n",
              "      <td>Irshad Hussain</td>\n",
              "      <td>17747</td>\n",
              "      <td>12.40%</td>\n",
              "      <td>Indian National Congress</td>\n",
              "      <td>Valmiki Nagar</td>\n",
              "      <td>1</td>\n",
              "    </tr>\n",
              "    <tr>\n",
              "      <th>4</th>\n",
              "      <td>2010</td>\n",
              "      <td>5</td>\n",
              "      <td>Deep Narayan Mahato</td>\n",
              "      <td>14047</td>\n",
              "      <td>9.80%</td>\n",
              "      <td>Independent</td>\n",
              "      <td>Valmiki Nagar</td>\n",
              "      <td>1</td>\n",
              "    </tr>\n",
              "  </tbody>\n",
              "</table>\n",
              "</div>\n",
              "      <button class=\"colab-df-convert\" onclick=\"convertToInteractive('df-f66c9904-2df3-4643-9914-803c2ebc1ddc')\"\n",
              "              title=\"Convert this dataframe to an interactive table.\"\n",
              "              style=\"display:none;\">\n",
              "        \n",
              "  <svg xmlns=\"http://www.w3.org/2000/svg\" height=\"24px\"viewBox=\"0 0 24 24\"\n",
              "       width=\"24px\">\n",
              "    <path d=\"M0 0h24v24H0V0z\" fill=\"none\"/>\n",
              "    <path d=\"M18.56 5.44l.94 2.06.94-2.06 2.06-.94-2.06-.94-.94-2.06-.94 2.06-2.06.94zm-11 1L8.5 8.5l.94-2.06 2.06-.94-2.06-.94L8.5 2.5l-.94 2.06-2.06.94zm10 10l.94 2.06.94-2.06 2.06-.94-2.06-.94-.94-2.06-.94 2.06-2.06.94z\"/><path d=\"M17.41 7.96l-1.37-1.37c-.4-.4-.92-.59-1.43-.59-.52 0-1.04.2-1.43.59L10.3 9.45l-7.72 7.72c-.78.78-.78 2.05 0 2.83L4 21.41c.39.39.9.59 1.41.59.51 0 1.02-.2 1.41-.59l7.78-7.78 2.81-2.81c.8-.78.8-2.07 0-2.86zM5.41 20L4 18.59l7.72-7.72 1.47 1.35L5.41 20z\"/>\n",
              "  </svg>\n",
              "      </button>\n",
              "      \n",
              "  <style>\n",
              "    .colab-df-container {\n",
              "      display:flex;\n",
              "      flex-wrap:wrap;\n",
              "      gap: 12px;\n",
              "    }\n",
              "\n",
              "    .colab-df-convert {\n",
              "      background-color: #E8F0FE;\n",
              "      border: none;\n",
              "      border-radius: 50%;\n",
              "      cursor: pointer;\n",
              "      display: none;\n",
              "      fill: #1967D2;\n",
              "      height: 32px;\n",
              "      padding: 0 0 0 0;\n",
              "      width: 32px;\n",
              "    }\n",
              "\n",
              "    .colab-df-convert:hover {\n",
              "      background-color: #E2EBFA;\n",
              "      box-shadow: 0px 1px 2px rgba(60, 64, 67, 0.3), 0px 1px 3px 1px rgba(60, 64, 67, 0.15);\n",
              "      fill: #174EA6;\n",
              "    }\n",
              "\n",
              "    [theme=dark] .colab-df-convert {\n",
              "      background-color: #3B4455;\n",
              "      fill: #D2E3FC;\n",
              "    }\n",
              "\n",
              "    [theme=dark] .colab-df-convert:hover {\n",
              "      background-color: #434B5C;\n",
              "      box-shadow: 0px 1px 3px 1px rgba(0, 0, 0, 0.15);\n",
              "      filter: drop-shadow(0px 1px 2px rgba(0, 0, 0, 0.3));\n",
              "      fill: #FFFFFF;\n",
              "    }\n",
              "  </style>\n",
              "\n",
              "      <script>\n",
              "        const buttonEl =\n",
              "          document.querySelector('#df-f66c9904-2df3-4643-9914-803c2ebc1ddc button.colab-df-convert');\n",
              "        buttonEl.style.display =\n",
              "          google.colab.kernel.accessAllowed ? 'block' : 'none';\n",
              "\n",
              "        async function convertToInteractive(key) {\n",
              "          const element = document.querySelector('#df-f66c9904-2df3-4643-9914-803c2ebc1ddc');\n",
              "          const dataTable =\n",
              "            await google.colab.kernel.invokeFunction('convertToInteractive',\n",
              "                                                     [key], {});\n",
              "          if (!dataTable) return;\n",
              "\n",
              "          const docLinkHtml = 'Like what you see? Visit the ' +\n",
              "            '<a target=\"_blank\" href=https://colab.research.google.com/notebooks/data_table.ipynb>data table notebook</a>'\n",
              "            + ' to learn more about interactive tables.';\n",
              "          element.innerHTML = '';\n",
              "          dataTable['output_type'] = 'display_data';\n",
              "          await google.colab.output.renderOutput(dataTable, element);\n",
              "          const docLink = document.createElement('div');\n",
              "          docLink.innerHTML = docLinkHtml;\n",
              "          element.appendChild(docLink);\n",
              "        }\n",
              "      </script>\n",
              "    </div>\n",
              "  </div>\n",
              "  "
            ]
          },
          "metadata": {},
          "execution_count": 3
        }
      ]
    },
    {
      "cell_type": "code",
      "source": [
        "type(df)"
      ],
      "metadata": {
        "colab": {
          "base_uri": "https://localhost:8080/"
        },
        "id": "MmfyCjXwwhsf",
        "outputId": "0f8f5a05-9e16-4ca4-b6e5-2e68be24e6c3"
      },
      "execution_count": null,
      "outputs": [
        {
          "output_type": "execute_result",
          "data": {
            "text/plain": [
              "pandas.core.frame.DataFrame"
            ]
          },
          "metadata": {},
          "execution_count": 4
        }
      ]
    },
    {
      "cell_type": "code",
      "source": [
        "df.shape"
      ],
      "metadata": {
        "colab": {
          "base_uri": "https://localhost:8080/"
        },
        "id": "ZHxQDecUwOeQ",
        "outputId": "9f10d8e4-58c8-4bd4-d109-3f1a5a62aa04"
      },
      "execution_count": null,
      "outputs": [
        {
          "output_type": "execute_result",
          "data": {
            "text/plain": [
              "(12301, 8)"
            ]
          },
          "metadata": {},
          "execution_count": 5
        }
      ]
    },
    {
      "cell_type": "code",
      "source": [
        "df.info()"
      ],
      "metadata": {
        "colab": {
          "base_uri": "https://localhost:8080/"
        },
        "id": "aGe5uVtDwSpy",
        "outputId": "a8c83b91-2600-41ba-9105-f2e399f36d32"
      },
      "execution_count": null,
      "outputs": [
        {
          "output_type": "stream",
          "name": "stdout",
          "text": [
            "<class 'pandas.core.frame.DataFrame'>\n",
            "RangeIndex: 12301 entries, 0 to 12300\n",
            "Data columns (total 8 columns):\n",
            " #   Column         Non-Null Count  Dtype \n",
            "---  ------         --------------  ----- \n",
            " 0   Election Year  12301 non-null  object\n",
            " 1   Position       12301 non-null  int64 \n",
            " 2   Name           12301 non-null  object\n",
            " 3   Votes          12301 non-null  int64 \n",
            " 4   Votes %        12301 non-null  object\n",
            " 5   Party          12301 non-null  object\n",
            " 6   AC name        12301 non-null  object\n",
            " 7   AC No          12301 non-null  int64 \n",
            "dtypes: int64(3), object(5)\n",
            "memory usage: 768.9+ KB\n"
          ]
        }
      ]
    },
    {
      "cell_type": "code",
      "source": [
        "df.columns"
      ],
      "metadata": {
        "colab": {
          "base_uri": "https://localhost:8080/"
        },
        "id": "OxUZA1Y7gmf_",
        "outputId": "daef3b53-e0b2-435b-c2b3-0c323b4f603f"
      },
      "execution_count": null,
      "outputs": [
        {
          "output_type": "execute_result",
          "data": {
            "text/plain": [
              "Index(['Election Year', 'Position', 'Name', 'Votes', 'Votes %', 'Party',\n",
              "       'AC name', 'AC No', 'Votes %%'],\n",
              "      dtype='object')"
            ]
          },
          "metadata": {},
          "execution_count": 93
        }
      ]
    },
    {
      "cell_type": "code",
      "source": [
        "df['Party'].nunique(dropna = True)"
      ],
      "metadata": {
        "colab": {
          "base_uri": "https://localhost:8080/"
        },
        "id": "vTEPXoYEeBcm",
        "outputId": "edd11c4a-bc1a-4de3-8c53-cde970c015a9"
      },
      "execution_count": null,
      "outputs": [
        {
          "output_type": "execute_result",
          "data": {
            "text/plain": [
              "222"
            ]
          },
          "metadata": {},
          "execution_count": 87
        }
      ]
    },
    {
      "cell_type": "code",
      "source": [
        "df['AC No'].nunique(dropna = True)"
      ],
      "metadata": {
        "colab": {
          "base_uri": "https://localhost:8080/"
        },
        "id": "KcXFI5hnfRh3",
        "outputId": "d48175d0-3e39-44e6-eea2-e147e7a93e97"
      },
      "execution_count": null,
      "outputs": [
        {
          "output_type": "execute_result",
          "data": {
            "text/plain": [
              "243"
            ]
          },
          "metadata": {},
          "execution_count": 92
        }
      ]
    },
    {
      "cell_type": "code",
      "source": [
        "df['AC name'].nunique(dropna = True)"
      ],
      "metadata": {
        "colab": {
          "base_uri": "https://localhost:8080/"
        },
        "id": "e2nEC9_XgkVI",
        "outputId": "93ab18eb-bd6c-4137-f8c8-5081f578c5e4"
      },
      "execution_count": null,
      "outputs": [
        {
          "output_type": "execute_result",
          "data": {
            "text/plain": [
              "289"
            ]
          },
          "metadata": {},
          "execution_count": 94
        }
      ]
    },
    {
      "cell_type": "markdown",
      "source": [
        "Q a) Determine the winning party for every election at the state level. A party which\n",
        "has the highest total votes is considered the winner here.\n"
      ],
      "metadata": {
        "id": "0FEhzFRBwaFN"
      }
    },
    {
      "cell_type": "code",
      "source": [
        "df['Election Year'].value_counts()"
      ],
      "metadata": {
        "colab": {
          "base_uri": "https://localhost:8080/"
        },
        "id": "zXplp5zow2xw",
        "outputId": "b7e712ae-6f95-48c1-c962-d27ddc5e27f9"
      },
      "execution_count": null,
      "outputs": [
        {
          "output_type": "execute_result",
          "data": {
            "text/plain": [
              "2010        3523\n",
              "2015        3450\n",
              "2005-Feb    3193\n",
              "2005-Oct    2135\n",
              "Name: Election Year, dtype: int64"
            ]
          },
          "metadata": {},
          "execution_count": 7
        }
      ]
    },
    {
      "cell_type": "code",
      "source": [
        "(np.unique(df.Party))"
      ],
      "metadata": {
        "colab": {
          "base_uri": "https://localhost:8080/"
        },
        "id": "1s2F7MxuW4mv",
        "outputId": "11d95e13-f3d6-4fec-aec6-00bcb1d74d28"
      },
      "execution_count": null,
      "outputs": [
        {
          "output_type": "execute_result",
          "data": {
            "text/plain": [
              "array(['Aadarsh Mithila Party', 'Aam Janata Party', 'Aap Aur Hum Party',\n",
              "       'Aarakshan Virodhi Party', 'Adarsh Political Party',\n",
              "       'Akhand Bharat Samaj Party', \"Akhand Jharkhand People's Front\",\n",
              "       'Akhil Bharat Hindu Mahasabha', 'Akhil Bharatiya Ashok Sena',\n",
              "       'Akhil Bharatiya Desh Bhakt Morcha',\n",
              "       'Akhil Bharatiya Hind Kranti Party', 'Akhil Bharatiya Jan Sangh',\n",
              "       'Akhil Bharatiya Rajarya Sabha', 'Akhil Bharitya Mithila Party',\n",
              "       'Akhil Bhartiya Atyant Pichara Sangharsh Morcha Party',\n",
              "       'Akhil Bhartiya Mithila Party', 'Akhil Hind Forward Block',\n",
              "       'Akhil Jan Vikas Dal',\n",
              "       'All India Babu Jagjivan Ram Saheb National Congress',\n",
              "       'All India Forward Bloc', 'All India Forward Bloc (Subhasist)',\n",
              "       'All India Majlis-E-Ittehadul Muslimoon', 'Alpjan Samaj Party',\n",
              "       'Ambedkar National Congress', 'Amra Bangalee', 'Apna Dal',\n",
              "       'Atulya Bharat Party', 'Awami Party', 'Bahujan Ekta Party (R)',\n",
              "       'Bahujan Kranti Party (Marxwad-Ambedkarwad)',\n",
              "       'Bahujan Mukti Party', 'Bahujan Nyay Dal', 'Bahujan Samaj Party',\n",
              "       'Bahujan Sangharsh Party (Kanshiram)', 'Bahujan Shakty',\n",
              "       'Bajjikanchal Vikas Party', 'Bharat Bhrashtachar Mitao Party',\n",
              "       'Bharat Deshbhakt Party', 'Bharat Ka Kisan Majdoor Party',\n",
              "       'Bharat Mangalam Parishad', 'Bharat Nirman Party',\n",
              "       'Bharat Vikas Morcha', 'Bharatiya Bahujan Congress',\n",
              "       'Bharatiya Ekta Dal', 'Bharatiya Inqalab Party',\n",
              "       'Bharatiya Jagaran Party', 'Bharatiya Jan Kranti Dal (Democratic)',\n",
              "       'Bharatiya Janta Party', 'Bharatiya Jantantrik Janta Dal',\n",
              "       'Bharatiya Momin Front', 'Bharatiya Yuva Party (Democratic)',\n",
              "       'Bharti Samudaya Party', 'Bhartiya Dalit Party',\n",
              "       'Bhartiya Deshbhakt Party', 'Bhartiya Jagran Party',\n",
              "       'Bhartiya Jan Hitkari Party', 'Bhartiya Janhit Dal',\n",
              "       'Bhartiya Jantantrik Janata Dal', 'Bhartiya Kranti Vir Party',\n",
              "       'Bhartiya Lokmat Rashtrwadi Party', 'Bhartiya Mitra Party',\n",
              "       'Bhartiya New Sanskar Krantikari Party', 'Bihar Janta Party',\n",
              "       'Buddhiviveki Vikas Party', 'Communist Party Of India',\n",
              "       'Communist Party Of India (MARXIST)',\n",
              "       'Communist Party Of India (MARXIST-LENINIST) (LIBERATION)',\n",
              "       'Communist Party Of India (Marxist-Leninist) (Liberation)',\n",
              "       'Congress (Secular)', 'Dalit Samaj Party', 'Deshi Kisan Party',\n",
              "       'Federal Congress Of India', 'Gareeb Aadmi Party',\n",
              "       'Garib Janshakti Party', 'Garib Janta Dal (Secular)',\n",
              "       'Garib Vikas Party', 'Gondvana Gantantra Party',\n",
              "       'Hamara Sahara Party', 'Hind Congress Party',\n",
              "       'Hindustan Krantikari Dal', 'Hindustan Vikas Dal',\n",
              "       'Hindustani Awam Morcha (Secular)', 'Hindusthan Nirman Dal',\n",
              "       'Independent', 'Indian Justice Party', 'Indian National Congress',\n",
              "       'Indian National Green Party', 'Indian Union Muslim League',\n",
              "       'Indiya Jananayaka Katchi', 'International Party',\n",
              "       'Ittehad-E-Millait Council', 'J & K National Panthers Party',\n",
              "       'Jai Hind Party', 'Jai Hind Samaj Party',\n",
              "       'Jai Jawan Jai Kisan Mazdoor Congress', 'Jai Maha Bharath Party',\n",
              "       'Jai Prakash Janata Dal',\n",
              "       'Jammu & Kashmir National Panthers Party',\n",
              "       'Jan Adhikar Party (Loktantrik)', 'Janata Dal (Secular)',\n",
              "       'Janata Dal (United)', 'Janata Party', 'Janhit Dal',\n",
              "       'Janhit Samaj Party', 'Janta Dal Rashtravadi',\n",
              "       'Janta Raj Vikas Party', 'Janvadi Party (Socialist)',\n",
              "       'Janvadi Party(Socialist)', 'Jawan Kisan Morcha',\n",
              "       'Jharkhand Disom Party', 'Jharkhand Mukti Morcha',\n",
              "       'Jharkhand Party', 'Jharkhand Vikas Morcha (Prajatantrik)',\n",
              "       'Kalinga Sena', 'Kamjor Varg Sangh,bihar',\n",
              "       'Kisan Shakti Jantantrik Party', 'Kosi Vikas Party',\n",
              "       'Krantikari Samyavadi Party', 'Krantikari Vikas Dal', 'Lal Morcha',\n",
              "       'Lok Awaz Dal', 'Lok Dal', 'Lok Jan Shakti Party', 'Lok Sewa Dal',\n",
              "       'Lok Shakti', 'Lokpriya Samaj Party', 'Loksena',\n",
              "       'Loktantrik Janata Party (Secular)', 'Loktantrik Samajwadi Party',\n",
              "       'Loktantrik Samata Dal', 'Loktantrik Sarvjan Samaj Party',\n",
              "       'Maanavvaadi Janta Party', 'Manavadhikar Janshakti Party',\n",
              "       'Marxist Communist Party Of India (S.S.SRIVASTAVA)',\n",
              "       'Marxist Communist Party Of India (United)',\n",
              "       'Mithilanchal Vikas Morcha', 'Moolniwasi Samaj Party',\n",
              "       'Muslim League Kerala State Committee', 'National Jagaran Party',\n",
              "       'National Janta Party (Indian)', 'National Lokmat Party',\n",
              "       'National Loktantrik Party', \"National People's Party\",\n",
              "       'National Target Party', 'National Tiger Party',\n",
              "       'National Youth Party', 'Nationalist Congress Party',\n",
              "       'Navbharat Nirman Party', 'Naya Daur Party',\n",
              "       'New All India Congress Party', 'Pragatisheel Magahi Samaj',\n",
              "       'Pragtisheel Manav Samaj Party', 'Praja Raj Party',\n",
              "       'Proutist Bloc India', 'Proutist Bloc Of India',\n",
              "       'Proutist Sarva Samaj', 'Proutist Sarva Samaj Party',\n",
              "       'Public Mission Party', 'Rajnaitik Vikalp Party',\n",
              "       'Rashtra Sewa Dal', 'Rashtravadi Janata Party',\n",
              "       'Rashtravyapi Janta Party', 'Rashtrawadi Sena',\n",
              "       'Rashtrawadi Yuva Party', 'Rashtriya Ahinsa Manch',\n",
              "       'Rashtriya Garib Dal', 'Rashtriya Jagriti Party',\n",
              "       'Rashtriya Jan Jan Party', 'Rashtriya Jan-Jagram Morcha',\n",
              "       'Rashtriya Janata Dal', 'Rashtriya Jankranti Party',\n",
              "       'Rashtriya Janshanti Party',\n",
              "       'Rashtriya Janvikas Party (Democratic)',\n",
              "       'Rashtriya Kamjor Varg Party', 'Rashtriya Krantikari Janata Party',\n",
              "       'Rashtriya Krantikari Samajwadi Party', 'Rashtriya Lok Dal',\n",
              "       'Rashtriya Lok Samta Party', 'Rashtriya Lok Seva Morcha',\n",
              "       'Rashtriya Mahan Gantantra Party', 'Rashtriya Mazdoor Ekta Party',\n",
              "       'Rashtriya Pragati Party', 'Rashtriya Samanta Dal',\n",
              "       'Rashtriya Sarvodya Party', 'Rashtriya Swabhimaan Party',\n",
              "       'Rastriya Insaaf Party', 'Rastriya Sadabahar Party',\n",
              "       'Rastriya Samajwadi Party (Secular)', 'Republican Party Of India',\n",
              "       'Republican Party Of India (A)', 'Revolutionary Socialist Party',\n",
              "       'Sabjan Party', 'Samajik Jantantrik Party',\n",
              "       'Samajwadi Jan Parishad', 'Samajwadi Janata Dal Democratic',\n",
              "       'Samajwadi Janata Party (RASHTRIYA)', 'Samajwadi Party',\n",
              "       'Samata Party', 'Sampoorna Kranti Dal', 'Samras Samaj Party',\n",
              "       'Sanatan Samaj Party', 'Sankhyanupati Bhagidari Party',\n",
              "       'Sarvajan Kalyan Loktantrik Party', 'Sarvhara Dal',\n",
              "       'Sathi Aur Aapka Faisala Party', 'Shiv Sena', 'Shoshit Samaj Dal',\n",
              "       'Shoshit Samaj Dal (AKHIL BAHARATIYA)', 'Shoshit Samaj Party',\n",
              "       'Smast Bhartiya Party', 'Social Democratic Party Of India',\n",
              "       'Socialist Janta Party', 'Socialist Party (India)',\n",
              "       'Socialist Party (LOHIA)',\n",
              "       'Socialist Unity Centre Of India (COMMUNIST)',\n",
              "       'Suheldev Bhartiya Samaj Party', 'Swabhiman Party',\n",
              "       'Swaraj Party (Loktantrik)', 'Swatantra Samaj Party',\n",
              "       'The National Road Map Party Of India',\n",
              "       'Vanchitsamaj Insaaf Party', 'Vyabasayi Kisan Alpasankhyak Morcha'],\n",
              "      dtype=object)"
            ]
          },
          "metadata": {},
          "execution_count": 8
        }
      ]
    },
    {
      "cell_type": "code",
      "source": [
        "df[df['Election Year'] == '2005-Feb'].groupby('Party')['Votes'].sum().sort_values(ascending = False).head(1)"
      ],
      "metadata": {
        "colab": {
          "base_uri": "https://localhost:8080/"
        },
        "id": "AZQ8BON9xIOP",
        "outputId": "564c4bc2-a331-4a2a-ffae-9f6b1f38e4b2"
      },
      "execution_count": null,
      "outputs": [
        {
          "output_type": "execute_result",
          "data": {
            "text/plain": [
              "Party\n",
              "Rashtriya Janata Dal    6140223\n",
              "Name: Votes, dtype: int64"
            ]
          },
          "metadata": {},
          "execution_count": 9
        }
      ]
    },
    {
      "cell_type": "markdown",
      "source": [
        "As we can see in the year Feb-2005 Rashtriya Janata Dal has the highest no of votes, hence the Rashtriya Janata Dal Partyis the winner of year Oct-2005."
      ],
      "metadata": {
        "id": "_yoDsNANx6Ct"
      }
    },
    {
      "cell_type": "code",
      "source": [
        "df[df['Election Year'] == '2005-Oct'].groupby('Party')['Votes'].sum().sort_values(ascending = False).head(1)\n",
        "# 2005-Oct Election was won by Rashtriya Janata Dal."
      ],
      "metadata": {
        "colab": {
          "base_uri": "https://localhost:8080/"
        },
        "id": "ds4dULKgxIIY",
        "outputId": "7fbb8057-a6db-4e6b-f219-56bfeb0b7968"
      },
      "execution_count": null,
      "outputs": [
        {
          "output_type": "execute_result",
          "data": {
            "text/plain": [
              "Party\n",
              "Rashtriya Janata Dal    5525081\n",
              "Name: Votes, dtype: int64"
            ]
          },
          "metadata": {},
          "execution_count": 10
        }
      ]
    },
    {
      "cell_type": "markdown",
      "source": [
        "As we can see in the year Oct-2005 Rashtriya Janata Dal  has the highest no of votes, hence the Rashtriya Janata Dal Party is the winner of year oct-2005\n",
        "\n",
        "Rashtriy janata Dal party is the winner party for the year 2005."
      ],
      "metadata": {
        "id": "XanZX89IyIpZ"
      }
    },
    {
      "cell_type": "code",
      "source": [
        "df[df['Election Year'] == '2010'].groupby('Party')['Votes'].sum().sort_values(ascending = False).head(1)"
      ],
      "metadata": {
        "colab": {
          "base_uri": "https://localhost:8080/"
        },
        "id": "H0nAgW1txTc9",
        "outputId": "63a3081b-6b06-4b73-c1e3-506af442349e"
      },
      "execution_count": null,
      "outputs": [
        {
          "output_type": "execute_result",
          "data": {
            "text/plain": [
              "Party\n",
              "Janata Dal (United)    6561906\n",
              "Name: Votes, dtype: int64"
            ]
          },
          "metadata": {},
          "execution_count": 11
        }
      ]
    },
    {
      "cell_type": "markdown",
      "source": [
        "As we can see in the year 2010 Janata Dal (United) party has the highest no of votes, hence the Janata Dal (United) party is the winner of year 2010."
      ],
      "metadata": {
        "id": "WGIdbRJvxr9O"
      }
    },
    {
      "cell_type": "code",
      "source": [
        "df[df['Election Year'] == '2015'].groupby('Party')['Votes'].sum().sort_values(ascending = False).head(1)"
      ],
      "metadata": {
        "colab": {
          "base_uri": "https://localhost:8080/"
        },
        "id": "iWG1BERYxd5K",
        "outputId": "b358d821-ae5e-459b-a6ea-5fc19319cfe9"
      },
      "execution_count": null,
      "outputs": [
        {
          "output_type": "execute_result",
          "data": {
            "text/plain": [
              "Party\n",
              "Bharatiya Janta Party    9308015\n",
              "Name: Votes, dtype: int64"
            ]
          },
          "metadata": {},
          "execution_count": 12
        }
      ]
    },
    {
      "cell_type": "markdown",
      "source": [
        "As we can see in the year 2015 Bharatiya Janta Party party has the highest no of votes, hence the Bharatiya Janta Partyis the winner of year 2015."
      ],
      "metadata": {
        "id": "eU9b-7HDxvZS"
      }
    },
    {
      "cell_type": "markdown",
      "source": [
        "Q b)  Determine the list of swing seats for the state. A swing seat is a constituency\n",
        "which has a different winner in every election. The elections are held in the order\n",
        "2005-Feb, 2005-Oct, 2010 and 2015"
      ],
      "metadata": {
        "id": "R5M_d8T8ylCF"
      }
    },
    {
      "cell_type": "code",
      "source": [
        "df1 = df[df['Election Year'] == '2005-Feb']\n",
        "df2 = df[df['Election Year'] == '2005-Oct']\n",
        "df3= df[df['Election Year'] == '2010']\n",
        "df4 = df[df['Election Year'] == '2015']"
      ],
      "metadata": {
        "id": "-jqVq4diyq45"
      },
      "execution_count": null,
      "outputs": []
    },
    {
      "cell_type": "code",
      "source": [
        "A1 = pd.DataFrame(df1[df1['Position'] == 1].groupby(['AC No','Party'])['Votes'].max())\n",
        "A1.reset_index(inplace = True)\n",
        "A1.head()"
      ],
      "metadata": {
        "colab": {
          "base_uri": "https://localhost:8080/",
          "height": 206
        },
        "id": "1TQ_xb4Q0qBn",
        "outputId": "66702361-a155-4455-b436-c476b9afc6e7"
      },
      "execution_count": null,
      "outputs": [
        {
          "output_type": "execute_result",
          "data": {
            "text/plain": [
              "   AC No                       Party  Votes\n",
              "0      1        Rashtriya Janata Dal  19389\n",
              "1      2         Janata Dal (United)  59151\n",
              "2      3       Bharatiya Janta Party  20961\n",
              "3      4  Nationalist Congress Party  30421\n",
              "4      5             Samajwadi Party  26161"
            ],
            "text/html": [
              "\n",
              "  <div id=\"df-0ac43dbd-3338-4f0c-b582-5d8578bddebb\">\n",
              "    <div class=\"colab-df-container\">\n",
              "      <div>\n",
              "<style scoped>\n",
              "    .dataframe tbody tr th:only-of-type {\n",
              "        vertical-align: middle;\n",
              "    }\n",
              "\n",
              "    .dataframe tbody tr th {\n",
              "        vertical-align: top;\n",
              "    }\n",
              "\n",
              "    .dataframe thead th {\n",
              "        text-align: right;\n",
              "    }\n",
              "</style>\n",
              "<table border=\"1\" class=\"dataframe\">\n",
              "  <thead>\n",
              "    <tr style=\"text-align: right;\">\n",
              "      <th></th>\n",
              "      <th>AC No</th>\n",
              "      <th>Party</th>\n",
              "      <th>Votes</th>\n",
              "    </tr>\n",
              "  </thead>\n",
              "  <tbody>\n",
              "    <tr>\n",
              "      <th>0</th>\n",
              "      <td>1</td>\n",
              "      <td>Rashtriya Janata Dal</td>\n",
              "      <td>19389</td>\n",
              "    </tr>\n",
              "    <tr>\n",
              "      <th>1</th>\n",
              "      <td>2</td>\n",
              "      <td>Janata Dal (United)</td>\n",
              "      <td>59151</td>\n",
              "    </tr>\n",
              "    <tr>\n",
              "      <th>2</th>\n",
              "      <td>3</td>\n",
              "      <td>Bharatiya Janta Party</td>\n",
              "      <td>20961</td>\n",
              "    </tr>\n",
              "    <tr>\n",
              "      <th>3</th>\n",
              "      <td>4</td>\n",
              "      <td>Nationalist Congress Party</td>\n",
              "      <td>30421</td>\n",
              "    </tr>\n",
              "    <tr>\n",
              "      <th>4</th>\n",
              "      <td>5</td>\n",
              "      <td>Samajwadi Party</td>\n",
              "      <td>26161</td>\n",
              "    </tr>\n",
              "  </tbody>\n",
              "</table>\n",
              "</div>\n",
              "      <button class=\"colab-df-convert\" onclick=\"convertToInteractive('df-0ac43dbd-3338-4f0c-b582-5d8578bddebb')\"\n",
              "              title=\"Convert this dataframe to an interactive table.\"\n",
              "              style=\"display:none;\">\n",
              "        \n",
              "  <svg xmlns=\"http://www.w3.org/2000/svg\" height=\"24px\"viewBox=\"0 0 24 24\"\n",
              "       width=\"24px\">\n",
              "    <path d=\"M0 0h24v24H0V0z\" fill=\"none\"/>\n",
              "    <path d=\"M18.56 5.44l.94 2.06.94-2.06 2.06-.94-2.06-.94-.94-2.06-.94 2.06-2.06.94zm-11 1L8.5 8.5l.94-2.06 2.06-.94-2.06-.94L8.5 2.5l-.94 2.06-2.06.94zm10 10l.94 2.06.94-2.06 2.06-.94-2.06-.94-.94-2.06-.94 2.06-2.06.94z\"/><path d=\"M17.41 7.96l-1.37-1.37c-.4-.4-.92-.59-1.43-.59-.52 0-1.04.2-1.43.59L10.3 9.45l-7.72 7.72c-.78.78-.78 2.05 0 2.83L4 21.41c.39.39.9.59 1.41.59.51 0 1.02-.2 1.41-.59l7.78-7.78 2.81-2.81c.8-.78.8-2.07 0-2.86zM5.41 20L4 18.59l7.72-7.72 1.47 1.35L5.41 20z\"/>\n",
              "  </svg>\n",
              "      </button>\n",
              "      \n",
              "  <style>\n",
              "    .colab-df-container {\n",
              "      display:flex;\n",
              "      flex-wrap:wrap;\n",
              "      gap: 12px;\n",
              "    }\n",
              "\n",
              "    .colab-df-convert {\n",
              "      background-color: #E8F0FE;\n",
              "      border: none;\n",
              "      border-radius: 50%;\n",
              "      cursor: pointer;\n",
              "      display: none;\n",
              "      fill: #1967D2;\n",
              "      height: 32px;\n",
              "      padding: 0 0 0 0;\n",
              "      width: 32px;\n",
              "    }\n",
              "\n",
              "    .colab-df-convert:hover {\n",
              "      background-color: #E2EBFA;\n",
              "      box-shadow: 0px 1px 2px rgba(60, 64, 67, 0.3), 0px 1px 3px 1px rgba(60, 64, 67, 0.15);\n",
              "      fill: #174EA6;\n",
              "    }\n",
              "\n",
              "    [theme=dark] .colab-df-convert {\n",
              "      background-color: #3B4455;\n",
              "      fill: #D2E3FC;\n",
              "    }\n",
              "\n",
              "    [theme=dark] .colab-df-convert:hover {\n",
              "      background-color: #434B5C;\n",
              "      box-shadow: 0px 1px 3px 1px rgba(0, 0, 0, 0.15);\n",
              "      filter: drop-shadow(0px 1px 2px rgba(0, 0, 0, 0.3));\n",
              "      fill: #FFFFFF;\n",
              "    }\n",
              "  </style>\n",
              "\n",
              "      <script>\n",
              "        const buttonEl =\n",
              "          document.querySelector('#df-0ac43dbd-3338-4f0c-b582-5d8578bddebb button.colab-df-convert');\n",
              "        buttonEl.style.display =\n",
              "          google.colab.kernel.accessAllowed ? 'block' : 'none';\n",
              "\n",
              "        async function convertToInteractive(key) {\n",
              "          const element = document.querySelector('#df-0ac43dbd-3338-4f0c-b582-5d8578bddebb');\n",
              "          const dataTable =\n",
              "            await google.colab.kernel.invokeFunction('convertToInteractive',\n",
              "                                                     [key], {});\n",
              "          if (!dataTable) return;\n",
              "\n",
              "          const docLinkHtml = 'Like what you see? Visit the ' +\n",
              "            '<a target=\"_blank\" href=https://colab.research.google.com/notebooks/data_table.ipynb>data table notebook</a>'\n",
              "            + ' to learn more about interactive tables.';\n",
              "          element.innerHTML = '';\n",
              "          dataTable['output_type'] = 'display_data';\n",
              "          await google.colab.output.renderOutput(dataTable, element);\n",
              "          const docLink = document.createElement('div');\n",
              "          docLink.innerHTML = docLinkHtml;\n",
              "          element.appendChild(docLink);\n",
              "        }\n",
              "      </script>\n",
              "    </div>\n",
              "  </div>\n",
              "  "
            ]
          },
          "metadata": {},
          "execution_count": 108
        }
      ]
    },
    {
      "cell_type": "code",
      "source": [
        "A2 = pd.DataFrame(df2[df2['Position'] == 1].groupby(['AC No','Party'])['Votes'].max())\n",
        "A2.reset_index(inplace = True)\n",
        "A2.head()"
      ],
      "metadata": {
        "colab": {
          "base_uri": "https://localhost:8080/",
          "height": 206
        },
        "id": "GjSx5LsY06f1",
        "outputId": "cca717e3-2613-4534-aadf-49334cf1f8af"
      },
      "execution_count": null,
      "outputs": [
        {
          "output_type": "execute_result",
          "data": {
            "text/plain": [
              "   AC No                     Party  Votes\n",
              "0      1      Rashtriya Janata Dal  19164\n",
              "1      2       Janata Dal (United)  60794\n",
              "2      3     Bharatiya Janta Party  39147\n",
              "3      4     Bharatiya Janta Party  35147\n",
              "4      5  Indian National Congress  35811"
            ],
            "text/html": [
              "\n",
              "  <div id=\"df-ded3a394-42e4-4a87-8c21-82a2a2fda5ae\">\n",
              "    <div class=\"colab-df-container\">\n",
              "      <div>\n",
              "<style scoped>\n",
              "    .dataframe tbody tr th:only-of-type {\n",
              "        vertical-align: middle;\n",
              "    }\n",
              "\n",
              "    .dataframe tbody tr th {\n",
              "        vertical-align: top;\n",
              "    }\n",
              "\n",
              "    .dataframe thead th {\n",
              "        text-align: right;\n",
              "    }\n",
              "</style>\n",
              "<table border=\"1\" class=\"dataframe\">\n",
              "  <thead>\n",
              "    <tr style=\"text-align: right;\">\n",
              "      <th></th>\n",
              "      <th>AC No</th>\n",
              "      <th>Party</th>\n",
              "      <th>Votes</th>\n",
              "    </tr>\n",
              "  </thead>\n",
              "  <tbody>\n",
              "    <tr>\n",
              "      <th>0</th>\n",
              "      <td>1</td>\n",
              "      <td>Rashtriya Janata Dal</td>\n",
              "      <td>19164</td>\n",
              "    </tr>\n",
              "    <tr>\n",
              "      <th>1</th>\n",
              "      <td>2</td>\n",
              "      <td>Janata Dal (United)</td>\n",
              "      <td>60794</td>\n",
              "    </tr>\n",
              "    <tr>\n",
              "      <th>2</th>\n",
              "      <td>3</td>\n",
              "      <td>Bharatiya Janta Party</td>\n",
              "      <td>39147</td>\n",
              "    </tr>\n",
              "    <tr>\n",
              "      <th>3</th>\n",
              "      <td>4</td>\n",
              "      <td>Bharatiya Janta Party</td>\n",
              "      <td>35147</td>\n",
              "    </tr>\n",
              "    <tr>\n",
              "      <th>4</th>\n",
              "      <td>5</td>\n",
              "      <td>Indian National Congress</td>\n",
              "      <td>35811</td>\n",
              "    </tr>\n",
              "  </tbody>\n",
              "</table>\n",
              "</div>\n",
              "      <button class=\"colab-df-convert\" onclick=\"convertToInteractive('df-ded3a394-42e4-4a87-8c21-82a2a2fda5ae')\"\n",
              "              title=\"Convert this dataframe to an interactive table.\"\n",
              "              style=\"display:none;\">\n",
              "        \n",
              "  <svg xmlns=\"http://www.w3.org/2000/svg\" height=\"24px\"viewBox=\"0 0 24 24\"\n",
              "       width=\"24px\">\n",
              "    <path d=\"M0 0h24v24H0V0z\" fill=\"none\"/>\n",
              "    <path d=\"M18.56 5.44l.94 2.06.94-2.06 2.06-.94-2.06-.94-.94-2.06-.94 2.06-2.06.94zm-11 1L8.5 8.5l.94-2.06 2.06-.94-2.06-.94L8.5 2.5l-.94 2.06-2.06.94zm10 10l.94 2.06.94-2.06 2.06-.94-2.06-.94-.94-2.06-.94 2.06-2.06.94z\"/><path d=\"M17.41 7.96l-1.37-1.37c-.4-.4-.92-.59-1.43-.59-.52 0-1.04.2-1.43.59L10.3 9.45l-7.72 7.72c-.78.78-.78 2.05 0 2.83L4 21.41c.39.39.9.59 1.41.59.51 0 1.02-.2 1.41-.59l7.78-7.78 2.81-2.81c.8-.78.8-2.07 0-2.86zM5.41 20L4 18.59l7.72-7.72 1.47 1.35L5.41 20z\"/>\n",
              "  </svg>\n",
              "      </button>\n",
              "      \n",
              "  <style>\n",
              "    .colab-df-container {\n",
              "      display:flex;\n",
              "      flex-wrap:wrap;\n",
              "      gap: 12px;\n",
              "    }\n",
              "\n",
              "    .colab-df-convert {\n",
              "      background-color: #E8F0FE;\n",
              "      border: none;\n",
              "      border-radius: 50%;\n",
              "      cursor: pointer;\n",
              "      display: none;\n",
              "      fill: #1967D2;\n",
              "      height: 32px;\n",
              "      padding: 0 0 0 0;\n",
              "      width: 32px;\n",
              "    }\n",
              "\n",
              "    .colab-df-convert:hover {\n",
              "      background-color: #E2EBFA;\n",
              "      box-shadow: 0px 1px 2px rgba(60, 64, 67, 0.3), 0px 1px 3px 1px rgba(60, 64, 67, 0.15);\n",
              "      fill: #174EA6;\n",
              "    }\n",
              "\n",
              "    [theme=dark] .colab-df-convert {\n",
              "      background-color: #3B4455;\n",
              "      fill: #D2E3FC;\n",
              "    }\n",
              "\n",
              "    [theme=dark] .colab-df-convert:hover {\n",
              "      background-color: #434B5C;\n",
              "      box-shadow: 0px 1px 3px 1px rgba(0, 0, 0, 0.15);\n",
              "      filter: drop-shadow(0px 1px 2px rgba(0, 0, 0, 0.3));\n",
              "      fill: #FFFFFF;\n",
              "    }\n",
              "  </style>\n",
              "\n",
              "      <script>\n",
              "        const buttonEl =\n",
              "          document.querySelector('#df-ded3a394-42e4-4a87-8c21-82a2a2fda5ae button.colab-df-convert');\n",
              "        buttonEl.style.display =\n",
              "          google.colab.kernel.accessAllowed ? 'block' : 'none';\n",
              "\n",
              "        async function convertToInteractive(key) {\n",
              "          const element = document.querySelector('#df-ded3a394-42e4-4a87-8c21-82a2a2fda5ae');\n",
              "          const dataTable =\n",
              "            await google.colab.kernel.invokeFunction('convertToInteractive',\n",
              "                                                     [key], {});\n",
              "          if (!dataTable) return;\n",
              "\n",
              "          const docLinkHtml = 'Like what you see? Visit the ' +\n",
              "            '<a target=\"_blank\" href=https://colab.research.google.com/notebooks/data_table.ipynb>data table notebook</a>'\n",
              "            + ' to learn more about interactive tables.';\n",
              "          element.innerHTML = '';\n",
              "          dataTable['output_type'] = 'display_data';\n",
              "          await google.colab.output.renderOutput(dataTable, element);\n",
              "          const docLink = document.createElement('div');\n",
              "          docLink.innerHTML = docLinkHtml;\n",
              "          element.appendChild(docLink);\n",
              "        }\n",
              "      </script>\n",
              "    </div>\n",
              "  </div>\n",
              "  "
            ]
          },
          "metadata": {},
          "execution_count": 15
        }
      ]
    },
    {
      "cell_type": "code",
      "source": [
        "A3 = pd.DataFrame(df3[df3['Position'] == 1].groupby(['AC No','Party'])['Votes'].max())\n",
        "A3.reset_index(inplace = True)\n",
        "A3.head()"
      ],
      "metadata": {
        "colab": {
          "base_uri": "https://localhost:8080/",
          "height": 206
        },
        "id": "2pYhD3x908DP",
        "outputId": "f0db564b-acb5-437f-cbdd-0209bb68a4b5"
      },
      "execution_count": null,
      "outputs": [
        {
          "output_type": "execute_result",
          "data": {
            "text/plain": [
              "   AC No                  Party  Votes\n",
              "0      1    Janata Dal (United)  42289\n",
              "1      2  Bharatiya Janta Party  51993\n",
              "2      3  Bharatiya Janta Party  45022\n",
              "3      4    Janata Dal (United)  67510\n",
              "4      5            Independent  38381"
            ],
            "text/html": [
              "\n",
              "  <div id=\"df-d170f989-ef37-41c6-aa2e-72b0a2d01208\">\n",
              "    <div class=\"colab-df-container\">\n",
              "      <div>\n",
              "<style scoped>\n",
              "    .dataframe tbody tr th:only-of-type {\n",
              "        vertical-align: middle;\n",
              "    }\n",
              "\n",
              "    .dataframe tbody tr th {\n",
              "        vertical-align: top;\n",
              "    }\n",
              "\n",
              "    .dataframe thead th {\n",
              "        text-align: right;\n",
              "    }\n",
              "</style>\n",
              "<table border=\"1\" class=\"dataframe\">\n",
              "  <thead>\n",
              "    <tr style=\"text-align: right;\">\n",
              "      <th></th>\n",
              "      <th>AC No</th>\n",
              "      <th>Party</th>\n",
              "      <th>Votes</th>\n",
              "    </tr>\n",
              "  </thead>\n",
              "  <tbody>\n",
              "    <tr>\n",
              "      <th>0</th>\n",
              "      <td>1</td>\n",
              "      <td>Janata Dal (United)</td>\n",
              "      <td>42289</td>\n",
              "    </tr>\n",
              "    <tr>\n",
              "      <th>1</th>\n",
              "      <td>2</td>\n",
              "      <td>Bharatiya Janta Party</td>\n",
              "      <td>51993</td>\n",
              "    </tr>\n",
              "    <tr>\n",
              "      <th>2</th>\n",
              "      <td>3</td>\n",
              "      <td>Bharatiya Janta Party</td>\n",
              "      <td>45022</td>\n",
              "    </tr>\n",
              "    <tr>\n",
              "      <th>3</th>\n",
              "      <td>4</td>\n",
              "      <td>Janata Dal (United)</td>\n",
              "      <td>67510</td>\n",
              "    </tr>\n",
              "    <tr>\n",
              "      <th>4</th>\n",
              "      <td>5</td>\n",
              "      <td>Independent</td>\n",
              "      <td>38381</td>\n",
              "    </tr>\n",
              "  </tbody>\n",
              "</table>\n",
              "</div>\n",
              "      <button class=\"colab-df-convert\" onclick=\"convertToInteractive('df-d170f989-ef37-41c6-aa2e-72b0a2d01208')\"\n",
              "              title=\"Convert this dataframe to an interactive table.\"\n",
              "              style=\"display:none;\">\n",
              "        \n",
              "  <svg xmlns=\"http://www.w3.org/2000/svg\" height=\"24px\"viewBox=\"0 0 24 24\"\n",
              "       width=\"24px\">\n",
              "    <path d=\"M0 0h24v24H0V0z\" fill=\"none\"/>\n",
              "    <path d=\"M18.56 5.44l.94 2.06.94-2.06 2.06-.94-2.06-.94-.94-2.06-.94 2.06-2.06.94zm-11 1L8.5 8.5l.94-2.06 2.06-.94-2.06-.94L8.5 2.5l-.94 2.06-2.06.94zm10 10l.94 2.06.94-2.06 2.06-.94-2.06-.94-.94-2.06-.94 2.06-2.06.94z\"/><path d=\"M17.41 7.96l-1.37-1.37c-.4-.4-.92-.59-1.43-.59-.52 0-1.04.2-1.43.59L10.3 9.45l-7.72 7.72c-.78.78-.78 2.05 0 2.83L4 21.41c.39.39.9.59 1.41.59.51 0 1.02-.2 1.41-.59l7.78-7.78 2.81-2.81c.8-.78.8-2.07 0-2.86zM5.41 20L4 18.59l7.72-7.72 1.47 1.35L5.41 20z\"/>\n",
              "  </svg>\n",
              "      </button>\n",
              "      \n",
              "  <style>\n",
              "    .colab-df-container {\n",
              "      display:flex;\n",
              "      flex-wrap:wrap;\n",
              "      gap: 12px;\n",
              "    }\n",
              "\n",
              "    .colab-df-convert {\n",
              "      background-color: #E8F0FE;\n",
              "      border: none;\n",
              "      border-radius: 50%;\n",
              "      cursor: pointer;\n",
              "      display: none;\n",
              "      fill: #1967D2;\n",
              "      height: 32px;\n",
              "      padding: 0 0 0 0;\n",
              "      width: 32px;\n",
              "    }\n",
              "\n",
              "    .colab-df-convert:hover {\n",
              "      background-color: #E2EBFA;\n",
              "      box-shadow: 0px 1px 2px rgba(60, 64, 67, 0.3), 0px 1px 3px 1px rgba(60, 64, 67, 0.15);\n",
              "      fill: #174EA6;\n",
              "    }\n",
              "\n",
              "    [theme=dark] .colab-df-convert {\n",
              "      background-color: #3B4455;\n",
              "      fill: #D2E3FC;\n",
              "    }\n",
              "\n",
              "    [theme=dark] .colab-df-convert:hover {\n",
              "      background-color: #434B5C;\n",
              "      box-shadow: 0px 1px 3px 1px rgba(0, 0, 0, 0.15);\n",
              "      filter: drop-shadow(0px 1px 2px rgba(0, 0, 0, 0.3));\n",
              "      fill: #FFFFFF;\n",
              "    }\n",
              "  </style>\n",
              "\n",
              "      <script>\n",
              "        const buttonEl =\n",
              "          document.querySelector('#df-d170f989-ef37-41c6-aa2e-72b0a2d01208 button.colab-df-convert');\n",
              "        buttonEl.style.display =\n",
              "          google.colab.kernel.accessAllowed ? 'block' : 'none';\n",
              "\n",
              "        async function convertToInteractive(key) {\n",
              "          const element = document.querySelector('#df-d170f989-ef37-41c6-aa2e-72b0a2d01208');\n",
              "          const dataTable =\n",
              "            await google.colab.kernel.invokeFunction('convertToInteractive',\n",
              "                                                     [key], {});\n",
              "          if (!dataTable) return;\n",
              "\n",
              "          const docLinkHtml = 'Like what you see? Visit the ' +\n",
              "            '<a target=\"_blank\" href=https://colab.research.google.com/notebooks/data_table.ipynb>data table notebook</a>'\n",
              "            + ' to learn more about interactive tables.';\n",
              "          element.innerHTML = '';\n",
              "          dataTable['output_type'] = 'display_data';\n",
              "          await google.colab.output.renderOutput(dataTable, element);\n",
              "          const docLink = document.createElement('div');\n",
              "          docLink.innerHTML = docLinkHtml;\n",
              "          element.appendChild(docLink);\n",
              "        }\n",
              "      </script>\n",
              "    </div>\n",
              "  </div>\n",
              "  "
            ]
          },
          "metadata": {},
          "execution_count": 16
        }
      ]
    },
    {
      "cell_type": "code",
      "source": [
        "A4 = pd.DataFrame(df4[df4['Position'] == 1].groupby(['AC No','Party'])['Votes'].max())\n",
        "A4.reset_index(inplace = True)\n",
        "A4.head()"
      ],
      "metadata": {
        "colab": {
          "base_uri": "https://localhost:8080/",
          "height": 206
        },
        "id": "RAvhh4BF0-m_",
        "outputId": "6ccd91b1-0994-4d5d-ebee-c6b60f7141e0"
      },
      "execution_count": null,
      "outputs": [
        {
          "output_type": "execute_result",
          "data": {
            "text/plain": [
              "   AC No                     Party  Votes\n",
              "0      1               Independent  66860\n",
              "1      2     Bharatiya Janta Party  82166\n",
              "2      3  Indian National Congress  57212\n",
              "3      4     Bharatiya Janta Party  74476\n",
              "4      5     Bharatiya Janta Party  57351"
            ],
            "text/html": [
              "\n",
              "  <div id=\"df-02caa017-c236-4a82-beed-b47dac66a922\">\n",
              "    <div class=\"colab-df-container\">\n",
              "      <div>\n",
              "<style scoped>\n",
              "    .dataframe tbody tr th:only-of-type {\n",
              "        vertical-align: middle;\n",
              "    }\n",
              "\n",
              "    .dataframe tbody tr th {\n",
              "        vertical-align: top;\n",
              "    }\n",
              "\n",
              "    .dataframe thead th {\n",
              "        text-align: right;\n",
              "    }\n",
              "</style>\n",
              "<table border=\"1\" class=\"dataframe\">\n",
              "  <thead>\n",
              "    <tr style=\"text-align: right;\">\n",
              "      <th></th>\n",
              "      <th>AC No</th>\n",
              "      <th>Party</th>\n",
              "      <th>Votes</th>\n",
              "    </tr>\n",
              "  </thead>\n",
              "  <tbody>\n",
              "    <tr>\n",
              "      <th>0</th>\n",
              "      <td>1</td>\n",
              "      <td>Independent</td>\n",
              "      <td>66860</td>\n",
              "    </tr>\n",
              "    <tr>\n",
              "      <th>1</th>\n",
              "      <td>2</td>\n",
              "      <td>Bharatiya Janta Party</td>\n",
              "      <td>82166</td>\n",
              "    </tr>\n",
              "    <tr>\n",
              "      <th>2</th>\n",
              "      <td>3</td>\n",
              "      <td>Indian National Congress</td>\n",
              "      <td>57212</td>\n",
              "    </tr>\n",
              "    <tr>\n",
              "      <th>3</th>\n",
              "      <td>4</td>\n",
              "      <td>Bharatiya Janta Party</td>\n",
              "      <td>74476</td>\n",
              "    </tr>\n",
              "    <tr>\n",
              "      <th>4</th>\n",
              "      <td>5</td>\n",
              "      <td>Bharatiya Janta Party</td>\n",
              "      <td>57351</td>\n",
              "    </tr>\n",
              "  </tbody>\n",
              "</table>\n",
              "</div>\n",
              "      <button class=\"colab-df-convert\" onclick=\"convertToInteractive('df-02caa017-c236-4a82-beed-b47dac66a922')\"\n",
              "              title=\"Convert this dataframe to an interactive table.\"\n",
              "              style=\"display:none;\">\n",
              "        \n",
              "  <svg xmlns=\"http://www.w3.org/2000/svg\" height=\"24px\"viewBox=\"0 0 24 24\"\n",
              "       width=\"24px\">\n",
              "    <path d=\"M0 0h24v24H0V0z\" fill=\"none\"/>\n",
              "    <path d=\"M18.56 5.44l.94 2.06.94-2.06 2.06-.94-2.06-.94-.94-2.06-.94 2.06-2.06.94zm-11 1L8.5 8.5l.94-2.06 2.06-.94-2.06-.94L8.5 2.5l-.94 2.06-2.06.94zm10 10l.94 2.06.94-2.06 2.06-.94-2.06-.94-.94-2.06-.94 2.06-2.06.94z\"/><path d=\"M17.41 7.96l-1.37-1.37c-.4-.4-.92-.59-1.43-.59-.52 0-1.04.2-1.43.59L10.3 9.45l-7.72 7.72c-.78.78-.78 2.05 0 2.83L4 21.41c.39.39.9.59 1.41.59.51 0 1.02-.2 1.41-.59l7.78-7.78 2.81-2.81c.8-.78.8-2.07 0-2.86zM5.41 20L4 18.59l7.72-7.72 1.47 1.35L5.41 20z\"/>\n",
              "  </svg>\n",
              "      </button>\n",
              "      \n",
              "  <style>\n",
              "    .colab-df-container {\n",
              "      display:flex;\n",
              "      flex-wrap:wrap;\n",
              "      gap: 12px;\n",
              "    }\n",
              "\n",
              "    .colab-df-convert {\n",
              "      background-color: #E8F0FE;\n",
              "      border: none;\n",
              "      border-radius: 50%;\n",
              "      cursor: pointer;\n",
              "      display: none;\n",
              "      fill: #1967D2;\n",
              "      height: 32px;\n",
              "      padding: 0 0 0 0;\n",
              "      width: 32px;\n",
              "    }\n",
              "\n",
              "    .colab-df-convert:hover {\n",
              "      background-color: #E2EBFA;\n",
              "      box-shadow: 0px 1px 2px rgba(60, 64, 67, 0.3), 0px 1px 3px 1px rgba(60, 64, 67, 0.15);\n",
              "      fill: #174EA6;\n",
              "    }\n",
              "\n",
              "    [theme=dark] .colab-df-convert {\n",
              "      background-color: #3B4455;\n",
              "      fill: #D2E3FC;\n",
              "    }\n",
              "\n",
              "    [theme=dark] .colab-df-convert:hover {\n",
              "      background-color: #434B5C;\n",
              "      box-shadow: 0px 1px 3px 1px rgba(0, 0, 0, 0.15);\n",
              "      filter: drop-shadow(0px 1px 2px rgba(0, 0, 0, 0.3));\n",
              "      fill: #FFFFFF;\n",
              "    }\n",
              "  </style>\n",
              "\n",
              "      <script>\n",
              "        const buttonEl =\n",
              "          document.querySelector('#df-02caa017-c236-4a82-beed-b47dac66a922 button.colab-df-convert');\n",
              "        buttonEl.style.display =\n",
              "          google.colab.kernel.accessAllowed ? 'block' : 'none';\n",
              "\n",
              "        async function convertToInteractive(key) {\n",
              "          const element = document.querySelector('#df-02caa017-c236-4a82-beed-b47dac66a922');\n",
              "          const dataTable =\n",
              "            await google.colab.kernel.invokeFunction('convertToInteractive',\n",
              "                                                     [key], {});\n",
              "          if (!dataTable) return;\n",
              "\n",
              "          const docLinkHtml = 'Like what you see? Visit the ' +\n",
              "            '<a target=\"_blank\" href=https://colab.research.google.com/notebooks/data_table.ipynb>data table notebook</a>'\n",
              "            + ' to learn more about interactive tables.';\n",
              "          element.innerHTML = '';\n",
              "          dataTable['output_type'] = 'display_data';\n",
              "          await google.colab.output.renderOutput(dataTable, element);\n",
              "          const docLink = document.createElement('div');\n",
              "          docLink.innerHTML = docLinkHtml;\n",
              "          element.appendChild(docLink);\n",
              "        }\n",
              "      </script>\n",
              "    </div>\n",
              "  </div>\n",
              "  "
            ]
          },
          "metadata": {},
          "execution_count": 17
        }
      ]
    },
    {
      "cell_type": "code",
      "source": [
        "A5 = pd.DataFrame()\n",
        "A5['AC No'] = A1['AC No']\n",
        "A5['2005-Feb'] = A1['Party']\n",
        "A5['2005-Oct'] = A2['Party']\n",
        "A5['2010'] = A3['Party']\n",
        "A5['2015'] = A4['Party']\n",
        "A5.head()"
      ],
      "metadata": {
        "colab": {
          "base_uri": "https://localhost:8080/",
          "height": 206
        },
        "id": "TBMRXrl-0uvS",
        "outputId": "a72668c9-b1e1-40c5-af6b-d2b60065151e"
      },
      "execution_count": null,
      "outputs": [
        {
          "output_type": "execute_result",
          "data": {
            "text/plain": [
              "   AC No                    2005-Feb                  2005-Oct  \\\n",
              "0      1        Rashtriya Janata Dal      Rashtriya Janata Dal   \n",
              "1      2         Janata Dal (United)       Janata Dal (United)   \n",
              "2      3       Bharatiya Janta Party     Bharatiya Janta Party   \n",
              "3      4  Nationalist Congress Party     Bharatiya Janta Party   \n",
              "4      5             Samajwadi Party  Indian National Congress   \n",
              "\n",
              "                    2010                      2015  \n",
              "0    Janata Dal (United)               Independent  \n",
              "1  Bharatiya Janta Party     Bharatiya Janta Party  \n",
              "2  Bharatiya Janta Party  Indian National Congress  \n",
              "3    Janata Dal (United)     Bharatiya Janta Party  \n",
              "4            Independent     Bharatiya Janta Party  "
            ],
            "text/html": [
              "\n",
              "  <div id=\"df-3f70d88a-8e17-42aa-b9d8-b9856f60a810\">\n",
              "    <div class=\"colab-df-container\">\n",
              "      <div>\n",
              "<style scoped>\n",
              "    .dataframe tbody tr th:only-of-type {\n",
              "        vertical-align: middle;\n",
              "    }\n",
              "\n",
              "    .dataframe tbody tr th {\n",
              "        vertical-align: top;\n",
              "    }\n",
              "\n",
              "    .dataframe thead th {\n",
              "        text-align: right;\n",
              "    }\n",
              "</style>\n",
              "<table border=\"1\" class=\"dataframe\">\n",
              "  <thead>\n",
              "    <tr style=\"text-align: right;\">\n",
              "      <th></th>\n",
              "      <th>AC No</th>\n",
              "      <th>2005-Feb</th>\n",
              "      <th>2005-Oct</th>\n",
              "      <th>2010</th>\n",
              "      <th>2015</th>\n",
              "    </tr>\n",
              "  </thead>\n",
              "  <tbody>\n",
              "    <tr>\n",
              "      <th>0</th>\n",
              "      <td>1</td>\n",
              "      <td>Rashtriya Janata Dal</td>\n",
              "      <td>Rashtriya Janata Dal</td>\n",
              "      <td>Janata Dal (United)</td>\n",
              "      <td>Independent</td>\n",
              "    </tr>\n",
              "    <tr>\n",
              "      <th>1</th>\n",
              "      <td>2</td>\n",
              "      <td>Janata Dal (United)</td>\n",
              "      <td>Janata Dal (United)</td>\n",
              "      <td>Bharatiya Janta Party</td>\n",
              "      <td>Bharatiya Janta Party</td>\n",
              "    </tr>\n",
              "    <tr>\n",
              "      <th>2</th>\n",
              "      <td>3</td>\n",
              "      <td>Bharatiya Janta Party</td>\n",
              "      <td>Bharatiya Janta Party</td>\n",
              "      <td>Bharatiya Janta Party</td>\n",
              "      <td>Indian National Congress</td>\n",
              "    </tr>\n",
              "    <tr>\n",
              "      <th>3</th>\n",
              "      <td>4</td>\n",
              "      <td>Nationalist Congress Party</td>\n",
              "      <td>Bharatiya Janta Party</td>\n",
              "      <td>Janata Dal (United)</td>\n",
              "      <td>Bharatiya Janta Party</td>\n",
              "    </tr>\n",
              "    <tr>\n",
              "      <th>4</th>\n",
              "      <td>5</td>\n",
              "      <td>Samajwadi Party</td>\n",
              "      <td>Indian National Congress</td>\n",
              "      <td>Independent</td>\n",
              "      <td>Bharatiya Janta Party</td>\n",
              "    </tr>\n",
              "  </tbody>\n",
              "</table>\n",
              "</div>\n",
              "      <button class=\"colab-df-convert\" onclick=\"convertToInteractive('df-3f70d88a-8e17-42aa-b9d8-b9856f60a810')\"\n",
              "              title=\"Convert this dataframe to an interactive table.\"\n",
              "              style=\"display:none;\">\n",
              "        \n",
              "  <svg xmlns=\"http://www.w3.org/2000/svg\" height=\"24px\"viewBox=\"0 0 24 24\"\n",
              "       width=\"24px\">\n",
              "    <path d=\"M0 0h24v24H0V0z\" fill=\"none\"/>\n",
              "    <path d=\"M18.56 5.44l.94 2.06.94-2.06 2.06-.94-2.06-.94-.94-2.06-.94 2.06-2.06.94zm-11 1L8.5 8.5l.94-2.06 2.06-.94-2.06-.94L8.5 2.5l-.94 2.06-2.06.94zm10 10l.94 2.06.94-2.06 2.06-.94-2.06-.94-.94-2.06-.94 2.06-2.06.94z\"/><path d=\"M17.41 7.96l-1.37-1.37c-.4-.4-.92-.59-1.43-.59-.52 0-1.04.2-1.43.59L10.3 9.45l-7.72 7.72c-.78.78-.78 2.05 0 2.83L4 21.41c.39.39.9.59 1.41.59.51 0 1.02-.2 1.41-.59l7.78-7.78 2.81-2.81c.8-.78.8-2.07 0-2.86zM5.41 20L4 18.59l7.72-7.72 1.47 1.35L5.41 20z\"/>\n",
              "  </svg>\n",
              "      </button>\n",
              "      \n",
              "  <style>\n",
              "    .colab-df-container {\n",
              "      display:flex;\n",
              "      flex-wrap:wrap;\n",
              "      gap: 12px;\n",
              "    }\n",
              "\n",
              "    .colab-df-convert {\n",
              "      background-color: #E8F0FE;\n",
              "      border: none;\n",
              "      border-radius: 50%;\n",
              "      cursor: pointer;\n",
              "      display: none;\n",
              "      fill: #1967D2;\n",
              "      height: 32px;\n",
              "      padding: 0 0 0 0;\n",
              "      width: 32px;\n",
              "    }\n",
              "\n",
              "    .colab-df-convert:hover {\n",
              "      background-color: #E2EBFA;\n",
              "      box-shadow: 0px 1px 2px rgba(60, 64, 67, 0.3), 0px 1px 3px 1px rgba(60, 64, 67, 0.15);\n",
              "      fill: #174EA6;\n",
              "    }\n",
              "\n",
              "    [theme=dark] .colab-df-convert {\n",
              "      background-color: #3B4455;\n",
              "      fill: #D2E3FC;\n",
              "    }\n",
              "\n",
              "    [theme=dark] .colab-df-convert:hover {\n",
              "      background-color: #434B5C;\n",
              "      box-shadow: 0px 1px 3px 1px rgba(0, 0, 0, 0.15);\n",
              "      filter: drop-shadow(0px 1px 2px rgba(0, 0, 0, 0.3));\n",
              "      fill: #FFFFFF;\n",
              "    }\n",
              "  </style>\n",
              "\n",
              "      <script>\n",
              "        const buttonEl =\n",
              "          document.querySelector('#df-3f70d88a-8e17-42aa-b9d8-b9856f60a810 button.colab-df-convert');\n",
              "        buttonEl.style.display =\n",
              "          google.colab.kernel.accessAllowed ? 'block' : 'none';\n",
              "\n",
              "        async function convertToInteractive(key) {\n",
              "          const element = document.querySelector('#df-3f70d88a-8e17-42aa-b9d8-b9856f60a810');\n",
              "          const dataTable =\n",
              "            await google.colab.kernel.invokeFunction('convertToInteractive',\n",
              "                                                     [key], {});\n",
              "          if (!dataTable) return;\n",
              "\n",
              "          const docLinkHtml = 'Like what you see? Visit the ' +\n",
              "            '<a target=\"_blank\" href=https://colab.research.google.com/notebooks/data_table.ipynb>data table notebook</a>'\n",
              "            + ' to learn more about interactive tables.';\n",
              "          element.innerHTML = '';\n",
              "          dataTable['output_type'] = 'display_data';\n",
              "          await google.colab.output.renderOutput(dataTable, element);\n",
              "          const docLink = document.createElement('div');\n",
              "          docLink.innerHTML = docLinkHtml;\n",
              "          element.appendChild(docLink);\n",
              "        }\n",
              "      </script>\n",
              "    </div>\n",
              "  </div>\n",
              "  "
            ]
          },
          "metadata": {},
          "execution_count": 18
        }
      ]
    },
    {
      "cell_type": "code",
      "source": [
        "A_5 = A5[(A5['2005-Feb'] != A5['2005-Oct']) & (A5['2005-Oct'] != A5['2010']) & (A5['2010'] != A5['2015'])]\n",
        "A_5"
      ],
      "metadata": {
        "colab": {
          "base_uri": "https://localhost:8080/",
          "height": 424
        },
        "id": "_1IMENve1Vt2",
        "outputId": "b3a8e354-6469-4682-9d1b-44dd3b456578"
      },
      "execution_count": null,
      "outputs": [
        {
          "output_type": "execute_result",
          "data": {
            "text/plain": [
              "     AC No                    2005-Feb                  2005-Oct  \\\n",
              "3        4  Nationalist Congress Party     Bharatiya Janta Party   \n",
              "4        5             Samajwadi Party  Indian National Congress   \n",
              "17      17       Bharatiya Janta Party      Rashtriya Janata Dal   \n",
              "18      17                 Independent      Lok Jan Shakti Party   \n",
              "20      19        Lok Jan Shakti Party       Bahujan Samaj Party   \n",
              "..     ...                         ...                       ...   \n",
              "229    230        Lok Jan Shakti Party       Janata Dal (United)   \n",
              "234    235        Rashtriya Janata Dal     Bharatiya Janta Party   \n",
              "239    240        Rashtriya Janata Dal     Bharatiya Janta Party   \n",
              "241    242        Lok Jan Shakti Party               Independent   \n",
              "242    243    Indian National Congress     Bharatiya Janta Party   \n",
              "\n",
              "                      2010                      2015  \n",
              "3      Janata Dal (United)     Bharatiya Janta Party  \n",
              "4              Independent     Bharatiya Janta Party  \n",
              "17     Janata Dal (United)     Bharatiya Janta Party  \n",
              "18   Bharatiya Janta Party      Rashtriya Janata Dal  \n",
              "20             Independent     Bharatiya Janta Party  \n",
              "..                     ...                       ...  \n",
              "229   Rashtriya Janata Dal     Bharatiya Janta Party  \n",
              "234    Janata Dal (United)      Rashtriya Janata Dal  \n",
              "239    Janata Dal (United)  Indian National Congress  \n",
              "241                    NaN     Bharatiya Janta Party  \n",
              "242                    NaN      Rashtriya Janata Dal  \n",
              "\n",
              "[85 rows x 5 columns]"
            ],
            "text/html": [
              "\n",
              "  <div id=\"df-d134360a-dc68-4245-8d02-17a84d9b879a\">\n",
              "    <div class=\"colab-df-container\">\n",
              "      <div>\n",
              "<style scoped>\n",
              "    .dataframe tbody tr th:only-of-type {\n",
              "        vertical-align: middle;\n",
              "    }\n",
              "\n",
              "    .dataframe tbody tr th {\n",
              "        vertical-align: top;\n",
              "    }\n",
              "\n",
              "    .dataframe thead th {\n",
              "        text-align: right;\n",
              "    }\n",
              "</style>\n",
              "<table border=\"1\" class=\"dataframe\">\n",
              "  <thead>\n",
              "    <tr style=\"text-align: right;\">\n",
              "      <th></th>\n",
              "      <th>AC No</th>\n",
              "      <th>2005-Feb</th>\n",
              "      <th>2005-Oct</th>\n",
              "      <th>2010</th>\n",
              "      <th>2015</th>\n",
              "    </tr>\n",
              "  </thead>\n",
              "  <tbody>\n",
              "    <tr>\n",
              "      <th>3</th>\n",
              "      <td>4</td>\n",
              "      <td>Nationalist Congress Party</td>\n",
              "      <td>Bharatiya Janta Party</td>\n",
              "      <td>Janata Dal (United)</td>\n",
              "      <td>Bharatiya Janta Party</td>\n",
              "    </tr>\n",
              "    <tr>\n",
              "      <th>4</th>\n",
              "      <td>5</td>\n",
              "      <td>Samajwadi Party</td>\n",
              "      <td>Indian National Congress</td>\n",
              "      <td>Independent</td>\n",
              "      <td>Bharatiya Janta Party</td>\n",
              "    </tr>\n",
              "    <tr>\n",
              "      <th>17</th>\n",
              "      <td>17</td>\n",
              "      <td>Bharatiya Janta Party</td>\n",
              "      <td>Rashtriya Janata Dal</td>\n",
              "      <td>Janata Dal (United)</td>\n",
              "      <td>Bharatiya Janta Party</td>\n",
              "    </tr>\n",
              "    <tr>\n",
              "      <th>18</th>\n",
              "      <td>17</td>\n",
              "      <td>Independent</td>\n",
              "      <td>Lok Jan Shakti Party</td>\n",
              "      <td>Bharatiya Janta Party</td>\n",
              "      <td>Rashtriya Janata Dal</td>\n",
              "    </tr>\n",
              "    <tr>\n",
              "      <th>20</th>\n",
              "      <td>19</td>\n",
              "      <td>Lok Jan Shakti Party</td>\n",
              "      <td>Bahujan Samaj Party</td>\n",
              "      <td>Independent</td>\n",
              "      <td>Bharatiya Janta Party</td>\n",
              "    </tr>\n",
              "    <tr>\n",
              "      <th>...</th>\n",
              "      <td>...</td>\n",
              "      <td>...</td>\n",
              "      <td>...</td>\n",
              "      <td>...</td>\n",
              "      <td>...</td>\n",
              "    </tr>\n",
              "    <tr>\n",
              "      <th>229</th>\n",
              "      <td>230</td>\n",
              "      <td>Lok Jan Shakti Party</td>\n",
              "      <td>Janata Dal (United)</td>\n",
              "      <td>Rashtriya Janata Dal</td>\n",
              "      <td>Bharatiya Janta Party</td>\n",
              "    </tr>\n",
              "    <tr>\n",
              "      <th>234</th>\n",
              "      <td>235</td>\n",
              "      <td>Rashtriya Janata Dal</td>\n",
              "      <td>Bharatiya Janta Party</td>\n",
              "      <td>Janata Dal (United)</td>\n",
              "      <td>Rashtriya Janata Dal</td>\n",
              "    </tr>\n",
              "    <tr>\n",
              "      <th>239</th>\n",
              "      <td>240</td>\n",
              "      <td>Rashtriya Janata Dal</td>\n",
              "      <td>Bharatiya Janta Party</td>\n",
              "      <td>Janata Dal (United)</td>\n",
              "      <td>Indian National Congress</td>\n",
              "    </tr>\n",
              "    <tr>\n",
              "      <th>241</th>\n",
              "      <td>242</td>\n",
              "      <td>Lok Jan Shakti Party</td>\n",
              "      <td>Independent</td>\n",
              "      <td>NaN</td>\n",
              "      <td>Bharatiya Janta Party</td>\n",
              "    </tr>\n",
              "    <tr>\n",
              "      <th>242</th>\n",
              "      <td>243</td>\n",
              "      <td>Indian National Congress</td>\n",
              "      <td>Bharatiya Janta Party</td>\n",
              "      <td>NaN</td>\n",
              "      <td>Rashtriya Janata Dal</td>\n",
              "    </tr>\n",
              "  </tbody>\n",
              "</table>\n",
              "<p>85 rows × 5 columns</p>\n",
              "</div>\n",
              "      <button class=\"colab-df-convert\" onclick=\"convertToInteractive('df-d134360a-dc68-4245-8d02-17a84d9b879a')\"\n",
              "              title=\"Convert this dataframe to an interactive table.\"\n",
              "              style=\"display:none;\">\n",
              "        \n",
              "  <svg xmlns=\"http://www.w3.org/2000/svg\" height=\"24px\"viewBox=\"0 0 24 24\"\n",
              "       width=\"24px\">\n",
              "    <path d=\"M0 0h24v24H0V0z\" fill=\"none\"/>\n",
              "    <path d=\"M18.56 5.44l.94 2.06.94-2.06 2.06-.94-2.06-.94-.94-2.06-.94 2.06-2.06.94zm-11 1L8.5 8.5l.94-2.06 2.06-.94-2.06-.94L8.5 2.5l-.94 2.06-2.06.94zm10 10l.94 2.06.94-2.06 2.06-.94-2.06-.94-.94-2.06-.94 2.06-2.06.94z\"/><path d=\"M17.41 7.96l-1.37-1.37c-.4-.4-.92-.59-1.43-.59-.52 0-1.04.2-1.43.59L10.3 9.45l-7.72 7.72c-.78.78-.78 2.05 0 2.83L4 21.41c.39.39.9.59 1.41.59.51 0 1.02-.2 1.41-.59l7.78-7.78 2.81-2.81c.8-.78.8-2.07 0-2.86zM5.41 20L4 18.59l7.72-7.72 1.47 1.35L5.41 20z\"/>\n",
              "  </svg>\n",
              "      </button>\n",
              "      \n",
              "  <style>\n",
              "    .colab-df-container {\n",
              "      display:flex;\n",
              "      flex-wrap:wrap;\n",
              "      gap: 12px;\n",
              "    }\n",
              "\n",
              "    .colab-df-convert {\n",
              "      background-color: #E8F0FE;\n",
              "      border: none;\n",
              "      border-radius: 50%;\n",
              "      cursor: pointer;\n",
              "      display: none;\n",
              "      fill: #1967D2;\n",
              "      height: 32px;\n",
              "      padding: 0 0 0 0;\n",
              "      width: 32px;\n",
              "    }\n",
              "\n",
              "    .colab-df-convert:hover {\n",
              "      background-color: #E2EBFA;\n",
              "      box-shadow: 0px 1px 2px rgba(60, 64, 67, 0.3), 0px 1px 3px 1px rgba(60, 64, 67, 0.15);\n",
              "      fill: #174EA6;\n",
              "    }\n",
              "\n",
              "    [theme=dark] .colab-df-convert {\n",
              "      background-color: #3B4455;\n",
              "      fill: #D2E3FC;\n",
              "    }\n",
              "\n",
              "    [theme=dark] .colab-df-convert:hover {\n",
              "      background-color: #434B5C;\n",
              "      box-shadow: 0px 1px 3px 1px rgba(0, 0, 0, 0.15);\n",
              "      filter: drop-shadow(0px 1px 2px rgba(0, 0, 0, 0.3));\n",
              "      fill: #FFFFFF;\n",
              "    }\n",
              "  </style>\n",
              "\n",
              "      <script>\n",
              "        const buttonEl =\n",
              "          document.querySelector('#df-d134360a-dc68-4245-8d02-17a84d9b879a button.colab-df-convert');\n",
              "        buttonEl.style.display =\n",
              "          google.colab.kernel.accessAllowed ? 'block' : 'none';\n",
              "\n",
              "        async function convertToInteractive(key) {\n",
              "          const element = document.querySelector('#df-d134360a-dc68-4245-8d02-17a84d9b879a');\n",
              "          const dataTable =\n",
              "            await google.colab.kernel.invokeFunction('convertToInteractive',\n",
              "                                                     [key], {});\n",
              "          if (!dataTable) return;\n",
              "\n",
              "          const docLinkHtml = 'Like what you see? Visit the ' +\n",
              "            '<a target=\"_blank\" href=https://colab.research.google.com/notebooks/data_table.ipynb>data table notebook</a>'\n",
              "            + ' to learn more about interactive tables.';\n",
              "          element.innerHTML = '';\n",
              "          dataTable['output_type'] = 'display_data';\n",
              "          await google.colab.output.renderOutput(dataTable, element);\n",
              "          const docLink = document.createElement('div');\n",
              "          docLink.innerHTML = docLinkHtml;\n",
              "          element.appendChild(docLink);\n",
              "        }\n",
              "      </script>\n",
              "    </div>\n",
              "  </div>\n",
              "  "
            ]
          },
          "metadata": {},
          "execution_count": 19
        }
      ]
    },
    {
      "cell_type": "code",
      "source": [
        "print(A_5['AC No'].tolist())"
      ],
      "metadata": {
        "colab": {
          "base_uri": "https://localhost:8080/"
        },
        "id": "qhvb4uIH1XYN",
        "outputId": "cd1cdc50-020f-435b-e231-23717d32b4c2"
      },
      "execution_count": null,
      "outputs": [
        {
          "output_type": "stream",
          "name": "stdout",
          "text": [
            "[4, 5, 17, 17, 19, 20, 21, 24, 25, 29, 30, 31, 32, 34, 36, 38, 46, 48, 49, 50, 51, 53, 54, 55, 58, 59, 61, 63, 65, 67, 68, 69, 71, 73, 76, 77, 79, 80, 81, 83, 84, 85, 88, 90, 92, 93, 94, 95, 97, 98, 100, 103, 106, 107, 108, 109, 113, 114, 117, 121, 123, 124, 133, 134, 137, 142, 156, 159, 165, 171, 172, 194, 196, 199, 201, 203, 209, 212, 218, 228, 230, 235, 240, 242, 243]\n"
          ]
        }
      ]
    },
    {
      "cell_type": "markdown",
      "source": [
        "The Above is the list of constituencies which categories as swing seats."
      ],
      "metadata": {
        "id": "cbkeOZCE1fBH"
      }
    },
    {
      "cell_type": "markdown",
      "source": [
        "Qc) Determine the top 8 parties at the state-level in each election in terms of getting\n",
        "the most votes.\n"
      ],
      "metadata": {
        "id": "4oip_aZp14Yh"
      }
    },
    {
      "cell_type": "code",
      "source": [
        "# Top 8 parties in terms of getting the most votes in Feb-2005 : \n",
        "df[df['Election Year'] == '2005-Feb'].groupby('Party')['Votes'].sum().sort_values(ascending = False).head(8)"
      ],
      "metadata": {
        "colab": {
          "base_uri": "https://localhost:8080/"
        },
        "id": "jeLS8J4u1dwm",
        "outputId": "2731c826-a90e-49d0-baed-875688e012e0"
      },
      "execution_count": null,
      "outputs": [
        {
          "output_type": "execute_result",
          "data": {
            "text/plain": [
              "Party\n",
              "Rashtriya Janata Dal        6140223\n",
              "Independent                 3957945\n",
              "Janata Dal (United)         3564930\n",
              "Lok Jan Shakti Party        3091173\n",
              "Bharatiya Janta Party       2686290\n",
              "Indian National Congress    1223835\n",
              "Bahujan Samaj Party         1080745\n",
              "Samajwadi Party              658791\n",
              "Name: Votes, dtype: int64"
            ]
          },
          "metadata": {},
          "execution_count": 21
        }
      ]
    },
    {
      "cell_type": "code",
      "source": [
        "df[df['Election Year'] == '2005-Feb'].groupby('Party')['Votes'].sum().sort_values(ascending = False).head(8).plot(kind = 'bar', color = 'r')\n",
        "plt.title('Top 8 Performing Parties in 2005-Feb Elections', fontsize = 10)\n",
        "plt.show()"
      ],
      "metadata": {
        "colab": {
          "base_uri": "https://localhost:8080/",
          "height": 408
        },
        "id": "63KLHyrF2SdT",
        "outputId": "2ea5eaf9-9a88-4021-d77b-d9a19b6baec7"
      },
      "execution_count": null,
      "outputs": [
        {
          "output_type": "display_data",
          "data": {
            "text/plain": [
              "<Figure size 432x288 with 1 Axes>"
            ],
            "image/png": "[encoded data removed]"
          },
          "metadata": {
            "needs_background": "light"
          }
        }
      ]
    },
    {
      "cell_type": "code",
      "source": [
        "# Top 8 parties in terms of getting the most votes in Oct-2005 : \n",
        "df[df['Election Year'] == '2005-Oct'].groupby('Party')['Votes'].sum().sort_values(ascending = False).head(8)"
      ],
      "metadata": {
        "colab": {
          "base_uri": "https://localhost:8080/"
        },
        "id": "K_N34yaL2xAB",
        "outputId": "ad9173bf-cbca-4d1f-b39f-bb43d7152785"
      },
      "execution_count": null,
      "outputs": [
        {
          "output_type": "execute_result",
          "data": {
            "text/plain": [
              "Party\n",
              "Rashtriya Janata Dal        5525081\n",
              "Janata Dal (United)         4819759\n",
              "Bharatiya Janta Party       3686720\n",
              "Lok Jan Shakti Party        2615901\n",
              "Independent                 2065744\n",
              "Indian National Congress    1435449\n",
              "Bahujan Samaj Party          981464\n",
              "Samajwadi Party              594266\n",
              "Name: Votes, dtype: int64"
            ]
          },
          "metadata": {},
          "execution_count": 23
        }
      ]
    },
    {
      "cell_type": "code",
      "source": [
        "df[df['Election Year'] == '2005-Oct'].groupby('Party')['Votes'].sum().sort_values(ascending = False).head(8).plot(kind = 'bar', color = 'b')\n",
        "plt.title('Top 8 Performing Parties in 2005-Oct Elections', fontsize = 10)\n",
        "plt.show()"
      ],
      "metadata": {
        "colab": {
          "base_uri": "https://localhost:8080/",
          "height": 408
        },
        "id": "XyaTKRMd25SN",
        "outputId": "f8a713c7-43f7-457d-c624-38253a0acd8c"
      },
      "execution_count": null,
      "outputs": [
        {
          "output_type": "display_data",
          "data": {
            "text/plain": [
              "<Figure size 432x288 with 1 Axes>"
            ],
            "image/png": "[encoded data removed]"
          },
          "metadata": {
            "needs_background": "light"
          }
        }
      ]
    },
    {
      "cell_type": "code",
      "source": [
        "# Top 8 parties in terms of getting the most votes in 2010 : \n",
        "df[df['Election Year'] == '2010'].groupby('Party')['Votes'].sum().sort_values(ascending = False).head(8)"
      ],
      "metadata": {
        "colab": {
          "base_uri": "https://localhost:8080/"
        },
        "id": "BS67PCSi2_2K",
        "outputId": "5823533c-0810-4a0f-e927-e53307e8f767"
      },
      "execution_count": null,
      "outputs": [
        {
          "output_type": "execute_result",
          "data": {
            "text/plain": [
              "Party\n",
              "Janata Dal (United)           6561906\n",
              "Rashtriya Janata Dal          5475656\n",
              "Bharatiya Janta Party         4790436\n",
              "Independent                   3842812\n",
              "Indian National Congress      2431477\n",
              "Lok Jan Shakti Party          1957232\n",
              "Bahujan Samaj Party            933947\n",
              "Nationalist Congress Party     528575\n",
              "Name: Votes, dtype: int64"
            ]
          },
          "metadata": {},
          "execution_count": 25
        }
      ]
    },
    {
      "cell_type": "code",
      "source": [
        "# Top 8 parties in terms of getting the most votes in 2010 :\n",
        "df[df['Election Year'] == '2010'].groupby('Party')['Votes'].sum().sort_values(ascending = False).head(8).plot(kind = 'bar', color = 'y')\n",
        "plt.title('Top 8 Performing Parties in 2010 Elections', fontsize = 10)\n",
        "plt.show()"
      ],
      "metadata": {
        "colab": {
          "base_uri": "https://localhost:8080/",
          "height": 415
        },
        "id": "nju-KVKu3I63",
        "outputId": "232e1048-fd46-4aec-b18d-f0d34ea4343e"
      },
      "execution_count": null,
      "outputs": [
        {
          "output_type": "display_data",
          "data": {
            "text/plain": [
              "<Figure size 432x288 with 1 Axes>"
            ],
            "image/png": "[encoded data removed]"
          },
          "metadata": {
            "needs_background": "light"
          }
        }
      ]
    },
    {
      "cell_type": "code",
      "source": [
        "# Top 8 parties in terms of getting the most votes in 2015 : \n",
        "df[df['Election Year'] == '2015'].groupby('Party')['Votes'].sum().sort_values(ascending = False).head(8)"
      ],
      "metadata": {
        "colab": {
          "base_uri": "https://localhost:8080/"
        },
        "id": "xFejIohM3OhH",
        "outputId": "dea51eb3-d894-42a2-fedc-8b9ff1612c2d"
      },
      "execution_count": null,
      "outputs": [
        {
          "output_type": "execute_result",
          "data": {
            "text/plain": [
              "Party\n",
              "Bharatiya Janta Party               9308015\n",
              "Rashtriya Janata Dal                6995509\n",
              "Janata Dal (United)                 6416414\n",
              "Independent                         3580953\n",
              "Indian National Congress            2539638\n",
              "Lok Jan Shakti Party                1840834\n",
              "Rashtriya Lok Samta Party            976787\n",
              "Hindustani Awam Morcha (Secular)     864856\n",
              "Name: Votes, dtype: int64"
            ]
          },
          "metadata": {},
          "execution_count": 27
        }
      ]
    },
    {
      "cell_type": "code",
      "source": [
        "df[df['Election Year'] == '2015'].groupby('Party')['Votes'].sum().sort_values(ascending = False).head(8).plot(kind = 'bar', color = 'g')\n",
        "plt.title('Top 8 Performing Parties in 2015 Elections', fontsize = 10)\n",
        "plt.show()"
      ],
      "metadata": {
        "colab": {
          "base_uri": "https://localhost:8080/",
          "height": 459
        },
        "id": "AI_1FTsa3dwM",
        "outputId": "de235752-45de-4fb9-940b-25865b35dfce"
      },
      "execution_count": null,
      "outputs": [
        {
          "output_type": "display_data",
          "data": {
            "text/plain": [
              "<Figure size 432x288 with 1 Axes>"
            ],
            "image/png": "[encoded data removed]"
          },
          "metadata": {
            "needs_background": "light"
          }
        }
      ]
    },
    {
      "cell_type": "markdown",
      "source": [
        "Q d) Determine the minimum votes that each party in the top 8 of the 2015 election\n",
        "secured among all the past elections. Do this for all constituencies.\n"
      ],
      "metadata": {
        "id": "M_YdUWJN4Fyu"
      }
    },
    {
      "cell_type": "code",
      "source": [
        "df[df['Party'] == 'Bharatiya Janta Party'].groupby('Election Year')['Votes'].sum().sort_values()"
      ],
      "metadata": {
        "colab": {
          "base_uri": "https://localhost:8080/"
        },
        "id": "CalkIk3P4FIJ",
        "outputId": "55d36116-7120-4bdd-8ade-e666b79bff7d"
      },
      "execution_count": null,
      "outputs": [
        {
          "output_type": "execute_result",
          "data": {
            "text/plain": [
              "Election Year\n",
              "2005-Feb    2686290\n",
              "2005-Oct    3686720\n",
              "2010        4790436\n",
              "2015        9308015\n",
              "Name: Votes, dtype: int64"
            ]
          },
          "metadata": {},
          "execution_count": 29
        }
      ]
    },
    {
      "cell_type": "markdown",
      "source": [
        "Bharatiya Janta Party secured minimum votes in the 2005-Feb Elections as compared to other elections."
      ],
      "metadata": {
        "id": "2lqbwLVN48HO"
      }
    },
    {
      "cell_type": "code",
      "source": [
        "df[df['Party'] == 'Rashtriya Janata Dal'].groupby('Election Year')['Votes'].sum().sort_values()"
      ],
      "metadata": {
        "colab": {
          "base_uri": "https://localhost:8080/"
        },
        "id": "_7nImkef5AT7",
        "outputId": "80befece-1df7-4d85-b7f8-dc001ac4a487"
      },
      "execution_count": null,
      "outputs": [
        {
          "output_type": "execute_result",
          "data": {
            "text/plain": [
              "Election Year\n",
              "2010        5475656\n",
              "2005-Oct    5525081\n",
              "2005-Feb    6140223\n",
              "2015        6995509\n",
              "Name: Votes, dtype: int64"
            ]
          },
          "metadata": {},
          "execution_count": 30
        }
      ]
    },
    {
      "cell_type": "markdown",
      "source": [
        "Rashtriya Janata Dal secured minimum votes in the 2010 Elections as compared to other elections."
      ],
      "metadata": {
        "id": "bhrNGQMU5E2Z"
      }
    },
    {
      "cell_type": "code",
      "source": [
        "df[df['Party'] == 'Janata Dal (United)'].groupby('Election Year')['Votes'].sum().sort_values()"
      ],
      "metadata": {
        "colab": {
          "base_uri": "https://localhost:8080/"
        },
        "id": "leNbAChF5Kic",
        "outputId": "7d9299fd-42fd-4d46-c381-308e5812a8b3"
      },
      "execution_count": null,
      "outputs": [
        {
          "output_type": "execute_result",
          "data": {
            "text/plain": [
              "Election Year\n",
              "2005-Feb    3564930\n",
              "2005-Oct    4819759\n",
              "2015        6416414\n",
              "2010        6561906\n",
              "Name: Votes, dtype: int64"
            ]
          },
          "metadata": {},
          "execution_count": 31
        }
      ]
    },
    {
      "cell_type": "markdown",
      "source": [
        "Janata Dal (United) secured minimum votes in the 2005-Feb Elections as compared to other elections."
      ],
      "metadata": {
        "id": "vQWji3oO5WAB"
      }
    },
    {
      "cell_type": "code",
      "source": [
        "df[df['Party'] == 'Independent'].groupby('Election Year')['Votes'].sum().sort_values()\n"
      ],
      "metadata": {
        "colab": {
          "base_uri": "https://localhost:8080/"
        },
        "id": "cStM0Gdg5XsT",
        "outputId": "c2e98028-0594-4ab3-a356-647733496123"
      },
      "execution_count": null,
      "outputs": [
        {
          "output_type": "execute_result",
          "data": {
            "text/plain": [
              "Election Year\n",
              "2005-Oct    2065744\n",
              "2015        3580953\n",
              "2010        3842812\n",
              "2005-Feb    3957945\n",
              "Name: Votes, dtype: int64"
            ]
          },
          "metadata": {},
          "execution_count": 32
        }
      ]
    },
    {
      "cell_type": "markdown",
      "source": [
        "Independent Candidates together secured minimum votes in the 2005-Oct Elections as compared to other elections."
      ],
      "metadata": {
        "id": "VXoIyLnY5gnK"
      }
    },
    {
      "cell_type": "code",
      "source": [
        "df[df['Party'] == 'Indian National Congress'].groupby('Election Year')['Votes'].sum().sort_values()"
      ],
      "metadata": {
        "colab": {
          "base_uri": "https://localhost:8080/"
        },
        "id": "9brVvpkS5Xpx",
        "outputId": "a74e79d6-ca82-4dce-e3cd-fa92be91fd80"
      },
      "execution_count": null,
      "outputs": [
        {
          "output_type": "execute_result",
          "data": {
            "text/plain": [
              "Election Year\n",
              "2005-Feb    1223835\n",
              "2005-Oct    1435449\n",
              "2010        2431477\n",
              "2015        2539638\n",
              "Name: Votes, dtype: int64"
            ]
          },
          "metadata": {},
          "execution_count": 33
        }
      ]
    },
    {
      "cell_type": "markdown",
      "source": [
        "Indian National Congress secured minimum votes in the 2005-Feb Elections as compared to other elections."
      ],
      "metadata": {
        "id": "rxx_GGro5qLK"
      }
    },
    {
      "cell_type": "code",
      "source": [
        "df[df['Party'] == 'Lok Jan Shakti Party'].groupby('Election Year')['Votes'].sum().sort_values()"
      ],
      "metadata": {
        "colab": {
          "base_uri": "https://localhost:8080/"
        },
        "id": "NpYH38zA5vd7",
        "outputId": "4b626838-1a99-4ad0-edda-093b80082a0f"
      },
      "execution_count": null,
      "outputs": [
        {
          "output_type": "execute_result",
          "data": {
            "text/plain": [
              "Election Year\n",
              "2015        1840834\n",
              "2010        1957232\n",
              "2005-Oct    2615901\n",
              "2005-Feb    3091173\n",
              "Name: Votes, dtype: int64"
            ]
          },
          "metadata": {},
          "execution_count": 34
        }
      ]
    },
    {
      "cell_type": "markdown",
      "source": [
        "Lok Jan Shakti Party secured minimum votes in the 2015 Elections as compared to other elections."
      ],
      "metadata": {
        "id": "UkSFN6XN51M2"
      }
    },
    {
      "cell_type": "code",
      "source": [
        "df[df['Party'] == 'Rashtriya Lok Samta Party'].groupby('Election Year')['Votes'].sum().sort_values()"
      ],
      "metadata": {
        "colab": {
          "base_uri": "https://localhost:8080/"
        },
        "id": "tiqW2XmN55Bj",
        "outputId": "8f20bba1-286d-410e-8e60-b5d7a00bde09"
      },
      "execution_count": null,
      "outputs": [
        {
          "output_type": "execute_result",
          "data": {
            "text/plain": [
              "Election Year\n",
              "2015    976787\n",
              "Name: Votes, dtype: int64"
            ]
          },
          "metadata": {},
          "execution_count": 35
        }
      ]
    },
    {
      "cell_type": "markdown",
      "source": [
        "Rashtriya Lok Samta Party secured minimum votes in the 2015 Elections as compared to other elections."
      ],
      "metadata": {
        "id": "Z3avL1Do54TP"
      }
    },
    {
      "cell_type": "code",
      "source": [
        "df[df['Party'] == 'Hindustani Awam Morcha (Secular)'].groupby('Election Year')['Votes'].sum().sort_values()\n"
      ],
      "metadata": {
        "colab": {
          "base_uri": "https://localhost:8080/"
        },
        "id": "GkV18R5O6B-d",
        "outputId": "abe01c3e-035c-42cf-c6c9-995596128608"
      },
      "execution_count": null,
      "outputs": [
        {
          "output_type": "execute_result",
          "data": {
            "text/plain": [
              "Election Year\n",
              "2015    864856\n",
              "Name: Votes, dtype: int64"
            ]
          },
          "metadata": {},
          "execution_count": 36
        }
      ]
    },
    {
      "cell_type": "markdown",
      "source": [
        "Hindustani Awam Morcha (Secular) secured minimum votes in the 2015 Elections as compared to other elections."
      ],
      "metadata": {
        "id": "1InR3jVd6HUo"
      }
    },
    {
      "cell_type": "markdown",
      "source": [
        "Q e) Determine the consistently tri-polar constituencies. I.e Constituencies in which 3\n",
        "parties or more got greater than 10% of the vote shares in each election. The\n",
        "parties can be different for different elections."
      ],
      "metadata": {
        "id": "0CPC_FRy7IuT"
      }
    },
    {
      "cell_type": "code",
      "source": [
        "# Converting column 'Votes %' into numerical column by removing the % symbol from the values.\n",
        "\n",
        "df['Votes %%'] = df['Votes %'].apply(lambda x : x.replace('%', ''))\n",
        "df['Votes %%'] = pd.to_numeric(df['Votes %%'])\n",
        "df"
      ],
      "metadata": {
        "colab": {
          "base_uri": "https://localhost:8080/",
          "height": 424
        },
        "id": "ihqjEHMC67aP",
        "outputId": "33f689cf-e7e0-4b39-8347-1cfbf79a18b3"
      },
      "execution_count": null,
      "outputs": [
        {
          "output_type": "execute_result",
          "data": {
            "text/plain": [
              "      Election Year  Position                     Name  Votes Votes %  \\\n",
              "0              2010         1             Rajesh Singh  42289  29.40%   \n",
              "1              2010         2    Mukesh Kumar Kushwaha  27618  19.20%   \n",
              "2              2010         3  Dheerendra Pratap Singh  20886  14.50%   \n",
              "3              2010         4           Irshad Hussain  17747  12.40%   \n",
              "4              2010         5      Deep Narayan Mahato  14047   9.80%   \n",
              "...             ...       ...                      ...    ...     ...   \n",
              "12296      2005-Feb        15  Chandeshwar Prasad Gupt    534   0.60%   \n",
              "12297      2005-Feb        16             Tirpit Singh    498   0.60%   \n",
              "12298      2005-Feb        17        Surendra Rajbansi    437   0.50%   \n",
              "12299      2005-Feb        18       Nawin Kumar Paswan    415   0.50%   \n",
              "12300      2005-Feb        19               Ajay Kumar    407   0.50%   \n",
              "\n",
              "                          Party        AC name  AC No  Votes %%  \n",
              "0           Janata Dal (United)  Valmiki Nagar      1      29.4  \n",
              "1          Rashtriya Janata Dal  Valmiki Nagar      1      19.2  \n",
              "2           Bahujan Samaj Party  Valmiki Nagar      1      14.5  \n",
              "3      Indian National Congress  Valmiki Nagar      1      12.4  \n",
              "4                   Independent  Valmiki Nagar      1       9.8  \n",
              "...                         ...            ...    ...       ...  \n",
              "12296               Independent         Chakai    243       0.6  \n",
              "12297               Independent         Chakai    243       0.6  \n",
              "12298               Independent         Chakai    243       0.5  \n",
              "12299               Independent         Chakai    243       0.5  \n",
              "12300               Independent         Chakai    243       0.5  \n",
              "\n",
              "[12301 rows x 9 columns]"
            ],
            "text/html": [
              "\n",
              "  <div id=\"df-a469765e-b507-4605-a7c0-8722e554269b\">\n",
              "    <div class=\"colab-df-container\">\n",
              "      <div>\n",
              "<style scoped>\n",
              "    .dataframe tbody tr th:only-of-type {\n",
              "        vertical-align: middle;\n",
              "    }\n",
              "\n",
              "    .dataframe tbody tr th {\n",
              "        vertical-align: top;\n",
              "    }\n",
              "\n",
              "    .dataframe thead th {\n",
              "        text-align: right;\n",
              "    }\n",
              "</style>\n",
              "<table border=\"1\" class=\"dataframe\">\n",
              "  <thead>\n",
              "    <tr style=\"text-align: right;\">\n",
              "      <th></th>\n",
              "      <th>Election Year</th>\n",
              "      <th>Position</th>\n",
              "      <th>Name</th>\n",
              "      <th>Votes</th>\n",
              "      <th>Votes %</th>\n",
              "      <th>Party</th>\n",
              "      <th>AC name</th>\n",
              "      <th>AC No</th>\n",
              "      <th>Votes %%</th>\n",
              "    </tr>\n",
              "  </thead>\n",
              "  <tbody>\n",
              "    <tr>\n",
              "      <th>0</th>\n",
              "      <td>2010</td>\n",
              "      <td>1</td>\n",
              "      <td>Rajesh Singh</td>\n",
              "      <td>42289</td>\n",
              "      <td>29.40%</td>\n",
              "      <td>Janata Dal (United)</td>\n",
              "      <td>Valmiki Nagar</td>\n",
              "      <td>1</td>\n",
              "      <td>29.4</td>\n",
              "    </tr>\n",
              "    <tr>\n",
              "      <th>1</th>\n",
              "      <td>2010</td>\n",
              "      <td>2</td>\n",
              "      <td>Mukesh Kumar Kushwaha</td>\n",
              "      <td>27618</td>\n",
              "      <td>19.20%</td>\n",
              "      <td>Rashtriya Janata Dal</td>\n",
              "      <td>Valmiki Nagar</td>\n",
              "      <td>1</td>\n",
              "      <td>19.2</td>\n",
              "    </tr>\n",
              "    <tr>\n",
              "      <th>2</th>\n",
              "      <td>2010</td>\n",
              "      <td>3</td>\n",
              "      <td>Dheerendra Pratap Singh</td>\n",
              "      <td>20886</td>\n",
              "      <td>14.50%</td>\n",
              "      <td>Bahujan Samaj Party</td>\n",
              "      <td>Valmiki Nagar</td>\n",
              "      <td>1</td>\n",
              "      <td>14.5</td>\n",
              "    </tr>\n",
              "    <tr>\n",
              "      <th>3</th>\n",
              "      <td>2010</td>\n",
              "      <td>4</td>\n",
              "      <td>Irshad Hussain</td>\n",
              "      <td>17747</td>\n",
              "      <td>12.40%</td>\n",
              "      <td>Indian National Congress</td>\n",
              "      <td>Valmiki Nagar</td>\n",
              "      <td>1</td>\n",
              "      <td>12.4</td>\n",
              "    </tr>\n",
              "    <tr>\n",
              "      <th>4</th>\n",
              "      <td>2010</td>\n",
              "      <td>5</td>\n",
              "      <td>Deep Narayan Mahato</td>\n",
              "      <td>14047</td>\n",
              "      <td>9.80%</td>\n",
              "      <td>Independent</td>\n",
              "      <td>Valmiki Nagar</td>\n",
              "      <td>1</td>\n",
              "      <td>9.8</td>\n",
              "    </tr>\n",
              "    <tr>\n",
              "      <th>...</th>\n",
              "      <td>...</td>\n",
              "      <td>...</td>\n",
              "      <td>...</td>\n",
              "      <td>...</td>\n",
              "      <td>...</td>\n",
              "      <td>...</td>\n",
              "      <td>...</td>\n",
              "      <td>...</td>\n",
              "      <td>...</td>\n",
              "    </tr>\n",
              "    <tr>\n",
              "      <th>12296</th>\n",
              "      <td>2005-Feb</td>\n",
              "      <td>15</td>\n",
              "      <td>Chandeshwar Prasad Gupt</td>\n",
              "      <td>534</td>\n",
              "      <td>0.60%</td>\n",
              "      <td>Independent</td>\n",
              "      <td>Chakai</td>\n",
              "      <td>243</td>\n",
              "      <td>0.6</td>\n",
              "    </tr>\n",
              "    <tr>\n",
              "      <th>12297</th>\n",
              "      <td>2005-Feb</td>\n",
              "      <td>16</td>\n",
              "      <td>Tirpit Singh</td>\n",
              "      <td>498</td>\n",
              "      <td>0.60%</td>\n",
              "      <td>Independent</td>\n",
              "      <td>Chakai</td>\n",
              "      <td>243</td>\n",
              "      <td>0.6</td>\n",
              "    </tr>\n",
              "    <tr>\n",
              "      <th>12298</th>\n",
              "      <td>2005-Feb</td>\n",
              "      <td>17</td>\n",
              "      <td>Surendra Rajbansi</td>\n",
              "      <td>437</td>\n",
              "      <td>0.50%</td>\n",
              "      <td>Independent</td>\n",
              "      <td>Chakai</td>\n",
              "      <td>243</td>\n",
              "      <td>0.5</td>\n",
              "    </tr>\n",
              "    <tr>\n",
              "      <th>12299</th>\n",
              "      <td>2005-Feb</td>\n",
              "      <td>18</td>\n",
              "      <td>Nawin Kumar Paswan</td>\n",
              "      <td>415</td>\n",
              "      <td>0.50%</td>\n",
              "      <td>Independent</td>\n",
              "      <td>Chakai</td>\n",
              "      <td>243</td>\n",
              "      <td>0.5</td>\n",
              "    </tr>\n",
              "    <tr>\n",
              "      <th>12300</th>\n",
              "      <td>2005-Feb</td>\n",
              "      <td>19</td>\n",
              "      <td>Ajay Kumar</td>\n",
              "      <td>407</td>\n",
              "      <td>0.50%</td>\n",
              "      <td>Independent</td>\n",
              "      <td>Chakai</td>\n",
              "      <td>243</td>\n",
              "      <td>0.5</td>\n",
              "    </tr>\n",
              "  </tbody>\n",
              "</table>\n",
              "<p>12301 rows × 9 columns</p>\n",
              "</div>\n",
              "      <button class=\"colab-df-convert\" onclick=\"convertToInteractive('df-a469765e-b507-4605-a7c0-8722e554269b')\"\n",
              "              title=\"Convert this dataframe to an interactive table.\"\n",
              "              style=\"display:none;\">\n",
              "        \n",
              "  <svg xmlns=\"http://www.w3.org/2000/svg\" height=\"24px\"viewBox=\"0 0 24 24\"\n",
              "       width=\"24px\">\n",
              "    <path d=\"M0 0h24v24H0V0z\" fill=\"none\"/>\n",
              "    <path d=\"M18.56 5.44l.94 2.06.94-2.06 2.06-.94-2.06-.94-.94-2.06-.94 2.06-2.06.94zm-11 1L8.5 8.5l.94-2.06 2.06-.94-2.06-.94L8.5 2.5l-.94 2.06-2.06.94zm10 10l.94 2.06.94-2.06 2.06-.94-2.06-.94-.94-2.06-.94 2.06-2.06.94z\"/><path d=\"M17.41 7.96l-1.37-1.37c-.4-.4-.92-.59-1.43-.59-.52 0-1.04.2-1.43.59L10.3 9.45l-7.72 7.72c-.78.78-.78 2.05 0 2.83L4 21.41c.39.39.9.59 1.41.59.51 0 1.02-.2 1.41-.59l7.78-7.78 2.81-2.81c.8-.78.8-2.07 0-2.86zM5.41 20L4 18.59l7.72-7.72 1.47 1.35L5.41 20z\"/>\n",
              "  </svg>\n",
              "      </button>\n",
              "      \n",
              "  <style>\n",
              "    .colab-df-container {\n",
              "      display:flex;\n",
              "      flex-wrap:wrap;\n",
              "      gap: 12px;\n",
              "    }\n",
              "\n",
              "    .colab-df-convert {\n",
              "      background-color: #E8F0FE;\n",
              "      border: none;\n",
              "      border-radius: 50%;\n",
              "      cursor: pointer;\n",
              "      display: none;\n",
              "      fill: #1967D2;\n",
              "      height: 32px;\n",
              "      padding: 0 0 0 0;\n",
              "      width: 32px;\n",
              "    }\n",
              "\n",
              "    .colab-df-convert:hover {\n",
              "      background-color: #E2EBFA;\n",
              "      box-shadow: 0px 1px 2px rgba(60, 64, 67, 0.3), 0px 1px 3px 1px rgba(60, 64, 67, 0.15);\n",
              "      fill: #174EA6;\n",
              "    }\n",
              "\n",
              "    [theme=dark] .colab-df-convert {\n",
              "      background-color: #3B4455;\n",
              "      fill: #D2E3FC;\n",
              "    }\n",
              "\n",
              "    [theme=dark] .colab-df-convert:hover {\n",
              "      background-color: #434B5C;\n",
              "      box-shadow: 0px 1px 3px 1px rgba(0, 0, 0, 0.15);\n",
              "      filter: drop-shadow(0px 1px 2px rgba(0, 0, 0, 0.3));\n",
              "      fill: #FFFFFF;\n",
              "    }\n",
              "  </style>\n",
              "\n",
              "      <script>\n",
              "        const buttonEl =\n",
              "          document.querySelector('#df-a469765e-b507-4605-a7c0-8722e554269b button.colab-df-convert');\n",
              "        buttonEl.style.display =\n",
              "          google.colab.kernel.accessAllowed ? 'block' : 'none';\n",
              "\n",
              "        async function convertToInteractive(key) {\n",
              "          const element = document.querySelector('#df-a469765e-b507-4605-a7c0-8722e554269b');\n",
              "          const dataTable =\n",
              "            await google.colab.kernel.invokeFunction('convertToInteractive',\n",
              "                                                     [key], {});\n",
              "          if (!dataTable) return;\n",
              "\n",
              "          const docLinkHtml = 'Like what you see? Visit the ' +\n",
              "            '<a target=\"_blank\" href=https://colab.research.google.com/notebooks/data_table.ipynb>data table notebook</a>'\n",
              "            + ' to learn more about interactive tables.';\n",
              "          element.innerHTML = '';\n",
              "          dataTable['output_type'] = 'display_data';\n",
              "          await google.colab.output.renderOutput(dataTable, element);\n",
              "          const docLink = document.createElement('div');\n",
              "          docLink.innerHTML = docLinkHtml;\n",
              "          element.appendChild(docLink);\n",
              "        }\n",
              "      </script>\n",
              "    </div>\n",
              "  </div>\n",
              "  "
            ]
          },
          "metadata": {},
          "execution_count": 37
        }
      ]
    },
    {
      "cell_type": "code",
      "source": [
        "df['Votes %%'].dtype"
      ],
      "metadata": {
        "colab": {
          "base_uri": "https://localhost:8080/"
        },
        "id": "qWGfPCi18BTE",
        "outputId": "06fc3766-0c35-4d8e-fb5e-403b3fe65b64"
      },
      "execution_count": null,
      "outputs": [
        {
          "output_type": "execute_result",
          "data": {
            "text/plain": [
              "dtype('float64')"
            ]
          },
          "metadata": {},
          "execution_count": 38
        }
      ]
    },
    {
      "cell_type": "code",
      "source": [
        "df1 = df[df['Election Year'] == '2005-Feb']\n",
        "df2 = df[df['Election Year'] == '2005-Oct']\n",
        "df3= df[df['Election Year'] == '2010']\n",
        "df4 = df[df['Election Year'] == '2015']"
      ],
      "metadata": {
        "id": "VP8-Cbm3BM3-"
      },
      "execution_count": null,
      "outputs": []
    },
    {
      "cell_type": "code",
      "source": [
        "A11 = pd.DataFrame(df1[df1['Votes %%'] > 10].groupby(['AC No','Party'])['Votes %%'].max())\n",
        "A11.reset_index(inplace = True)\n",
        "A22 = pd.DataFrame(df2[df2['Votes %%'] > 10].groupby(['AC No','Party'])['Votes %%'].max())\n",
        "A22.reset_index(inplace = True)\n",
        "A33 = pd.DataFrame(df3[df3['Votes %%'] > 10].groupby(['AC No','Party'])['Votes %%'].max())\n",
        "A33.reset_index(inplace = True)\n",
        "A44 = pd.DataFrame(df4[df4['Votes %%'] > 10].groupby(['AC No','Party'])['Votes %%'].max())\n",
        "A44.reset_index(inplace = True)"
      ],
      "metadata": {
        "id": "jqfNhPnwLlrW"
      },
      "execution_count": null,
      "outputs": []
    },
    {
      "cell_type": "code",
      "source": [
        "A111 = pd.DataFrame(A11['AC No'].value_counts())\n",
        "A111.reset_index(inplace = True)\n",
        "A1111 = pd.DataFrame()\n",
        "A1111['AC No'] = A111['index']\n",
        "A1111['Count'] = A111['AC No']\n",
        "\n",
        "A222 = pd.DataFrame(A22['AC No'].value_counts())\n",
        "A222.reset_index(inplace = True)\n",
        "A2222 = pd.DataFrame()\n",
        "A2222['AC No'] = A222['index']\n",
        "A2222['Count'] = A222['AC No']\n",
        "\n",
        "A333 = pd.DataFrame(A33['AC No'].value_counts())\n",
        "A333.reset_index(inplace = True)\n",
        "A3333 = pd.DataFrame()\n",
        "A3333['AC No'] = A333['index']\n",
        "A3333['Count'] = A333['AC No']\n",
        "\n",
        "A444 = pd.DataFrame(A44['AC No'].value_counts())\n",
        "A444.reset_index(inplace = True)\n",
        "A4444 = pd.DataFrame()\n",
        "A4444['AC No'] = A444['index']\n",
        "A4444['Count'] = A444['AC No']"
      ],
      "metadata": {
        "id": "0sEFqbB8Lm81"
      },
      "execution_count": null,
      "outputs": []
    },
    {
      "cell_type": "code",
      "source": [
        "print(A1111[A1111['Count'] >= 3].sort_values(by = 'AC No')['AC No'].tolist())\n",
        "# Following is the list of tri-polar constituencies for the 2005-Feb Elections."
      ],
      "metadata": {
        "colab": {
          "base_uri": "https://localhost:8080/"
        },
        "id": "q7YBV30JLrkq",
        "outputId": "e0eab7a4-33b6-444f-c065-3f72ac4582b7"
      },
      "execution_count": null,
      "outputs": [
        {
          "output_type": "stream",
          "name": "stdout",
          "text": [
            "[1, 2, 3, 4, 5, 6, 7, 9, 10, 11, 12, 13, 14, 15, 16, 17, 18, 19, 20, 22, 23, 24, 25, 29, 30, 31, 35, 36, 38, 39, 40, 45, 46, 48, 49, 50, 53, 54, 55, 57, 58, 59, 61, 63, 64, 65, 66, 67, 68, 69, 70, 71, 72, 73, 74, 75, 76, 77, 78, 79, 80, 81, 82, 83, 85, 86, 88, 89, 90, 91, 92, 93, 95, 96, 97, 100, 101, 102, 103, 105, 107, 109, 110, 111, 112, 115, 116, 117, 118, 119, 120, 122, 123, 124, 125, 127, 128, 130, 132, 134, 135, 136, 137, 138, 141, 142, 143, 145, 146, 147, 148, 149, 150, 152, 156, 157, 158, 159, 160, 161, 162, 164, 165, 166, 168, 169, 172, 173, 175, 177, 178, 180, 182, 183, 185, 186, 187, 188, 189, 190, 191, 193, 194, 195, 196, 197, 198, 199, 200, 201, 202, 203, 204, 205, 206, 207, 208, 209, 211, 212, 213, 214, 215, 217, 218, 219, 221, 222, 223, 224, 227, 228, 230, 231, 233, 234, 235, 237, 243]\n"
          ]
        }
      ]
    },
    {
      "cell_type": "code",
      "source": [
        "\n",
        "print(A2222[A2222['Count'] >= 3].sort_values(by = 'AC No')['AC No'].tolist())\n",
        "# Following is the list of tri-polar constituencies for the 2005-Oct Elections."
      ],
      "metadata": {
        "colab": {
          "base_uri": "https://localhost:8080/"
        },
        "id": "KJjNXzCmLuAZ",
        "outputId": "3eca2668-26d6-4f7f-8345-791430eb724a"
      },
      "execution_count": null,
      "outputs": [
        {
          "output_type": "stream",
          "name": "stdout",
          "text": [
            "[1, 3, 5, 6, 7, 9, 10, 11, 12, 13, 14, 15, 19, 20, 21, 22, 23, 24, 25, 30, 31, 34, 38, 39, 42, 45, 46, 48, 49, 50, 51, 52, 55, 56, 57, 58, 61, 62, 63, 64, 65, 66, 67, 68, 70, 71, 72, 73, 75, 76, 78, 79, 80, 81, 83, 84, 85, 86, 87, 88, 91, 92, 94, 95, 96, 97, 98, 99, 100, 101, 102, 104, 105, 106, 107, 108, 109, 110, 113, 116, 117, 118, 120, 122, 124, 125, 127, 128, 130, 131, 132, 134, 135, 136, 137, 138, 139, 141, 144, 145, 146, 147, 148, 154, 155, 157, 159, 161, 164, 165, 166, 168, 169, 170, 171, 173, 177, 181, 182, 184, 185, 186, 187, 192, 194, 195, 196, 197, 199, 200, 202, 203, 205, 206, 207, 209, 210, 211, 212, 213, 214, 215, 218, 219, 220, 221, 222, 223, 224, 225, 226, 227, 228, 230, 231, 233, 234, 235, 236, 237, 238, 239, 241]\n"
          ]
        }
      ]
    },
    {
      "cell_type": "code",
      "source": [
        "print(A3333[A3333['Count'] >= 3].sort_values(by = 'AC No')['AC No'].tolist())\n",
        "# Following is the list of tri-polar constituencies for the 2010 Elections."
      ],
      "metadata": {
        "id": "zPckwiNDLwHS",
        "colab": {
          "base_uri": "https://localhost:8080/"
        },
        "outputId": "be5604ea-75f5-4522-ceb1-098e2dd48426"
      },
      "execution_count": null,
      "outputs": [
        {
          "output_type": "stream",
          "name": "stdout",
          "text": [
            "[1, 2, 3, 4, 5, 6, 8, 12, 14, 15, 16, 17, 18, 20, 21, 22, 23, 25, 26, 29, 30, 31, 32, 33, 37, 40, 41, 43, 49, 50, 51, 53, 54, 56, 57, 60, 61, 62, 63, 64, 65, 66, 67, 68, 69, 70, 71, 76, 77, 78, 79, 81, 82, 85, 87, 89, 90, 95, 96, 98, 102, 103, 106, 107, 108, 116, 117, 119, 120, 124, 129, 134, 138, 139, 141, 142, 143, 144, 146, 147, 149, 150, 155, 156, 158, 160, 161, 162, 164, 166, 168, 169, 170, 189, 190, 192, 195, 196, 197, 198, 199, 201, 202, 203, 204, 205, 206, 207, 209, 212, 213, 214, 216, 217, 220, 221, 223, 226, 234, 236, 237, 238, 243]\n"
          ]
        }
      ]
    },
    {
      "cell_type": "code",
      "source": [
        "print(A4444[A4444['Count'] >= 3].sort_values(by = 'AC No')['AC No'].tolist())\n",
        "# Following is the list of tri-polar constituencies for the 2015 Elections."
      ],
      "metadata": {
        "id": "DPRLPjLGL19r",
        "colab": {
          "base_uri": "https://localhost:8080/"
        },
        "outputId": "6f3f0375-c05b-4eb4-e102-5bdb9aaf190b"
      },
      "execution_count": null,
      "outputs": [
        {
          "output_type": "stream",
          "name": "stdout",
          "text": [
            "[1, 3, 5, 8, 10, 16, 17, 21, 22, 29, 31, 34, 48, 52, 55, 57, 60, 63, 64, 65, 66, 77, 95, 99, 103, 104, 105, 106, 107, 108, 113, 114, 120, 134, 137, 140, 142, 143, 147, 151, 155, 160, 161, 162, 169, 178, 189, 190, 191, 192, 195, 196, 197, 203, 206, 209, 212, 213, 214, 218, 219, 220, 221, 226, 238, 242, 243]\n"
          ]
        }
      ]
    },
    {
      "cell_type": "markdown",
      "source": [
        "Q f) Determine the stronghold party-seats. A stronghold seat is one that is won by the\n",
        "same party in all the elections."
      ],
      "metadata": {
        "id": "Aj9R0gio9uF1"
      }
    },
    {
      "cell_type": "code",
      "source": [
        "B1 = pd.DataFrame(df1[df1['Position'] == 1].groupby(['AC No','Party'])['Votes'].max())\n",
        "B1.reset_index(inplace = True)\n",
        "B1.head()"
      ],
      "metadata": {
        "colab": {
          "base_uri": "https://localhost:8080/",
          "height": 206
        },
        "id": "7q2TeXly9t56",
        "outputId": "19e338b5-3824-4a7b-c231-4fcd51260bda"
      },
      "execution_count": null,
      "outputs": [
        {
          "output_type": "execute_result",
          "data": {
            "text/plain": [
              "   AC No                       Party  Votes\n",
              "0      1        Rashtriya Janata Dal  19389\n",
              "1      2         Janata Dal (United)  59151\n",
              "2      3       Bharatiya Janta Party  20961\n",
              "3      4  Nationalist Congress Party  30421\n",
              "4      5             Samajwadi Party  26161"
            ],
            "text/html": [
              "\n",
              "  <div id=\"df-06e6a54e-b2d1-4455-887d-5a3604481aba\">\n",
              "    <div class=\"colab-df-container\">\n",
              "      <div>\n",
              "<style scoped>\n",
              "    .dataframe tbody tr th:only-of-type {\n",
              "        vertical-align: middle;\n",
              "    }\n",
              "\n",
              "    .dataframe tbody tr th {\n",
              "        vertical-align: top;\n",
              "    }\n",
              "\n",
              "    .dataframe thead th {\n",
              "        text-align: right;\n",
              "    }\n",
              "</style>\n",
              "<table border=\"1\" class=\"dataframe\">\n",
              "  <thead>\n",
              "    <tr style=\"text-align: right;\">\n",
              "      <th></th>\n",
              "      <th>AC No</th>\n",
              "      <th>Party</th>\n",
              "      <th>Votes</th>\n",
              "    </tr>\n",
              "  </thead>\n",
              "  <tbody>\n",
              "    <tr>\n",
              "      <th>0</th>\n",
              "      <td>1</td>\n",
              "      <td>Rashtriya Janata Dal</td>\n",
              "      <td>19389</td>\n",
              "    </tr>\n",
              "    <tr>\n",
              "      <th>1</th>\n",
              "      <td>2</td>\n",
              "      <td>Janata Dal (United)</td>\n",
              "      <td>59151</td>\n",
              "    </tr>\n",
              "    <tr>\n",
              "      <th>2</th>\n",
              "      <td>3</td>\n",
              "      <td>Bharatiya Janta Party</td>\n",
              "      <td>20961</td>\n",
              "    </tr>\n",
              "    <tr>\n",
              "      <th>3</th>\n",
              "      <td>4</td>\n",
              "      <td>Nationalist Congress Party</td>\n",
              "      <td>30421</td>\n",
              "    </tr>\n",
              "    <tr>\n",
              "      <th>4</th>\n",
              "      <td>5</td>\n",
              "      <td>Samajwadi Party</td>\n",
              "      <td>26161</td>\n",
              "    </tr>\n",
              "  </tbody>\n",
              "</table>\n",
              "</div>\n",
              "      <button class=\"colab-df-convert\" onclick=\"convertToInteractive('df-06e6a54e-b2d1-4455-887d-5a3604481aba')\"\n",
              "              title=\"Convert this dataframe to an interactive table.\"\n",
              "              style=\"display:none;\">\n",
              "        \n",
              "  <svg xmlns=\"http://www.w3.org/2000/svg\" height=\"24px\"viewBox=\"0 0 24 24\"\n",
              "       width=\"24px\">\n",
              "    <path d=\"M0 0h24v24H0V0z\" fill=\"none\"/>\n",
              "    <path d=\"M18.56 5.44l.94 2.06.94-2.06 2.06-.94-2.06-.94-.94-2.06-.94 2.06-2.06.94zm-11 1L8.5 8.5l.94-2.06 2.06-.94-2.06-.94L8.5 2.5l-.94 2.06-2.06.94zm10 10l.94 2.06.94-2.06 2.06-.94-2.06-.94-.94-2.06-.94 2.06-2.06.94z\"/><path d=\"M17.41 7.96l-1.37-1.37c-.4-.4-.92-.59-1.43-.59-.52 0-1.04.2-1.43.59L10.3 9.45l-7.72 7.72c-.78.78-.78 2.05 0 2.83L4 21.41c.39.39.9.59 1.41.59.51 0 1.02-.2 1.41-.59l7.78-7.78 2.81-2.81c.8-.78.8-2.07 0-2.86zM5.41 20L4 18.59l7.72-7.72 1.47 1.35L5.41 20z\"/>\n",
              "  </svg>\n",
              "      </button>\n",
              "      \n",
              "  <style>\n",
              "    .colab-df-container {\n",
              "      display:flex;\n",
              "      flex-wrap:wrap;\n",
              "      gap: 12px;\n",
              "    }\n",
              "\n",
              "    .colab-df-convert {\n",
              "      background-color: #E8F0FE;\n",
              "      border: none;\n",
              "      border-radius: 50%;\n",
              "      cursor: pointer;\n",
              "      display: none;\n",
              "      fill: #1967D2;\n",
              "      height: 32px;\n",
              "      padding: 0 0 0 0;\n",
              "      width: 32px;\n",
              "    }\n",
              "\n",
              "    .colab-df-convert:hover {\n",
              "      background-color: #E2EBFA;\n",
              "      box-shadow: 0px 1px 2px rgba(60, 64, 67, 0.3), 0px 1px 3px 1px rgba(60, 64, 67, 0.15);\n",
              "      fill: #174EA6;\n",
              "    }\n",
              "\n",
              "    [theme=dark] .colab-df-convert {\n",
              "      background-color: #3B4455;\n",
              "      fill: #D2E3FC;\n",
              "    }\n",
              "\n",
              "    [theme=dark] .colab-df-convert:hover {\n",
              "      background-color: #434B5C;\n",
              "      box-shadow: 0px 1px 3px 1px rgba(0, 0, 0, 0.15);\n",
              "      filter: drop-shadow(0px 1px 2px rgba(0, 0, 0, 0.3));\n",
              "      fill: #FFFFFF;\n",
              "    }\n",
              "  </style>\n",
              "\n",
              "      <script>\n",
              "        const buttonEl =\n",
              "          document.querySelector('#df-06e6a54e-b2d1-4455-887d-5a3604481aba button.colab-df-convert');\n",
              "        buttonEl.style.display =\n",
              "          google.colab.kernel.accessAllowed ? 'block' : 'none';\n",
              "\n",
              "        async function convertToInteractive(key) {\n",
              "          const element = document.querySelector('#df-06e6a54e-b2d1-4455-887d-5a3604481aba');\n",
              "          const dataTable =\n",
              "            await google.colab.kernel.invokeFunction('convertToInteractive',\n",
              "                                                     [key], {});\n",
              "          if (!dataTable) return;\n",
              "\n",
              "          const docLinkHtml = 'Like what you see? Visit the ' +\n",
              "            '<a target=\"_blank\" href=https://colab.research.google.com/notebooks/data_table.ipynb>data table notebook</a>'\n",
              "            + ' to learn more about interactive tables.';\n",
              "          element.innerHTML = '';\n",
              "          dataTable['output_type'] = 'display_data';\n",
              "          await google.colab.output.renderOutput(dataTable, element);\n",
              "          const docLink = document.createElement('div');\n",
              "          docLink.innerHTML = docLinkHtml;\n",
              "          element.appendChild(docLink);\n",
              "        }\n",
              "      </script>\n",
              "    </div>\n",
              "  </div>\n",
              "  "
            ]
          },
          "metadata": {},
          "execution_count": 46
        }
      ]
    },
    {
      "cell_type": "code",
      "source": [
        "B2 = pd.DataFrame(df2[df2['Position'] == 1].groupby(['AC No','Party'])['Votes'].max())\n",
        "B2.reset_index(inplace = True)\n",
        "B2.head()"
      ],
      "metadata": {
        "colab": {
          "base_uri": "https://localhost:8080/",
          "height": 206
        },
        "id": "l2IytSFK8ccv",
        "outputId": "e96140f0-3411-48d7-e7c8-1b6eddd6c9b7"
      },
      "execution_count": null,
      "outputs": [
        {
          "output_type": "execute_result",
          "data": {
            "text/plain": [
              "   AC No                     Party  Votes\n",
              "0      1      Rashtriya Janata Dal  19164\n",
              "1      2       Janata Dal (United)  60794\n",
              "2      3     Bharatiya Janta Party  39147\n",
              "3      4     Bharatiya Janta Party  35147\n",
              "4      5  Indian National Congress  35811"
            ],
            "text/html": [
              "\n",
              "  <div id=\"df-47c7e17f-edf6-46e9-93e7-92c42ac0838e\">\n",
              "    <div class=\"colab-df-container\">\n",
              "      <div>\n",
              "<style scoped>\n",
              "    .dataframe tbody tr th:only-of-type {\n",
              "        vertical-align: middle;\n",
              "    }\n",
              "\n",
              "    .dataframe tbody tr th {\n",
              "        vertical-align: top;\n",
              "    }\n",
              "\n",
              "    .dataframe thead th {\n",
              "        text-align: right;\n",
              "    }\n",
              "</style>\n",
              "<table border=\"1\" class=\"dataframe\">\n",
              "  <thead>\n",
              "    <tr style=\"text-align: right;\">\n",
              "      <th></th>\n",
              "      <th>AC No</th>\n",
              "      <th>Party</th>\n",
              "      <th>Votes</th>\n",
              "    </tr>\n",
              "  </thead>\n",
              "  <tbody>\n",
              "    <tr>\n",
              "      <th>0</th>\n",
              "      <td>1</td>\n",
              "      <td>Rashtriya Janata Dal</td>\n",
              "      <td>19164</td>\n",
              "    </tr>\n",
              "    <tr>\n",
              "      <th>1</th>\n",
              "      <td>2</td>\n",
              "      <td>Janata Dal (United)</td>\n",
              "      <td>60794</td>\n",
              "    </tr>\n",
              "    <tr>\n",
              "      <th>2</th>\n",
              "      <td>3</td>\n",
              "      <td>Bharatiya Janta Party</td>\n",
              "      <td>39147</td>\n",
              "    </tr>\n",
              "    <tr>\n",
              "      <th>3</th>\n",
              "      <td>4</td>\n",
              "      <td>Bharatiya Janta Party</td>\n",
              "      <td>35147</td>\n",
              "    </tr>\n",
              "    <tr>\n",
              "      <th>4</th>\n",
              "      <td>5</td>\n",
              "      <td>Indian National Congress</td>\n",
              "      <td>35811</td>\n",
              "    </tr>\n",
              "  </tbody>\n",
              "</table>\n",
              "</div>\n",
              "      <button class=\"colab-df-convert\" onclick=\"convertToInteractive('df-47c7e17f-edf6-46e9-93e7-92c42ac0838e')\"\n",
              "              title=\"Convert this dataframe to an interactive table.\"\n",
              "              style=\"display:none;\">\n",
              "        \n",
              "  <svg xmlns=\"http://www.w3.org/2000/svg\" height=\"24px\"viewBox=\"0 0 24 24\"\n",
              "       width=\"24px\">\n",
              "    <path d=\"M0 0h24v24H0V0z\" fill=\"none\"/>\n",
              "    <path d=\"M18.56 5.44l.94 2.06.94-2.06 2.06-.94-2.06-.94-.94-2.06-.94 2.06-2.06.94zm-11 1L8.5 8.5l.94-2.06 2.06-.94-2.06-.94L8.5 2.5l-.94 2.06-2.06.94zm10 10l.94 2.06.94-2.06 2.06-.94-2.06-.94-.94-2.06-.94 2.06-2.06.94z\"/><path d=\"M17.41 7.96l-1.37-1.37c-.4-.4-.92-.59-1.43-.59-.52 0-1.04.2-1.43.59L10.3 9.45l-7.72 7.72c-.78.78-.78 2.05 0 2.83L4 21.41c.39.39.9.59 1.41.59.51 0 1.02-.2 1.41-.59l7.78-7.78 2.81-2.81c.8-.78.8-2.07 0-2.86zM5.41 20L4 18.59l7.72-7.72 1.47 1.35L5.41 20z\"/>\n",
              "  </svg>\n",
              "      </button>\n",
              "      \n",
              "  <style>\n",
              "    .colab-df-container {\n",
              "      display:flex;\n",
              "      flex-wrap:wrap;\n",
              "      gap: 12px;\n",
              "    }\n",
              "\n",
              "    .colab-df-convert {\n",
              "      background-color: #E8F0FE;\n",
              "      border: none;\n",
              "      border-radius: 50%;\n",
              "      cursor: pointer;\n",
              "      display: none;\n",
              "      fill: #1967D2;\n",
              "      height: 32px;\n",
              "      padding: 0 0 0 0;\n",
              "      width: 32px;\n",
              "    }\n",
              "\n",
              "    .colab-df-convert:hover {\n",
              "      background-color: #E2EBFA;\n",
              "      box-shadow: 0px 1px 2px rgba(60, 64, 67, 0.3), 0px 1px 3px 1px rgba(60, 64, 67, 0.15);\n",
              "      fill: #174EA6;\n",
              "    }\n",
              "\n",
              "    [theme=dark] .colab-df-convert {\n",
              "      background-color: #3B4455;\n",
              "      fill: #D2E3FC;\n",
              "    }\n",
              "\n",
              "    [theme=dark] .colab-df-convert:hover {\n",
              "      background-color: #434B5C;\n",
              "      box-shadow: 0px 1px 3px 1px rgba(0, 0, 0, 0.15);\n",
              "      filter: drop-shadow(0px 1px 2px rgba(0, 0, 0, 0.3));\n",
              "      fill: #FFFFFF;\n",
              "    }\n",
              "  </style>\n",
              "\n",
              "      <script>\n",
              "        const buttonEl =\n",
              "          document.querySelector('#df-47c7e17f-edf6-46e9-93e7-92c42ac0838e button.colab-df-convert');\n",
              "        buttonEl.style.display =\n",
              "          google.colab.kernel.accessAllowed ? 'block' : 'none';\n",
              "\n",
              "        async function convertToInteractive(key) {\n",
              "          const element = document.querySelector('#df-47c7e17f-edf6-46e9-93e7-92c42ac0838e');\n",
              "          const dataTable =\n",
              "            await google.colab.kernel.invokeFunction('convertToInteractive',\n",
              "                                                     [key], {});\n",
              "          if (!dataTable) return;\n",
              "\n",
              "          const docLinkHtml = 'Like what you see? Visit the ' +\n",
              "            '<a target=\"_blank\" href=https://colab.research.google.com/notebooks/data_table.ipynb>data table notebook</a>'\n",
              "            + ' to learn more about interactive tables.';\n",
              "          element.innerHTML = '';\n",
              "          dataTable['output_type'] = 'display_data';\n",
              "          await google.colab.output.renderOutput(dataTable, element);\n",
              "          const docLink = document.createElement('div');\n",
              "          docLink.innerHTML = docLinkHtml;\n",
              "          element.appendChild(docLink);\n",
              "        }\n",
              "      </script>\n",
              "    </div>\n",
              "  </div>\n",
              "  "
            ]
          },
          "metadata": {},
          "execution_count": 47
        }
      ]
    },
    {
      "cell_type": "code",
      "source": [
        "B3 = pd.DataFrame(df3[df3['Position'] == 1].groupby(['AC No','Party'])['Votes'].max())\n",
        "B3.reset_index(inplace = True)\n",
        "B3.head()"
      ],
      "metadata": {
        "colab": {
          "base_uri": "https://localhost:8080/",
          "height": 206
        },
        "id": "idn_UXOK-cr8",
        "outputId": "d5b806c0-f7f4-4099-a475-6e825f4a84da"
      },
      "execution_count": null,
      "outputs": [
        {
          "output_type": "execute_result",
          "data": {
            "text/plain": [
              "   AC No                  Party  Votes\n",
              "0      1    Janata Dal (United)  42289\n",
              "1      2  Bharatiya Janta Party  51993\n",
              "2      3  Bharatiya Janta Party  45022\n",
              "3      4    Janata Dal (United)  67510\n",
              "4      5            Independent  38381"
            ],
            "text/html": [
              "\n",
              "  <div id=\"df-1f32f252-1b2c-488b-8f23-fee135b81609\">\n",
              "    <div class=\"colab-df-container\">\n",
              "      <div>\n",
              "<style scoped>\n",
              "    .dataframe tbody tr th:only-of-type {\n",
              "        vertical-align: middle;\n",
              "    }\n",
              "\n",
              "    .dataframe tbody tr th {\n",
              "        vertical-align: top;\n",
              "    }\n",
              "\n",
              "    .dataframe thead th {\n",
              "        text-align: right;\n",
              "    }\n",
              "</style>\n",
              "<table border=\"1\" class=\"dataframe\">\n",
              "  <thead>\n",
              "    <tr style=\"text-align: right;\">\n",
              "      <th></th>\n",
              "      <th>AC No</th>\n",
              "      <th>Party</th>\n",
              "      <th>Votes</th>\n",
              "    </tr>\n",
              "  </thead>\n",
              "  <tbody>\n",
              "    <tr>\n",
              "      <th>0</th>\n",
              "      <td>1</td>\n",
              "      <td>Janata Dal (United)</td>\n",
              "      <td>42289</td>\n",
              "    </tr>\n",
              "    <tr>\n",
              "      <th>1</th>\n",
              "      <td>2</td>\n",
              "      <td>Bharatiya Janta Party</td>\n",
              "      <td>51993</td>\n",
              "    </tr>\n",
              "    <tr>\n",
              "      <th>2</th>\n",
              "      <td>3</td>\n",
              "      <td>Bharatiya Janta Party</td>\n",
              "      <td>45022</td>\n",
              "    </tr>\n",
              "    <tr>\n",
              "      <th>3</th>\n",
              "      <td>4</td>\n",
              "      <td>Janata Dal (United)</td>\n",
              "      <td>67510</td>\n",
              "    </tr>\n",
              "    <tr>\n",
              "      <th>4</th>\n",
              "      <td>5</td>\n",
              "      <td>Independent</td>\n",
              "      <td>38381</td>\n",
              "    </tr>\n",
              "  </tbody>\n",
              "</table>\n",
              "</div>\n",
              "      <button class=\"colab-df-convert\" onclick=\"convertToInteractive('df-1f32f252-1b2c-488b-8f23-fee135b81609')\"\n",
              "              title=\"Convert this dataframe to an interactive table.\"\n",
              "              style=\"display:none;\">\n",
              "        \n",
              "  <svg xmlns=\"http://www.w3.org/2000/svg\" height=\"24px\"viewBox=\"0 0 24 24\"\n",
              "       width=\"24px\">\n",
              "    <path d=\"M0 0h24v24H0V0z\" fill=\"none\"/>\n",
              "    <path d=\"M18.56 5.44l.94 2.06.94-2.06 2.06-.94-2.06-.94-.94-2.06-.94 2.06-2.06.94zm-11 1L8.5 8.5l.94-2.06 2.06-.94-2.06-.94L8.5 2.5l-.94 2.06-2.06.94zm10 10l.94 2.06.94-2.06 2.06-.94-2.06-.94-.94-2.06-.94 2.06-2.06.94z\"/><path d=\"M17.41 7.96l-1.37-1.37c-.4-.4-.92-.59-1.43-.59-.52 0-1.04.2-1.43.59L10.3 9.45l-7.72 7.72c-.78.78-.78 2.05 0 2.83L4 21.41c.39.39.9.59 1.41.59.51 0 1.02-.2 1.41-.59l7.78-7.78 2.81-2.81c.8-.78.8-2.07 0-2.86zM5.41 20L4 18.59l7.72-7.72 1.47 1.35L5.41 20z\"/>\n",
              "  </svg>\n",
              "      </button>\n",
              "      \n",
              "  <style>\n",
              "    .colab-df-container {\n",
              "      display:flex;\n",
              "      flex-wrap:wrap;\n",
              "      gap: 12px;\n",
              "    }\n",
              "\n",
              "    .colab-df-convert {\n",
              "      background-color: #E8F0FE;\n",
              "      border: none;\n",
              "      border-radius: 50%;\n",
              "      cursor: pointer;\n",
              "      display: none;\n",
              "      fill: #1967D2;\n",
              "      height: 32px;\n",
              "      padding: 0 0 0 0;\n",
              "      width: 32px;\n",
              "    }\n",
              "\n",
              "    .colab-df-convert:hover {\n",
              "      background-color: #E2EBFA;\n",
              "      box-shadow: 0px 1px 2px rgba(60, 64, 67, 0.3), 0px 1px 3px 1px rgba(60, 64, 67, 0.15);\n",
              "      fill: #174EA6;\n",
              "    }\n",
              "\n",
              "    [theme=dark] .colab-df-convert {\n",
              "      background-color: #3B4455;\n",
              "      fill: #D2E3FC;\n",
              "    }\n",
              "\n",
              "    [theme=dark] .colab-df-convert:hover {\n",
              "      background-color: #434B5C;\n",
              "      box-shadow: 0px 1px 3px 1px rgba(0, 0, 0, 0.15);\n",
              "      filter: drop-shadow(0px 1px 2px rgba(0, 0, 0, 0.3));\n",
              "      fill: #FFFFFF;\n",
              "    }\n",
              "  </style>\n",
              "\n",
              "      <script>\n",
              "        const buttonEl =\n",
              "          document.querySelector('#df-1f32f252-1b2c-488b-8f23-fee135b81609 button.colab-df-convert');\n",
              "        buttonEl.style.display =\n",
              "          google.colab.kernel.accessAllowed ? 'block' : 'none';\n",
              "\n",
              "        async function convertToInteractive(key) {\n",
              "          const element = document.querySelector('#df-1f32f252-1b2c-488b-8f23-fee135b81609');\n",
              "          const dataTable =\n",
              "            await google.colab.kernel.invokeFunction('convertToInteractive',\n",
              "                                                     [key], {});\n",
              "          if (!dataTable) return;\n",
              "\n",
              "          const docLinkHtml = 'Like what you see? Visit the ' +\n",
              "            '<a target=\"_blank\" href=https://colab.research.google.com/notebooks/data_table.ipynb>data table notebook</a>'\n",
              "            + ' to learn more about interactive tables.';\n",
              "          element.innerHTML = '';\n",
              "          dataTable['output_type'] = 'display_data';\n",
              "          await google.colab.output.renderOutput(dataTable, element);\n",
              "          const docLink = document.createElement('div');\n",
              "          docLink.innerHTML = docLinkHtml;\n",
              "          element.appendChild(docLink);\n",
              "        }\n",
              "      </script>\n",
              "    </div>\n",
              "  </div>\n",
              "  "
            ]
          },
          "metadata": {},
          "execution_count": 48
        }
      ]
    },
    {
      "cell_type": "code",
      "source": [
        "B4 = pd.DataFrame(df4[df4['Position'] == 1].groupby(['AC No','Party'])['Votes'].max())\n",
        "B4.reset_index(inplace = True)\n",
        "B4.head()"
      ],
      "metadata": {
        "colab": {
          "base_uri": "https://localhost:8080/",
          "height": 206
        },
        "id": "kAuUT7vC9rrj",
        "outputId": "f2765294-0606-4d8b-ec29-8d004432f097"
      },
      "execution_count": null,
      "outputs": [
        {
          "output_type": "execute_result",
          "data": {
            "text/plain": [
              "   AC No                     Party  Votes\n",
              "0      1               Independent  66860\n",
              "1      2     Bharatiya Janta Party  82166\n",
              "2      3  Indian National Congress  57212\n",
              "3      4     Bharatiya Janta Party  74476\n",
              "4      5     Bharatiya Janta Party  57351"
            ],
            "text/html": [
              "\n",
              "  <div id=\"df-478ba1dd-92b7-4563-9928-0fdbb01d4a92\">\n",
              "    <div class=\"colab-df-container\">\n",
              "      <div>\n",
              "<style scoped>\n",
              "    .dataframe tbody tr th:only-of-type {\n",
              "        vertical-align: middle;\n",
              "    }\n",
              "\n",
              "    .dataframe tbody tr th {\n",
              "        vertical-align: top;\n",
              "    }\n",
              "\n",
              "    .dataframe thead th {\n",
              "        text-align: right;\n",
              "    }\n",
              "</style>\n",
              "<table border=\"1\" class=\"dataframe\">\n",
              "  <thead>\n",
              "    <tr style=\"text-align: right;\">\n",
              "      <th></th>\n",
              "      <th>AC No</th>\n",
              "      <th>Party</th>\n",
              "      <th>Votes</th>\n",
              "    </tr>\n",
              "  </thead>\n",
              "  <tbody>\n",
              "    <tr>\n",
              "      <th>0</th>\n",
              "      <td>1</td>\n",
              "      <td>Independent</td>\n",
              "      <td>66860</td>\n",
              "    </tr>\n",
              "    <tr>\n",
              "      <th>1</th>\n",
              "      <td>2</td>\n",
              "      <td>Bharatiya Janta Party</td>\n",
              "      <td>82166</td>\n",
              "    </tr>\n",
              "    <tr>\n",
              "      <th>2</th>\n",
              "      <td>3</td>\n",
              "      <td>Indian National Congress</td>\n",
              "      <td>57212</td>\n",
              "    </tr>\n",
              "    <tr>\n",
              "      <th>3</th>\n",
              "      <td>4</td>\n",
              "      <td>Bharatiya Janta Party</td>\n",
              "      <td>74476</td>\n",
              "    </tr>\n",
              "    <tr>\n",
              "      <th>4</th>\n",
              "      <td>5</td>\n",
              "      <td>Bharatiya Janta Party</td>\n",
              "      <td>57351</td>\n",
              "    </tr>\n",
              "  </tbody>\n",
              "</table>\n",
              "</div>\n",
              "      <button class=\"colab-df-convert\" onclick=\"convertToInteractive('df-478ba1dd-92b7-4563-9928-0fdbb01d4a92')\"\n",
              "              title=\"Convert this dataframe to an interactive table.\"\n",
              "              style=\"display:none;\">\n",
              "        \n",
              "  <svg xmlns=\"http://www.w3.org/2000/svg\" height=\"24px\"viewBox=\"0 0 24 24\"\n",
              "       width=\"24px\">\n",
              "    <path d=\"M0 0h24v24H0V0z\" fill=\"none\"/>\n",
              "    <path d=\"M18.56 5.44l.94 2.06.94-2.06 2.06-.94-2.06-.94-.94-2.06-.94 2.06-2.06.94zm-11 1L8.5 8.5l.94-2.06 2.06-.94-2.06-.94L8.5 2.5l-.94 2.06-2.06.94zm10 10l.94 2.06.94-2.06 2.06-.94-2.06-.94-.94-2.06-.94 2.06-2.06.94z\"/><path d=\"M17.41 7.96l-1.37-1.37c-.4-.4-.92-.59-1.43-.59-.52 0-1.04.2-1.43.59L10.3 9.45l-7.72 7.72c-.78.78-.78 2.05 0 2.83L4 21.41c.39.39.9.59 1.41.59.51 0 1.02-.2 1.41-.59l7.78-7.78 2.81-2.81c.8-.78.8-2.07 0-2.86zM5.41 20L4 18.59l7.72-7.72 1.47 1.35L5.41 20z\"/>\n",
              "  </svg>\n",
              "      </button>\n",
              "      \n",
              "  <style>\n",
              "    .colab-df-container {\n",
              "      display:flex;\n",
              "      flex-wrap:wrap;\n",
              "      gap: 12px;\n",
              "    }\n",
              "\n",
              "    .colab-df-convert {\n",
              "      background-color: #E8F0FE;\n",
              "      border: none;\n",
              "      border-radius: 50%;\n",
              "      cursor: pointer;\n",
              "      display: none;\n",
              "      fill: #1967D2;\n",
              "      height: 32px;\n",
              "      padding: 0 0 0 0;\n",
              "      width: 32px;\n",
              "    }\n",
              "\n",
              "    .colab-df-convert:hover {\n",
              "      background-color: #E2EBFA;\n",
              "      box-shadow: 0px 1px 2px rgba(60, 64, 67, 0.3), 0px 1px 3px 1px rgba(60, 64, 67, 0.15);\n",
              "      fill: #174EA6;\n",
              "    }\n",
              "\n",
              "    [theme=dark] .colab-df-convert {\n",
              "      background-color: #3B4455;\n",
              "      fill: #D2E3FC;\n",
              "    }\n",
              "\n",
              "    [theme=dark] .colab-df-convert:hover {\n",
              "      background-color: #434B5C;\n",
              "      box-shadow: 0px 1px 3px 1px rgba(0, 0, 0, 0.15);\n",
              "      filter: drop-shadow(0px 1px 2px rgba(0, 0, 0, 0.3));\n",
              "      fill: #FFFFFF;\n",
              "    }\n",
              "  </style>\n",
              "\n",
              "      <script>\n",
              "        const buttonEl =\n",
              "          document.querySelector('#df-478ba1dd-92b7-4563-9928-0fdbb01d4a92 button.colab-df-convert');\n",
              "        buttonEl.style.display =\n",
              "          google.colab.kernel.accessAllowed ? 'block' : 'none';\n",
              "\n",
              "        async function convertToInteractive(key) {\n",
              "          const element = document.querySelector('#df-478ba1dd-92b7-4563-9928-0fdbb01d4a92');\n",
              "          const dataTable =\n",
              "            await google.colab.kernel.invokeFunction('convertToInteractive',\n",
              "                                                     [key], {});\n",
              "          if (!dataTable) return;\n",
              "\n",
              "          const docLinkHtml = 'Like what you see? Visit the ' +\n",
              "            '<a target=\"_blank\" href=https://colab.research.google.com/notebooks/data_table.ipynb>data table notebook</a>'\n",
              "            + ' to learn more about interactive tables.';\n",
              "          element.innerHTML = '';\n",
              "          dataTable['output_type'] = 'display_data';\n",
              "          await google.colab.output.renderOutput(dataTable, element);\n",
              "          const docLink = document.createElement('div');\n",
              "          docLink.innerHTML = docLinkHtml;\n",
              "          element.appendChild(docLink);\n",
              "        }\n",
              "      </script>\n",
              "    </div>\n",
              "  </div>\n",
              "  "
            ]
          },
          "metadata": {},
          "execution_count": 49
        }
      ]
    },
    {
      "cell_type": "code",
      "source": [
        "B5 = pd.DataFrame()\n",
        "B5['AC No'] = B1['AC No']\n",
        "B5['2005-Feb'] = B1['Party']\n",
        "B5['2005-Oct'] = B2['Party']\n",
        "B5['2010'] = B3['Party']\n",
        "B5['2015'] = B4['Party']\n",
        "B5[(B5['2005-Feb'] == B5['2005-Oct']) & (B5['2005-Oct'] == B5['2010']) & (B5['2010'] == B5['2015'])]"
      ],
      "metadata": {
        "colab": {
          "base_uri": "https://localhost:8080/",
          "height": 363
        },
        "id": "QsYLiEY68cVJ",
        "outputId": "dff1281e-c764-4f35-893a-69dd1c7446ac"
      },
      "execution_count": null,
      "outputs": [
        {
          "output_type": "execute_result",
          "data": {
            "text/plain": [
              "     AC No               2005-Feb               2005-Oct  \\\n",
              "6        7  Bharatiya Janta Party  Bharatiya Janta Party   \n",
              "7        8  Bharatiya Janta Party  Bharatiya Janta Party   \n",
              "9       10  Bharatiya Janta Party  Bharatiya Janta Party   \n",
              "42      41    Janata Dal (United)    Janata Dal (United)   \n",
              "72      72    Janata Dal (United)    Janata Dal (United)   \n",
              "112    112    Janata Dal (United)    Janata Dal (United)   \n",
              "162    163    Janata Dal (United)    Janata Dal (United)   \n",
              "175    176    Janata Dal (United)    Janata Dal (United)   \n",
              "201    202    Janata Dal (United)    Janata Dal (United)   \n",
              "214    215    Janata Dal (United)    Janata Dal (United)   \n",
              "\n",
              "                      2010                   2015  \n",
              "6    Bharatiya Janta Party  Bharatiya Janta Party  \n",
              "7    Bharatiya Janta Party  Bharatiya Janta Party  \n",
              "9    Bharatiya Janta Party  Bharatiya Janta Party  \n",
              "42     Janata Dal (United)    Janata Dal (United)  \n",
              "72     Janata Dal (United)    Janata Dal (United)  \n",
              "112    Janata Dal (United)    Janata Dal (United)  \n",
              "162    Janata Dal (United)    Janata Dal (United)  \n",
              "175    Janata Dal (United)    Janata Dal (United)  \n",
              "201    Janata Dal (United)    Janata Dal (United)  \n",
              "214    Janata Dal (United)    Janata Dal (United)  "
            ],
            "text/html": [
              "\n",
              "  <div id=\"df-72c80e56-79d5-4e74-82b0-59413733a2cb\">\n",
              "    <div class=\"colab-df-container\">\n",
              "      <div>\n",
              "<style scoped>\n",
              "    .dataframe tbody tr th:only-of-type {\n",
              "        vertical-align: middle;\n",
              "    }\n",
              "\n",
              "    .dataframe tbody tr th {\n",
              "        vertical-align: top;\n",
              "    }\n",
              "\n",
              "    .dataframe thead th {\n",
              "        text-align: right;\n",
              "    }\n",
              "</style>\n",
              "<table border=\"1\" class=\"dataframe\">\n",
              "  <thead>\n",
              "    <tr style=\"text-align: right;\">\n",
              "      <th></th>\n",
              "      <th>AC No</th>\n",
              "      <th>2005-Feb</th>\n",
              "      <th>2005-Oct</th>\n",
              "      <th>2010</th>\n",
              "      <th>2015</th>\n",
              "    </tr>\n",
              "  </thead>\n",
              "  <tbody>\n",
              "    <tr>\n",
              "      <th>6</th>\n",
              "      <td>7</td>\n",
              "      <td>Bharatiya Janta Party</td>\n",
              "      <td>Bharatiya Janta Party</td>\n",
              "      <td>Bharatiya Janta Party</td>\n",
              "      <td>Bharatiya Janta Party</td>\n",
              "    </tr>\n",
              "    <tr>\n",
              "      <th>7</th>\n",
              "      <td>8</td>\n",
              "      <td>Bharatiya Janta Party</td>\n",
              "      <td>Bharatiya Janta Party</td>\n",
              "      <td>Bharatiya Janta Party</td>\n",
              "      <td>Bharatiya Janta Party</td>\n",
              "    </tr>\n",
              "    <tr>\n",
              "      <th>9</th>\n",
              "      <td>10</td>\n",
              "      <td>Bharatiya Janta Party</td>\n",
              "      <td>Bharatiya Janta Party</td>\n",
              "      <td>Bharatiya Janta Party</td>\n",
              "      <td>Bharatiya Janta Party</td>\n",
              "    </tr>\n",
              "    <tr>\n",
              "      <th>42</th>\n",
              "      <td>41</td>\n",
              "      <td>Janata Dal (United)</td>\n",
              "      <td>Janata Dal (United)</td>\n",
              "      <td>Janata Dal (United)</td>\n",
              "      <td>Janata Dal (United)</td>\n",
              "    </tr>\n",
              "    <tr>\n",
              "      <th>72</th>\n",
              "      <td>72</td>\n",
              "      <td>Janata Dal (United)</td>\n",
              "      <td>Janata Dal (United)</td>\n",
              "      <td>Janata Dal (United)</td>\n",
              "      <td>Janata Dal (United)</td>\n",
              "    </tr>\n",
              "    <tr>\n",
              "      <th>112</th>\n",
              "      <td>112</td>\n",
              "      <td>Janata Dal (United)</td>\n",
              "      <td>Janata Dal (United)</td>\n",
              "      <td>Janata Dal (United)</td>\n",
              "      <td>Janata Dal (United)</td>\n",
              "    </tr>\n",
              "    <tr>\n",
              "      <th>162</th>\n",
              "      <td>163</td>\n",
              "      <td>Janata Dal (United)</td>\n",
              "      <td>Janata Dal (United)</td>\n",
              "      <td>Janata Dal (United)</td>\n",
              "      <td>Janata Dal (United)</td>\n",
              "    </tr>\n",
              "    <tr>\n",
              "      <th>175</th>\n",
              "      <td>176</td>\n",
              "      <td>Janata Dal (United)</td>\n",
              "      <td>Janata Dal (United)</td>\n",
              "      <td>Janata Dal (United)</td>\n",
              "      <td>Janata Dal (United)</td>\n",
              "    </tr>\n",
              "    <tr>\n",
              "      <th>201</th>\n",
              "      <td>202</td>\n",
              "      <td>Janata Dal (United)</td>\n",
              "      <td>Janata Dal (United)</td>\n",
              "      <td>Janata Dal (United)</td>\n",
              "      <td>Janata Dal (United)</td>\n",
              "    </tr>\n",
              "    <tr>\n",
              "      <th>214</th>\n",
              "      <td>215</td>\n",
              "      <td>Janata Dal (United)</td>\n",
              "      <td>Janata Dal (United)</td>\n",
              "      <td>Janata Dal (United)</td>\n",
              "      <td>Janata Dal (United)</td>\n",
              "    </tr>\n",
              "  </tbody>\n",
              "</table>\n",
              "</div>\n",
              "      <button class=\"colab-df-convert\" onclick=\"convertToInteractive('df-72c80e56-79d5-4e74-82b0-59413733a2cb')\"\n",
              "              title=\"Convert this dataframe to an interactive table.\"\n",
              "              style=\"display:none;\">\n",
              "        \n",
              "  <svg xmlns=\"http://www.w3.org/2000/svg\" height=\"24px\"viewBox=\"0 0 24 24\"\n",
              "       width=\"24px\">\n",
              "    <path d=\"M0 0h24v24H0V0z\" fill=\"none\"/>\n",
              "    <path d=\"M18.56 5.44l.94 2.06.94-2.06 2.06-.94-2.06-.94-.94-2.06-.94 2.06-2.06.94zm-11 1L8.5 8.5l.94-2.06 2.06-.94-2.06-.94L8.5 2.5l-.94 2.06-2.06.94zm10 10l.94 2.06.94-2.06 2.06-.94-2.06-.94-.94-2.06-.94 2.06-2.06.94z\"/><path d=\"M17.41 7.96l-1.37-1.37c-.4-.4-.92-.59-1.43-.59-.52 0-1.04.2-1.43.59L10.3 9.45l-7.72 7.72c-.78.78-.78 2.05 0 2.83L4 21.41c.39.39.9.59 1.41.59.51 0 1.02-.2 1.41-.59l7.78-7.78 2.81-2.81c.8-.78.8-2.07 0-2.86zM5.41 20L4 18.59l7.72-7.72 1.47 1.35L5.41 20z\"/>\n",
              "  </svg>\n",
              "      </button>\n",
              "      \n",
              "  <style>\n",
              "    .colab-df-container {\n",
              "      display:flex;\n",
              "      flex-wrap:wrap;\n",
              "      gap: 12px;\n",
              "    }\n",
              "\n",
              "    .colab-df-convert {\n",
              "      background-color: #E8F0FE;\n",
              "      border: none;\n",
              "      border-radius: 50%;\n",
              "      cursor: pointer;\n",
              "      display: none;\n",
              "      fill: #1967D2;\n",
              "      height: 32px;\n",
              "      padding: 0 0 0 0;\n",
              "      width: 32px;\n",
              "    }\n",
              "\n",
              "    .colab-df-convert:hover {\n",
              "      background-color: #E2EBFA;\n",
              "      box-shadow: 0px 1px 2px rgba(60, 64, 67, 0.3), 0px 1px 3px 1px rgba(60, 64, 67, 0.15);\n",
              "      fill: #174EA6;\n",
              "    }\n",
              "\n",
              "    [theme=dark] .colab-df-convert {\n",
              "      background-color: #3B4455;\n",
              "      fill: #D2E3FC;\n",
              "    }\n",
              "\n",
              "    [theme=dark] .colab-df-convert:hover {\n",
              "      background-color: #434B5C;\n",
              "      box-shadow: 0px 1px 3px 1px rgba(0, 0, 0, 0.15);\n",
              "      filter: drop-shadow(0px 1px 2px rgba(0, 0, 0, 0.3));\n",
              "      fill: #FFFFFF;\n",
              "    }\n",
              "  </style>\n",
              "\n",
              "      <script>\n",
              "        const buttonEl =\n",
              "          document.querySelector('#df-72c80e56-79d5-4e74-82b0-59413733a2cb button.colab-df-convert');\n",
              "        buttonEl.style.display =\n",
              "          google.colab.kernel.accessAllowed ? 'block' : 'none';\n",
              "\n",
              "        async function convertToInteractive(key) {\n",
              "          const element = document.querySelector('#df-72c80e56-79d5-4e74-82b0-59413733a2cb');\n",
              "          const dataTable =\n",
              "            await google.colab.kernel.invokeFunction('convertToInteractive',\n",
              "                                                     [key], {});\n",
              "          if (!dataTable) return;\n",
              "\n",
              "          const docLinkHtml = 'Like what you see? Visit the ' +\n",
              "            '<a target=\"_blank\" href=https://colab.research.google.com/notebooks/data_table.ipynb>data table notebook</a>'\n",
              "            + ' to learn more about interactive tables.';\n",
              "          element.innerHTML = '';\n",
              "          dataTable['output_type'] = 'display_data';\n",
              "          await google.colab.output.renderOutput(dataTable, element);\n",
              "          const docLink = document.createElement('div');\n",
              "          docLink.innerHTML = docLinkHtml;\n",
              "          element.appendChild(docLink);\n",
              "        }\n",
              "      </script>\n",
              "    </div>\n",
              "  </div>\n",
              "  "
            ]
          },
          "metadata": {},
          "execution_count": 50
        }
      ]
    },
    {
      "cell_type": "markdown",
      "source": [
        "\n",
        "1. The above table shows us the strong hold seats for Bharatiya Janta Party and Janata Dal (United).\n",
        "2. AC No. 7, 8, 10 have been the strong hold seats of Bharatiya Janta Party.\n",
        "3. AC No. 41, 72, 112, 163, 176, 202, 215 have been the strong hold seats of Janata Dal (United)."
      ],
      "metadata": {
        "id": "EQqNErET_BGs"
      }
    },
    {
      "cell_type": "markdown",
      "source": [
        "Q g)   Determine close contest constituencies. Close contest seats are those in which the top 2 finishers had a difference of less than 10% votes. Find seats in which there was a close contest in all the elections. If there is no such seat, then relax the criteria to 15%."
      ],
      "metadata": {
        "id": "uuoORm66MGQM"
      }
    },
    {
      "cell_type": "code",
      "source": [
        "B1 = df1[df1['Position'] == 1][['AC No', 'Votes %%']]\n",
        "B1.reset_index(inplace = True)\n",
        "B11 = df1[df1['Position'] == 2][['AC No', 'Votes %%']]\n",
        "B11.reset_index(inplace = True)\n",
        "B111 = pd.DataFrame()\n",
        "B111['AC No'] = B1['AC No']\n",
        "B111['Votes % 1'] = B1['Votes %%'] \n",
        "B111['Votes % 2'] = B11['Votes %%']\n",
        "B111['Difference'] = B1['Votes %%'] - B11['Votes %%']\n",
        "\n",
        "B_1 = df2[df2['Position'] == 1][['AC No', 'Votes %%']]\n",
        "B_1.reset_index(inplace = True)\n",
        "B_11 = df2[df2['Position'] == 2][['AC No', 'Votes %%']]\n",
        "B_11.reset_index(inplace = True)\n",
        "B_111 = pd.DataFrame()\n",
        "B_111['AC No'] = B_1['AC No']\n",
        "B_111['Votes % 1'] = B_1['Votes %%'] \n",
        "B_111['Votes % 2'] = B_11['Votes %%']\n",
        "B_111['Difference'] = B_1['Votes %%'] - B_11['Votes %%']\n",
        "\n",
        "B__1 = df3[df3['Position'] == 1][['AC No', 'Votes %%']]\n",
        "B__1.reset_index(inplace = True)\n",
        "B__11 = df3[df3['Position'] == 2][['AC No', 'Votes %%']]\n",
        "B__11.reset_index(inplace = True)\n",
        "B__111 = pd.DataFrame()\n",
        "B__111['AC No'] = B__1['AC No']\n",
        "B__111['Votes % 1'] = B__1['Votes %%'] \n",
        "B__111['Votes % 2'] = B__11['Votes %%']\n",
        "B__111['Difference'] = B__1['Votes %%'] - B__11['Votes %%']\n",
        "\n",
        "B___1 = df4[df4['Position'] == 1][['AC No', 'Votes %%']]\n",
        "B___1.reset_index(inplace = True)\n",
        "B___11 = df4[df4['Position'] == 2][['AC No', 'Votes %%']]\n",
        "B___11.reset_index(inplace = True)\n",
        "B___111 = pd.DataFrame()\n",
        "B___111['AC No'] = B___1['AC No']\n",
        "B___111['Votes % 1'] = B___1['Votes %%'] \n",
        "B___111['Votes % 2'] = B___11['Votes %%']\n",
        "B___111['Difference'] = B___1['Votes %%'] - B__11['Votes %%']"
      ],
      "metadata": {
        "id": "I0Q4WMgqMalL"
      },
      "execution_count": null,
      "outputs": []
    },
    {
      "cell_type": "code",
      "source": [
        "print(B111[B111['Difference'] < 10]['AC No'].tolist())\n",
        "# Following is the list of close contest constituencies for the 2005-Feb Elections."
      ],
      "metadata": {
        "colab": {
          "base_uri": "https://localhost:8080/"
        },
        "id": "LYd8c3cuMeNi",
        "outputId": "847d0121-985e-4921-8e50-22cb9c04eb39"
      },
      "execution_count": null,
      "outputs": [
        {
          "output_type": "stream",
          "name": "stdout",
          "text": [
            "[1, 3, 5, 6, 8, 9, 10, 11, 15, 16, 19, 20, 23, 24, 25, 28, 31, 32, 35, 36, 37, 38, 40, 41, 17, 43, 49, 50, 52, 53, 55, 56, 57, 58, 63, 64, 65, 66, 68, 69, 70, 71, 72, 73, 74, 75, 77, 78, 82, 83, 84, 86, 87, 90, 91, 92, 93, 94, 96, 99, 102, 103, 105, 106, 107, 108, 110, 112, 113, 114, 115, 116, 117, 124, 125, 127, 128, 129, 130, 16, 134, 135, 137, 138, 139, 141, 142, 146, 147, 149, 153, 154, 155, 156, 158, 159, 160, 161, 163, 164, 165, 169, 172, 175, 178, 180, 183, 184, 185, 191, 192, 194, 195, 196, 197, 199, 200, 202, 203, 204, 207, 208, 209, 211, 212, 213, 214, 216, 218, 219, 222, 223, 225, 226, 230, 233, 237, 239, 240, 242]\n"
          ]
        }
      ]
    },
    {
      "cell_type": "code",
      "source": [
        "print(B_111[B_111['Difference'] < 10]['AC No'].tolist())\n",
        "# Following is the list of close contest constituencies for the 2005-Oct Elections."
      ],
      "metadata": {
        "colab": {
          "base_uri": "https://localhost:8080/"
        },
        "id": "Wad7NsFhMhOT",
        "outputId": "8e575f55-8aaa-4569-d280-6a2e9234ea6b"
      },
      "execution_count": null,
      "outputs": [
        {
          "output_type": "stream",
          "name": "stdout",
          "text": [
            "[1, 3, 4, 5, 6, 9, 10, 11, 14, 15, 18, 19, 21, 22, 23, 24, 25, 26, 28, 29, 30, 31, 35, 36, 37, 38, 41, 42, 44, 46, 47, 48, 49, 50, 51, 52, 53, 54, 55, 57, 58, 60, 61, 65, 66, 68, 71, 72, 73, 74, 75, 76, 77, 79, 81, 83, 84, 85, 86, 87, 90, 91, 92, 93, 94, 96, 97, 98, 100, 102, 106, 107, 108, 113, 115, 116, 117, 118, 119, 120, 124, 125, 127, 128, 129, 130, 132, 134, 135, 137, 138, 141, 142, 144, 145, 146, 147, 149, 152, 154, 156, 157, 158, 159, 161, 163, 164, 166, 169, 170, 172, 178, 183, 185, 192, 193, 195, 197, 199, 200, 201, 202, 203, 204, 205, 208, 209, 212, 213, 214, 218, 219, 221, 222, 223, 224, 227, 229, 230, 231, 233, 234, 235, 236, 237, 238, 239, 240, 242]\n"
          ]
        }
      ]
    },
    {
      "cell_type": "code",
      "source": [
        "print(B__111[B__111['Difference'] < 10]['AC No'].tolist())\n",
        "# Following is the list of close contest constituencies for the 2010 Elections."
      ],
      "metadata": {
        "colab": {
          "base_uri": "https://localhost:8080/"
        },
        "id": "A-LZo50kMkSP",
        "outputId": "c7a30963-f4df-4c69-df06-0c0bfc08a3bb"
      },
      "execution_count": null,
      "outputs": [
        {
          "output_type": "stream",
          "name": "stdout",
          "text": [
            "[5, 9, 10, 12, 14, 17, 18, 21, 22, 25, 26, 27, 28, 29, 31, 33, 34, 35, 36, 37, 39, 46, 51, 52, 53, 54, 55, 57, 58, 65, 66, 67, 73, 75, 77, 78, 81, 82, 84, 85, 86, 90, 93, 95, 98, 100, 106, 107, 114, 115, 116, 117, 119, 121, 125, 127, 128, 129, 133, 134, 135, 139, 140, 141, 142, 143, 151, 152, 154, 155, 156, 157, 158, 160, 161, 163, 167, 169, 170, 178, 185, 187, 189, 190, 191, 192, 193, 195, 197, 198, 203, 204, 205, 206, 207, 208, 209, 212, 213, 214, 216, 218, 219, 220, 223, 225, 226, 227, 229, 232, 236, 237, 239, 242, 243]\n"
          ]
        }
      ]
    },
    {
      "cell_type": "code",
      "source": [
        "print(B___111[B___111['Difference'] < 10]['AC No'].tolist())\n",
        "# Following is the list of close contest constituencies for the 2015 Elections."
      ],
      "metadata": {
        "colab": {
          "base_uri": "https://localhost:8080/"
        },
        "id": "0B9WvkyWMmrA",
        "outputId": "0e0c8132-4c79-48f5-b2d1-161661c46201"
      },
      "execution_count": null,
      "outputs": [
        {
          "output_type": "stream",
          "name": "stdout",
          "text": [
            "[10, 22, 26, 27, 163, 31, 34, 36, 38, 52, 54, 58, 60, 65, 66, 67, 77, 86, 88, 35, 95, 98, 99, 105, 107, 113, 114, 115, 137, 151, 172, 155, 158, 169, 71, 178, 180, 199, 196, 197, 8, 209, 212, 213, 215, 219, 220, 221, 225, 146, 233, 238, 242]\n"
          ]
        }
      ]
    },
    {
      "cell_type": "markdown",
      "source": [
        "Q h) Find the growing seats. For the top 8 parties at the state-level in the 2005-Feb\n",
        "Election, Determine the seats in which these parties have continuously increased\n",
        "their votes in the next 3 elections."
      ],
      "metadata": {
        "id": "ILz8VZaD_v87"
      }
    },
    {
      "cell_type": "code",
      "source": [
        "df[df['Election Year'] == '2005-Feb'].groupby('Party')['Votes'].sum().sort_values(ascending = False).head(8)\n",
        "# Below is the list of the top 8 parties in the 2005-Feb Elections. "
      ],
      "metadata": {
        "colab": {
          "base_uri": "https://localhost:8080/"
        },
        "id": "KaIN2Xno_IVJ",
        "outputId": "258bf750-6603-4234-bbac-5b014e996aa7"
      },
      "execution_count": null,
      "outputs": [
        {
          "output_type": "execute_result",
          "data": {
            "text/plain": [
              "Party\n",
              "Rashtriya Janata Dal        6140223\n",
              "Independent                 3957945\n",
              "Janata Dal (United)         3564930\n",
              "Lok Jan Shakti Party        3091173\n",
              "Bharatiya Janta Party       2686290\n",
              "Indian National Congress    1223835\n",
              "Bahujan Samaj Party         1080745\n",
              "Samajwadi Party              658791\n",
              "Name: Votes, dtype: int64"
            ]
          },
          "metadata": {},
          "execution_count": 56
        }
      ]
    },
    {
      "cell_type": "code",
      "source": [
        "df1.head()"
      ],
      "metadata": {
        "colab": {
          "base_uri": "https://localhost:8080/",
          "height": 206
        },
        "id": "thvF3qDlA9dH",
        "outputId": "f3335034-7042-418a-d2e3-b085118c64d4"
      },
      "execution_count": null,
      "outputs": [
        {
          "output_type": "execute_result",
          "data": {
            "text/plain": [
              "     Election Year  Position                   Name  Votes Votes %  \\\n",
              "9108      2005-Feb         1           Rajesh Singh  19389  30.60%   \n",
              "9109      2005-Feb         2         Ramadhar Yadav  13287  21.00%   \n",
              "9110      2005-Feb         3  Mukesh Kumar Kushwaha  10865  17.20%   \n",
              "9111      2005-Feb         4      Arun Kumar Tiwari   5073   8.00%   \n",
              "9112      2005-Feb         5    Bawwan Prasad Yadav   3320   5.30%   \n",
              "\n",
              "                     Party        AC name  AC No  Votes %%  \n",
              "9108  Rashtriya Janata Dal  Valmiki Nagar      1      30.6  \n",
              "9109       Samajwadi Party  Valmiki Nagar      1      21.0  \n",
              "9110           Independent  Valmiki Nagar      1      17.2  \n",
              "9111  Lok Jan Shakti Party  Valmiki Nagar      1       8.0  \n",
              "9112          Samata Party  Valmiki Nagar      1       5.3  "
            ],
            "text/html": [
              "\n",
              "  <div id=\"df-0906a183-5b5e-4b77-9a85-197e18fd5340\">\n",
              "    <div class=\"colab-df-container\">\n",
              "      <div>\n",
              "<style scoped>\n",
              "    .dataframe tbody tr th:only-of-type {\n",
              "        vertical-align: middle;\n",
              "    }\n",
              "\n",
              "    .dataframe tbody tr th {\n",
              "        vertical-align: top;\n",
              "    }\n",
              "\n",
              "    .dataframe thead th {\n",
              "        text-align: right;\n",
              "    }\n",
              "</style>\n",
              "<table border=\"1\" class=\"dataframe\">\n",
              "  <thead>\n",
              "    <tr style=\"text-align: right;\">\n",
              "      <th></th>\n",
              "      <th>Election Year</th>\n",
              "      <th>Position</th>\n",
              "      <th>Name</th>\n",
              "      <th>Votes</th>\n",
              "      <th>Votes %</th>\n",
              "      <th>Party</th>\n",
              "      <th>AC name</th>\n",
              "      <th>AC No</th>\n",
              "      <th>Votes %%</th>\n",
              "    </tr>\n",
              "  </thead>\n",
              "  <tbody>\n",
              "    <tr>\n",
              "      <th>9108</th>\n",
              "      <td>2005-Feb</td>\n",
              "      <td>1</td>\n",
              "      <td>Rajesh Singh</td>\n",
              "      <td>19389</td>\n",
              "      <td>30.60%</td>\n",
              "      <td>Rashtriya Janata Dal</td>\n",
              "      <td>Valmiki Nagar</td>\n",
              "      <td>1</td>\n",
              "      <td>30.6</td>\n",
              "    </tr>\n",
              "    <tr>\n",
              "      <th>9109</th>\n",
              "      <td>2005-Feb</td>\n",
              "      <td>2</td>\n",
              "      <td>Ramadhar Yadav</td>\n",
              "      <td>13287</td>\n",
              "      <td>21.00%</td>\n",
              "      <td>Samajwadi Party</td>\n",
              "      <td>Valmiki Nagar</td>\n",
              "      <td>1</td>\n",
              "      <td>21.0</td>\n",
              "    </tr>\n",
              "    <tr>\n",
              "      <th>9110</th>\n",
              "      <td>2005-Feb</td>\n",
              "      <td>3</td>\n",
              "      <td>Mukesh Kumar Kushwaha</td>\n",
              "      <td>10865</td>\n",
              "      <td>17.20%</td>\n",
              "      <td>Independent</td>\n",
              "      <td>Valmiki Nagar</td>\n",
              "      <td>1</td>\n",
              "      <td>17.2</td>\n",
              "    </tr>\n",
              "    <tr>\n",
              "      <th>9111</th>\n",
              "      <td>2005-Feb</td>\n",
              "      <td>4</td>\n",
              "      <td>Arun Kumar Tiwari</td>\n",
              "      <td>5073</td>\n",
              "      <td>8.00%</td>\n",
              "      <td>Lok Jan Shakti Party</td>\n",
              "      <td>Valmiki Nagar</td>\n",
              "      <td>1</td>\n",
              "      <td>8.0</td>\n",
              "    </tr>\n",
              "    <tr>\n",
              "      <th>9112</th>\n",
              "      <td>2005-Feb</td>\n",
              "      <td>5</td>\n",
              "      <td>Bawwan Prasad Yadav</td>\n",
              "      <td>3320</td>\n",
              "      <td>5.30%</td>\n",
              "      <td>Samata Party</td>\n",
              "      <td>Valmiki Nagar</td>\n",
              "      <td>1</td>\n",
              "      <td>5.3</td>\n",
              "    </tr>\n",
              "  </tbody>\n",
              "</table>\n",
              "</div>\n",
              "      <button class=\"colab-df-convert\" onclick=\"convertToInteractive('df-0906a183-5b5e-4b77-9a85-197e18fd5340')\"\n",
              "              title=\"Convert this dataframe to an interactive table.\"\n",
              "              style=\"display:none;\">\n",
              "        \n",
              "  <svg xmlns=\"http://www.w3.org/2000/svg\" height=\"24px\"viewBox=\"0 0 24 24\"\n",
              "       width=\"24px\">\n",
              "    <path d=\"M0 0h24v24H0V0z\" fill=\"none\"/>\n",
              "    <path d=\"M18.56 5.44l.94 2.06.94-2.06 2.06-.94-2.06-.94-.94-2.06-.94 2.06-2.06.94zm-11 1L8.5 8.5l.94-2.06 2.06-.94-2.06-.94L8.5 2.5l-.94 2.06-2.06.94zm10 10l.94 2.06.94-2.06 2.06-.94-2.06-.94-.94-2.06-.94 2.06-2.06.94z\"/><path d=\"M17.41 7.96l-1.37-1.37c-.4-.4-.92-.59-1.43-.59-.52 0-1.04.2-1.43.59L10.3 9.45l-7.72 7.72c-.78.78-.78 2.05 0 2.83L4 21.41c.39.39.9.59 1.41.59.51 0 1.02-.2 1.41-.59l7.78-7.78 2.81-2.81c.8-.78.8-2.07 0-2.86zM5.41 20L4 18.59l7.72-7.72 1.47 1.35L5.41 20z\"/>\n",
              "  </svg>\n",
              "      </button>\n",
              "      \n",
              "  <style>\n",
              "    .colab-df-container {\n",
              "      display:flex;\n",
              "      flex-wrap:wrap;\n",
              "      gap: 12px;\n",
              "    }\n",
              "\n",
              "    .colab-df-convert {\n",
              "      background-color: #E8F0FE;\n",
              "      border: none;\n",
              "      border-radius: 50%;\n",
              "      cursor: pointer;\n",
              "      display: none;\n",
              "      fill: #1967D2;\n",
              "      height: 32px;\n",
              "      padding: 0 0 0 0;\n",
              "      width: 32px;\n",
              "    }\n",
              "\n",
              "    .colab-df-convert:hover {\n",
              "      background-color: #E2EBFA;\n",
              "      box-shadow: 0px 1px 2px rgba(60, 64, 67, 0.3), 0px 1px 3px 1px rgba(60, 64, 67, 0.15);\n",
              "      fill: #174EA6;\n",
              "    }\n",
              "\n",
              "    [theme=dark] .colab-df-convert {\n",
              "      background-color: #3B4455;\n",
              "      fill: #D2E3FC;\n",
              "    }\n",
              "\n",
              "    [theme=dark] .colab-df-convert:hover {\n",
              "      background-color: #434B5C;\n",
              "      box-shadow: 0px 1px 3px 1px rgba(0, 0, 0, 0.15);\n",
              "      filter: drop-shadow(0px 1px 2px rgba(0, 0, 0, 0.3));\n",
              "      fill: #FFFFFF;\n",
              "    }\n",
              "  </style>\n",
              "\n",
              "      <script>\n",
              "        const buttonEl =\n",
              "          document.querySelector('#df-0906a183-5b5e-4b77-9a85-197e18fd5340 button.colab-df-convert');\n",
              "        buttonEl.style.display =\n",
              "          google.colab.kernel.accessAllowed ? 'block' : 'none';\n",
              "\n",
              "        async function convertToInteractive(key) {\n",
              "          const element = document.querySelector('#df-0906a183-5b5e-4b77-9a85-197e18fd5340');\n",
              "          const dataTable =\n",
              "            await google.colab.kernel.invokeFunction('convertToInteractive',\n",
              "                                                     [key], {});\n",
              "          if (!dataTable) return;\n",
              "\n",
              "          const docLinkHtml = 'Like what you see? Visit the ' +\n",
              "            '<a target=\"_blank\" href=https://colab.research.google.com/notebooks/data_table.ipynb>data table notebook</a>'\n",
              "            + ' to learn more about interactive tables.';\n",
              "          element.innerHTML = '';\n",
              "          dataTable['output_type'] = 'display_data';\n",
              "          await google.colab.output.renderOutput(dataTable, element);\n",
              "          const docLink = document.createElement('div');\n",
              "          docLink.innerHTML = docLinkHtml;\n",
              "          element.appendChild(docLink);\n",
              "        }\n",
              "      </script>\n",
              "    </div>\n",
              "  </div>\n",
              "  "
            ]
          },
          "metadata": {},
          "execution_count": 57
        }
      ]
    },
    {
      "cell_type": "code",
      "source": [
        "C1 = df1[df1['Party'] == 'Rashtriya Janata Dal'][['AC No','Votes %%']]\n",
        "C1.reset_index(inplace = True)\n",
        "C1.head()"
      ],
      "metadata": {
        "colab": {
          "base_uri": "https://localhost:8080/",
          "height": 206
        },
        "id": "H8GA-ph6AlfC",
        "outputId": "30c4675d-a985-4678-b443-de392582128c"
      },
      "execution_count": null,
      "outputs": [
        {
          "output_type": "execute_result",
          "data": {
            "text/plain": [
              "   index  AC No  Votes %%\n",
              "0   9108      1      30.6\n",
              "1   9120      2      22.8\n",
              "2   9133      3      16.8\n",
              "3   9156      4       6.9\n",
              "4   9173      5       4.6"
            ],
            "text/html": [
              "\n",
              "  <div id=\"df-3db446ae-7bc9-421b-bcb3-d13971a09c8c\">\n",
              "    <div class=\"colab-df-container\">\n",
              "      <div>\n",
              "<style scoped>\n",
              "    .dataframe tbody tr th:only-of-type {\n",
              "        vertical-align: middle;\n",
              "    }\n",
              "\n",
              "    .dataframe tbody tr th {\n",
              "        vertical-align: top;\n",
              "    }\n",
              "\n",
              "    .dataframe thead th {\n",
              "        text-align: right;\n",
              "    }\n",
              "</style>\n",
              "<table border=\"1\" class=\"dataframe\">\n",
              "  <thead>\n",
              "    <tr style=\"text-align: right;\">\n",
              "      <th></th>\n",
              "      <th>index</th>\n",
              "      <th>AC No</th>\n",
              "      <th>Votes %%</th>\n",
              "    </tr>\n",
              "  </thead>\n",
              "  <tbody>\n",
              "    <tr>\n",
              "      <th>0</th>\n",
              "      <td>9108</td>\n",
              "      <td>1</td>\n",
              "      <td>30.6</td>\n",
              "    </tr>\n",
              "    <tr>\n",
              "      <th>1</th>\n",
              "      <td>9120</td>\n",
              "      <td>2</td>\n",
              "      <td>22.8</td>\n",
              "    </tr>\n",
              "    <tr>\n",
              "      <th>2</th>\n",
              "      <td>9133</td>\n",
              "      <td>3</td>\n",
              "      <td>16.8</td>\n",
              "    </tr>\n",
              "    <tr>\n",
              "      <th>3</th>\n",
              "      <td>9156</td>\n",
              "      <td>4</td>\n",
              "      <td>6.9</td>\n",
              "    </tr>\n",
              "    <tr>\n",
              "      <th>4</th>\n",
              "      <td>9173</td>\n",
              "      <td>5</td>\n",
              "      <td>4.6</td>\n",
              "    </tr>\n",
              "  </tbody>\n",
              "</table>\n",
              "</div>\n",
              "      <button class=\"colab-df-convert\" onclick=\"convertToInteractive('df-3db446ae-7bc9-421b-bcb3-d13971a09c8c')\"\n",
              "              title=\"Convert this dataframe to an interactive table.\"\n",
              "              style=\"display:none;\">\n",
              "        \n",
              "  <svg xmlns=\"http://www.w3.org/2000/svg\" height=\"24px\"viewBox=\"0 0 24 24\"\n",
              "       width=\"24px\">\n",
              "    <path d=\"M0 0h24v24H0V0z\" fill=\"none\"/>\n",
              "    <path d=\"M18.56 5.44l.94 2.06.94-2.06 2.06-.94-2.06-.94-.94-2.06-.94 2.06-2.06.94zm-11 1L8.5 8.5l.94-2.06 2.06-.94-2.06-.94L8.5 2.5l-.94 2.06-2.06.94zm10 10l.94 2.06.94-2.06 2.06-.94-2.06-.94-.94-2.06-.94 2.06-2.06.94z\"/><path d=\"M17.41 7.96l-1.37-1.37c-.4-.4-.92-.59-1.43-.59-.52 0-1.04.2-1.43.59L10.3 9.45l-7.72 7.72c-.78.78-.78 2.05 0 2.83L4 21.41c.39.39.9.59 1.41.59.51 0 1.02-.2 1.41-.59l7.78-7.78 2.81-2.81c.8-.78.8-2.07 0-2.86zM5.41 20L4 18.59l7.72-7.72 1.47 1.35L5.41 20z\"/>\n",
              "  </svg>\n",
              "      </button>\n",
              "      \n",
              "  <style>\n",
              "    .colab-df-container {\n",
              "      display:flex;\n",
              "      flex-wrap:wrap;\n",
              "      gap: 12px;\n",
              "    }\n",
              "\n",
              "    .colab-df-convert {\n",
              "      background-color: #E8F0FE;\n",
              "      border: none;\n",
              "      border-radius: 50%;\n",
              "      cursor: pointer;\n",
              "      display: none;\n",
              "      fill: #1967D2;\n",
              "      height: 32px;\n",
              "      padding: 0 0 0 0;\n",
              "      width: 32px;\n",
              "    }\n",
              "\n",
              "    .colab-df-convert:hover {\n",
              "      background-color: #E2EBFA;\n",
              "      box-shadow: 0px 1px 2px rgba(60, 64, 67, 0.3), 0px 1px 3px 1px rgba(60, 64, 67, 0.15);\n",
              "      fill: #174EA6;\n",
              "    }\n",
              "\n",
              "    [theme=dark] .colab-df-convert {\n",
              "      background-color: #3B4455;\n",
              "      fill: #D2E3FC;\n",
              "    }\n",
              "\n",
              "    [theme=dark] .colab-df-convert:hover {\n",
              "      background-color: #434B5C;\n",
              "      box-shadow: 0px 1px 3px 1px rgba(0, 0, 0, 0.15);\n",
              "      filter: drop-shadow(0px 1px 2px rgba(0, 0, 0, 0.3));\n",
              "      fill: #FFFFFF;\n",
              "    }\n",
              "  </style>\n",
              "\n",
              "      <script>\n",
              "        const buttonEl =\n",
              "          document.querySelector('#df-3db446ae-7bc9-421b-bcb3-d13971a09c8c button.colab-df-convert');\n",
              "        buttonEl.style.display =\n",
              "          google.colab.kernel.accessAllowed ? 'block' : 'none';\n",
              "\n",
              "        async function convertToInteractive(key) {\n",
              "          const element = document.querySelector('#df-3db446ae-7bc9-421b-bcb3-d13971a09c8c');\n",
              "          const dataTable =\n",
              "            await google.colab.kernel.invokeFunction('convertToInteractive',\n",
              "                                                     [key], {});\n",
              "          if (!dataTable) return;\n",
              "\n",
              "          const docLinkHtml = 'Like what you see? Visit the ' +\n",
              "            '<a target=\"_blank\" href=https://colab.research.google.com/notebooks/data_table.ipynb>data table notebook</a>'\n",
              "            + ' to learn more about interactive tables.';\n",
              "          element.innerHTML = '';\n",
              "          dataTable['output_type'] = 'display_data';\n",
              "          await google.colab.output.renderOutput(dataTable, element);\n",
              "          const docLink = document.createElement('div');\n",
              "          docLink.innerHTML = docLinkHtml;\n",
              "          element.appendChild(docLink);\n",
              "        }\n",
              "      </script>\n",
              "    </div>\n",
              "  </div>\n",
              "  "
            ]
          },
          "metadata": {},
          "execution_count": 58
        }
      ]
    },
    {
      "cell_type": "code",
      "source": [
        "C2 = df2[df2['Party'] == 'Rashtriya Janata Dal'][['AC No','Votes %%']]\n",
        "C2.reset_index(inplace = True)\n",
        "C2.head()"
      ],
      "metadata": {
        "colab": {
          "base_uri": "https://localhost:8080/",
          "height": 206
        },
        "id": "DbrEz5A9At9n",
        "outputId": "52d2e50e-9168-44bd-9758-0a3d7a5bcbea"
      },
      "execution_count": null,
      "outputs": [
        {
          "output_type": "execute_result",
          "data": {
            "text/plain": [
              "   index  AC No  Votes %%\n",
              "0   6973      1      32.3\n",
              "1   6996      3      36.6\n",
              "2   7033      6      12.5\n",
              "3   7052      9      31.9\n",
              "4   7068     11      26.4"
            ],
            "text/html": [
              "\n",
              "  <div id=\"df-3bc045c4-271e-4621-96ca-cc3cb407cda3\">\n",
              "    <div class=\"colab-df-container\">\n",
              "      <div>\n",
              "<style scoped>\n",
              "    .dataframe tbody tr th:only-of-type {\n",
              "        vertical-align: middle;\n",
              "    }\n",
              "\n",
              "    .dataframe tbody tr th {\n",
              "        vertical-align: top;\n",
              "    }\n",
              "\n",
              "    .dataframe thead th {\n",
              "        text-align: right;\n",
              "    }\n",
              "</style>\n",
              "<table border=\"1\" class=\"dataframe\">\n",
              "  <thead>\n",
              "    <tr style=\"text-align: right;\">\n",
              "      <th></th>\n",
              "      <th>index</th>\n",
              "      <th>AC No</th>\n",
              "      <th>Votes %%</th>\n",
              "    </tr>\n",
              "  </thead>\n",
              "  <tbody>\n",
              "    <tr>\n",
              "      <th>0</th>\n",
              "      <td>6973</td>\n",
              "      <td>1</td>\n",
              "      <td>32.3</td>\n",
              "    </tr>\n",
              "    <tr>\n",
              "      <th>1</th>\n",
              "      <td>6996</td>\n",
              "      <td>3</td>\n",
              "      <td>36.6</td>\n",
              "    </tr>\n",
              "    <tr>\n",
              "      <th>2</th>\n",
              "      <td>7033</td>\n",
              "      <td>6</td>\n",
              "      <td>12.5</td>\n",
              "    </tr>\n",
              "    <tr>\n",
              "      <th>3</th>\n",
              "      <td>7052</td>\n",
              "      <td>9</td>\n",
              "      <td>31.9</td>\n",
              "    </tr>\n",
              "    <tr>\n",
              "      <th>4</th>\n",
              "      <td>7068</td>\n",
              "      <td>11</td>\n",
              "      <td>26.4</td>\n",
              "    </tr>\n",
              "  </tbody>\n",
              "</table>\n",
              "</div>\n",
              "      <button class=\"colab-df-convert\" onclick=\"convertToInteractive('df-3bc045c4-271e-4621-96ca-cc3cb407cda3')\"\n",
              "              title=\"Convert this dataframe to an interactive table.\"\n",
              "              style=\"display:none;\">\n",
              "        \n",
              "  <svg xmlns=\"http://www.w3.org/2000/svg\" height=\"24px\"viewBox=\"0 0 24 24\"\n",
              "       width=\"24px\">\n",
              "    <path d=\"M0 0h24v24H0V0z\" fill=\"none\"/>\n",
              "    <path d=\"M18.56 5.44l.94 2.06.94-2.06 2.06-.94-2.06-.94-.94-2.06-.94 2.06-2.06.94zm-11 1L8.5 8.5l.94-2.06 2.06-.94-2.06-.94L8.5 2.5l-.94 2.06-2.06.94zm10 10l.94 2.06.94-2.06 2.06-.94-2.06-.94-.94-2.06-.94 2.06-2.06.94z\"/><path d=\"M17.41 7.96l-1.37-1.37c-.4-.4-.92-.59-1.43-.59-.52 0-1.04.2-1.43.59L10.3 9.45l-7.72 7.72c-.78.78-.78 2.05 0 2.83L4 21.41c.39.39.9.59 1.41.59.51 0 1.02-.2 1.41-.59l7.78-7.78 2.81-2.81c.8-.78.8-2.07 0-2.86zM5.41 20L4 18.59l7.72-7.72 1.47 1.35L5.41 20z\"/>\n",
              "  </svg>\n",
              "      </button>\n",
              "      \n",
              "  <style>\n",
              "    .colab-df-container {\n",
              "      display:flex;\n",
              "      flex-wrap:wrap;\n",
              "      gap: 12px;\n",
              "    }\n",
              "\n",
              "    .colab-df-convert {\n",
              "      background-color: #E8F0FE;\n",
              "      border: none;\n",
              "      border-radius: 50%;\n",
              "      cursor: pointer;\n",
              "      display: none;\n",
              "      fill: #1967D2;\n",
              "      height: 32px;\n",
              "      padding: 0 0 0 0;\n",
              "      width: 32px;\n",
              "    }\n",
              "\n",
              "    .colab-df-convert:hover {\n",
              "      background-color: #E2EBFA;\n",
              "      box-shadow: 0px 1px 2px rgba(60, 64, 67, 0.3), 0px 1px 3px 1px rgba(60, 64, 67, 0.15);\n",
              "      fill: #174EA6;\n",
              "    }\n",
              "\n",
              "    [theme=dark] .colab-df-convert {\n",
              "      background-color: #3B4455;\n",
              "      fill: #D2E3FC;\n",
              "    }\n",
              "\n",
              "    [theme=dark] .colab-df-convert:hover {\n",
              "      background-color: #434B5C;\n",
              "      box-shadow: 0px 1px 3px 1px rgba(0, 0, 0, 0.15);\n",
              "      filter: drop-shadow(0px 1px 2px rgba(0, 0, 0, 0.3));\n",
              "      fill: #FFFFFF;\n",
              "    }\n",
              "  </style>\n",
              "\n",
              "      <script>\n",
              "        const buttonEl =\n",
              "          document.querySelector('#df-3bc045c4-271e-4621-96ca-cc3cb407cda3 button.colab-df-convert');\n",
              "        buttonEl.style.display =\n",
              "          google.colab.kernel.accessAllowed ? 'block' : 'none';\n",
              "\n",
              "        async function convertToInteractive(key) {\n",
              "          const element = document.querySelector('#df-3bc045c4-271e-4621-96ca-cc3cb407cda3');\n",
              "          const dataTable =\n",
              "            await google.colab.kernel.invokeFunction('convertToInteractive',\n",
              "                                                     [key], {});\n",
              "          if (!dataTable) return;\n",
              "\n",
              "          const docLinkHtml = 'Like what you see? Visit the ' +\n",
              "            '<a target=\"_blank\" href=https://colab.research.google.com/notebooks/data_table.ipynb>data table notebook</a>'\n",
              "            + ' to learn more about interactive tables.';\n",
              "          element.innerHTML = '';\n",
              "          dataTable['output_type'] = 'display_data';\n",
              "          await google.colab.output.renderOutput(dataTable, element);\n",
              "          const docLink = document.createElement('div');\n",
              "          docLink.innerHTML = docLinkHtml;\n",
              "          element.appendChild(docLink);\n",
              "        }\n",
              "      </script>\n",
              "    </div>\n",
              "  </div>\n",
              "  "
            ]
          },
          "metadata": {},
          "execution_count": 59
        }
      ]
    },
    {
      "cell_type": "code",
      "source": [
        "C3 = df3[df3['Party'] == 'Rashtriya Janata Dal'][['AC No','Votes %%']]\n",
        "C3.reset_index(inplace = True)\n",
        "C3.head()"
      ],
      "metadata": {
        "colab": {
          "base_uri": "https://localhost:8080/",
          "height": 206
        },
        "id": "wjTbFNyFAwAu",
        "outputId": "1d1387b7-d22f-4ab7-9ae8-f04630c5ab03"
      },
      "execution_count": null,
      "outputs": [
        {
          "output_type": "execute_result",
          "data": {
            "text/plain": [
              "   index  AC No  Votes %%\n",
              "0      1      1      19.2\n",
              "1     17      2       7.3\n",
              "2     34      3       7.0\n",
              "3     47      4      13.8\n",
              "4     63      5      19.3"
            ],
            "text/html": [
              "\n",
              "  <div id=\"df-1e74684a-0dd1-43ae-b6b4-573a02448fd3\">\n",
              "    <div class=\"colab-df-container\">\n",
              "      <div>\n",
              "<style scoped>\n",
              "    .dataframe tbody tr th:only-of-type {\n",
              "        vertical-align: middle;\n",
              "    }\n",
              "\n",
              "    .dataframe tbody tr th {\n",
              "        vertical-align: top;\n",
              "    }\n",
              "\n",
              "    .dataframe thead th {\n",
              "        text-align: right;\n",
              "    }\n",
              "</style>\n",
              "<table border=\"1\" class=\"dataframe\">\n",
              "  <thead>\n",
              "    <tr style=\"text-align: right;\">\n",
              "      <th></th>\n",
              "      <th>index</th>\n",
              "      <th>AC No</th>\n",
              "      <th>Votes %%</th>\n",
              "    </tr>\n",
              "  </thead>\n",
              "  <tbody>\n",
              "    <tr>\n",
              "      <th>0</th>\n",
              "      <td>1</td>\n",
              "      <td>1</td>\n",
              "      <td>19.2</td>\n",
              "    </tr>\n",
              "    <tr>\n",
              "      <th>1</th>\n",
              "      <td>17</td>\n",
              "      <td>2</td>\n",
              "      <td>7.3</td>\n",
              "    </tr>\n",
              "    <tr>\n",
              "      <th>2</th>\n",
              "      <td>34</td>\n",
              "      <td>3</td>\n",
              "      <td>7.0</td>\n",
              "    </tr>\n",
              "    <tr>\n",
              "      <th>3</th>\n",
              "      <td>47</td>\n",
              "      <td>4</td>\n",
              "      <td>13.8</td>\n",
              "    </tr>\n",
              "    <tr>\n",
              "      <th>4</th>\n",
              "      <td>63</td>\n",
              "      <td>5</td>\n",
              "      <td>19.3</td>\n",
              "    </tr>\n",
              "  </tbody>\n",
              "</table>\n",
              "</div>\n",
              "      <button class=\"colab-df-convert\" onclick=\"convertToInteractive('df-1e74684a-0dd1-43ae-b6b4-573a02448fd3')\"\n",
              "              title=\"Convert this dataframe to an interactive table.\"\n",
              "              style=\"display:none;\">\n",
              "        \n",
              "  <svg xmlns=\"http://www.w3.org/2000/svg\" height=\"24px\"viewBox=\"0 0 24 24\"\n",
              "       width=\"24px\">\n",
              "    <path d=\"M0 0h24v24H0V0z\" fill=\"none\"/>\n",
              "    <path d=\"M18.56 5.44l.94 2.06.94-2.06 2.06-.94-2.06-.94-.94-2.06-.94 2.06-2.06.94zm-11 1L8.5 8.5l.94-2.06 2.06-.94-2.06-.94L8.5 2.5l-.94 2.06-2.06.94zm10 10l.94 2.06.94-2.06 2.06-.94-2.06-.94-.94-2.06-.94 2.06-2.06.94z\"/><path d=\"M17.41 7.96l-1.37-1.37c-.4-.4-.92-.59-1.43-.59-.52 0-1.04.2-1.43.59L10.3 9.45l-7.72 7.72c-.78.78-.78 2.05 0 2.83L4 21.41c.39.39.9.59 1.41.59.51 0 1.02-.2 1.41-.59l7.78-7.78 2.81-2.81c.8-.78.8-2.07 0-2.86zM5.41 20L4 18.59l7.72-7.72 1.47 1.35L5.41 20z\"/>\n",
              "  </svg>\n",
              "      </button>\n",
              "      \n",
              "  <style>\n",
              "    .colab-df-container {\n",
              "      display:flex;\n",
              "      flex-wrap:wrap;\n",
              "      gap: 12px;\n",
              "    }\n",
              "\n",
              "    .colab-df-convert {\n",
              "      background-color: #E8F0FE;\n",
              "      border: none;\n",
              "      border-radius: 50%;\n",
              "      cursor: pointer;\n",
              "      display: none;\n",
              "      fill: #1967D2;\n",
              "      height: 32px;\n",
              "      padding: 0 0 0 0;\n",
              "      width: 32px;\n",
              "    }\n",
              "\n",
              "    .colab-df-convert:hover {\n",
              "      background-color: #E2EBFA;\n",
              "      box-shadow: 0px 1px 2px rgba(60, 64, 67, 0.3), 0px 1px 3px 1px rgba(60, 64, 67, 0.15);\n",
              "      fill: #174EA6;\n",
              "    }\n",
              "\n",
              "    [theme=dark] .colab-df-convert {\n",
              "      background-color: #3B4455;\n",
              "      fill: #D2E3FC;\n",
              "    }\n",
              "\n",
              "    [theme=dark] .colab-df-convert:hover {\n",
              "      background-color: #434B5C;\n",
              "      box-shadow: 0px 1px 3px 1px rgba(0, 0, 0, 0.15);\n",
              "      filter: drop-shadow(0px 1px 2px rgba(0, 0, 0, 0.3));\n",
              "      fill: #FFFFFF;\n",
              "    }\n",
              "  </style>\n",
              "\n",
              "      <script>\n",
              "        const buttonEl =\n",
              "          document.querySelector('#df-1e74684a-0dd1-43ae-b6b4-573a02448fd3 button.colab-df-convert');\n",
              "        buttonEl.style.display =\n",
              "          google.colab.kernel.accessAllowed ? 'block' : 'none';\n",
              "\n",
              "        async function convertToInteractive(key) {\n",
              "          const element = document.querySelector('#df-1e74684a-0dd1-43ae-b6b4-573a02448fd3');\n",
              "          const dataTable =\n",
              "            await google.colab.kernel.invokeFunction('convertToInteractive',\n",
              "                                                     [key], {});\n",
              "          if (!dataTable) return;\n",
              "\n",
              "          const docLinkHtml = 'Like what you see? Visit the ' +\n",
              "            '<a target=\"_blank\" href=https://colab.research.google.com/notebooks/data_table.ipynb>data table notebook</a>'\n",
              "            + ' to learn more about interactive tables.';\n",
              "          element.innerHTML = '';\n",
              "          dataTable['output_type'] = 'display_data';\n",
              "          await google.colab.output.renderOutput(dataTable, element);\n",
              "          const docLink = document.createElement('div');\n",
              "          docLink.innerHTML = docLinkHtml;\n",
              "          element.appendChild(docLink);\n",
              "        }\n",
              "      </script>\n",
              "    </div>\n",
              "  </div>\n",
              "  "
            ]
          },
          "metadata": {},
          "execution_count": 60
        }
      ]
    },
    {
      "cell_type": "code",
      "source": [
        "C4 = df4[df4['Party'] == 'Rashtriya Janata Dal'][['AC No','Votes %%']]\n",
        "C4.reset_index(inplace = True)\n",
        "C4.head()"
      ],
      "metadata": {
        "colab": {
          "base_uri": "https://localhost:8080/",
          "height": 206
        },
        "id": "LsBlwsEJAxg7",
        "outputId": "73304035-6e28-4842-8508-e8af7763993c"
      },
      "execution_count": null,
      "outputs": [
        {
          "output_type": "execute_result",
          "data": {
            "text/plain": [
              "   index  AC No  Votes %%\n",
              "0   3577      5      28.1\n",
              "1   3641     10      37.9\n",
              "2   3651     11      35.1\n",
              "3   3664     12      46.0\n",
              "4   3676     13      49.9"
            ],
            "text/html": [
              "\n",
              "  <div id=\"df-6b7d7c15-7a35-4e56-b598-d74b04ca74f0\">\n",
              "    <div class=\"colab-df-container\">\n",
              "      <div>\n",
              "<style scoped>\n",
              "    .dataframe tbody tr th:only-of-type {\n",
              "        vertical-align: middle;\n",
              "    }\n",
              "\n",
              "    .dataframe tbody tr th {\n",
              "        vertical-align: top;\n",
              "    }\n",
              "\n",
              "    .dataframe thead th {\n",
              "        text-align: right;\n",
              "    }\n",
              "</style>\n",
              "<table border=\"1\" class=\"dataframe\">\n",
              "  <thead>\n",
              "    <tr style=\"text-align: right;\">\n",
              "      <th></th>\n",
              "      <th>index</th>\n",
              "      <th>AC No</th>\n",
              "      <th>Votes %%</th>\n",
              "    </tr>\n",
              "  </thead>\n",
              "  <tbody>\n",
              "    <tr>\n",
              "      <th>0</th>\n",
              "      <td>3577</td>\n",
              "      <td>5</td>\n",
              "      <td>28.1</td>\n",
              "    </tr>\n",
              "    <tr>\n",
              "      <th>1</th>\n",
              "      <td>3641</td>\n",
              "      <td>10</td>\n",
              "      <td>37.9</td>\n",
              "    </tr>\n",
              "    <tr>\n",
              "      <th>2</th>\n",
              "      <td>3651</td>\n",
              "      <td>11</td>\n",
              "      <td>35.1</td>\n",
              "    </tr>\n",
              "    <tr>\n",
              "      <th>3</th>\n",
              "      <td>3664</td>\n",
              "      <td>12</td>\n",
              "      <td>46.0</td>\n",
              "    </tr>\n",
              "    <tr>\n",
              "      <th>4</th>\n",
              "      <td>3676</td>\n",
              "      <td>13</td>\n",
              "      <td>49.9</td>\n",
              "    </tr>\n",
              "  </tbody>\n",
              "</table>\n",
              "</div>\n",
              "      <button class=\"colab-df-convert\" onclick=\"convertToInteractive('df-6b7d7c15-7a35-4e56-b598-d74b04ca74f0')\"\n",
              "              title=\"Convert this dataframe to an interactive table.\"\n",
              "              style=\"display:none;\">\n",
              "        \n",
              "  <svg xmlns=\"http://www.w3.org/2000/svg\" height=\"24px\"viewBox=\"0 0 24 24\"\n",
              "       width=\"24px\">\n",
              "    <path d=\"M0 0h24v24H0V0z\" fill=\"none\"/>\n",
              "    <path d=\"M18.56 5.44l.94 2.06.94-2.06 2.06-.94-2.06-.94-.94-2.06-.94 2.06-2.06.94zm-11 1L8.5 8.5l.94-2.06 2.06-.94-2.06-.94L8.5 2.5l-.94 2.06-2.06.94zm10 10l.94 2.06.94-2.06 2.06-.94-2.06-.94-.94-2.06-.94 2.06-2.06.94z\"/><path d=\"M17.41 7.96l-1.37-1.37c-.4-.4-.92-.59-1.43-.59-.52 0-1.04.2-1.43.59L10.3 9.45l-7.72 7.72c-.78.78-.78 2.05 0 2.83L4 21.41c.39.39.9.59 1.41.59.51 0 1.02-.2 1.41-.59l7.78-7.78 2.81-2.81c.8-.78.8-2.07 0-2.86zM5.41 20L4 18.59l7.72-7.72 1.47 1.35L5.41 20z\"/>\n",
              "  </svg>\n",
              "      </button>\n",
              "      \n",
              "  <style>\n",
              "    .colab-df-container {\n",
              "      display:flex;\n",
              "      flex-wrap:wrap;\n",
              "      gap: 12px;\n",
              "    }\n",
              "\n",
              "    .colab-df-convert {\n",
              "      background-color: #E8F0FE;\n",
              "      border: none;\n",
              "      border-radius: 50%;\n",
              "      cursor: pointer;\n",
              "      display: none;\n",
              "      fill: #1967D2;\n",
              "      height: 32px;\n",
              "      padding: 0 0 0 0;\n",
              "      width: 32px;\n",
              "    }\n",
              "\n",
              "    .colab-df-convert:hover {\n",
              "      background-color: #E2EBFA;\n",
              "      box-shadow: 0px 1px 2px rgba(60, 64, 67, 0.3), 0px 1px 3px 1px rgba(60, 64, 67, 0.15);\n",
              "      fill: #174EA6;\n",
              "    }\n",
              "\n",
              "    [theme=dark] .colab-df-convert {\n",
              "      background-color: #3B4455;\n",
              "      fill: #D2E3FC;\n",
              "    }\n",
              "\n",
              "    [theme=dark] .colab-df-convert:hover {\n",
              "      background-color: #434B5C;\n",
              "      box-shadow: 0px 1px 3px 1px rgba(0, 0, 0, 0.15);\n",
              "      filter: drop-shadow(0px 1px 2px rgba(0, 0, 0, 0.3));\n",
              "      fill: #FFFFFF;\n",
              "    }\n",
              "  </style>\n",
              "\n",
              "      <script>\n",
              "        const buttonEl =\n",
              "          document.querySelector('#df-6b7d7c15-7a35-4e56-b598-d74b04ca74f0 button.colab-df-convert');\n",
              "        buttonEl.style.display =\n",
              "          google.colab.kernel.accessAllowed ? 'block' : 'none';\n",
              "\n",
              "        async function convertToInteractive(key) {\n",
              "          const element = document.querySelector('#df-6b7d7c15-7a35-4e56-b598-d74b04ca74f0');\n",
              "          const dataTable =\n",
              "            await google.colab.kernel.invokeFunction('convertToInteractive',\n",
              "                                                     [key], {});\n",
              "          if (!dataTable) return;\n",
              "\n",
              "          const docLinkHtml = 'Like what you see? Visit the ' +\n",
              "            '<a target=\"_blank\" href=https://colab.research.google.com/notebooks/data_table.ipynb>data table notebook</a>'\n",
              "            + ' to learn more about interactive tables.';\n",
              "          element.innerHTML = '';\n",
              "          dataTable['output_type'] = 'display_data';\n",
              "          await google.colab.output.renderOutput(dataTable, element);\n",
              "          const docLink = document.createElement('div');\n",
              "          docLink.innerHTML = docLinkHtml;\n",
              "          element.appendChild(docLink);\n",
              "        }\n",
              "      </script>\n",
              "    </div>\n",
              "  </div>\n",
              "  "
            ]
          },
          "metadata": {},
          "execution_count": 61
        }
      ]
    },
    {
      "cell_type": "code",
      "source": [
        "C11 = pd.DataFrame()\n",
        "C11['AC No'] = C1['AC No']\n",
        "C11['2005-Feb'] = C1['Votes %%']\n",
        "C11['2005-Oct'] = C2['Votes %%']\n",
        "C11['2010'] = C3['Votes %%']\n",
        "C11['2015'] = C4['Votes %%']"
      ],
      "metadata": {
        "id": "z8cVi9AWBYID"
      },
      "execution_count": null,
      "outputs": []
    },
    {
      "cell_type": "code",
      "source": [
        "C11.head()"
      ],
      "metadata": {
        "colab": {
          "base_uri": "https://localhost:8080/",
          "height": 206
        },
        "id": "CcsT1VwqBkFf",
        "outputId": "e2a46c4c-d7be-40b6-bf5d-e9623d17972e"
      },
      "execution_count": null,
      "outputs": [
        {
          "output_type": "execute_result",
          "data": {
            "text/plain": [
              "   AC No  2005-Feb  2005-Oct  2010  2015\n",
              "0      1      30.6      32.3  19.2  28.1\n",
              "1      2      22.8      36.6   7.3  37.9\n",
              "2      3      16.8      12.5   7.0  35.1\n",
              "3      4       6.9      31.9  13.8  46.0\n",
              "4      5       4.6      26.4  19.3  49.9"
            ],
            "text/html": [
              "\n",
              "  <div id=\"df-639badae-e25d-4c5b-80e2-73f5009f8cd9\">\n",
              "    <div class=\"colab-df-container\">\n",
              "      <div>\n",
              "<style scoped>\n",
              "    .dataframe tbody tr th:only-of-type {\n",
              "        vertical-align: middle;\n",
              "    }\n",
              "\n",
              "    .dataframe tbody tr th {\n",
              "        vertical-align: top;\n",
              "    }\n",
              "\n",
              "    .dataframe thead th {\n",
              "        text-align: right;\n",
              "    }\n",
              "</style>\n",
              "<table border=\"1\" class=\"dataframe\">\n",
              "  <thead>\n",
              "    <tr style=\"text-align: right;\">\n",
              "      <th></th>\n",
              "      <th>AC No</th>\n",
              "      <th>2005-Feb</th>\n",
              "      <th>2005-Oct</th>\n",
              "      <th>2010</th>\n",
              "      <th>2015</th>\n",
              "    </tr>\n",
              "  </thead>\n",
              "  <tbody>\n",
              "    <tr>\n",
              "      <th>0</th>\n",
              "      <td>1</td>\n",
              "      <td>30.6</td>\n",
              "      <td>32.3</td>\n",
              "      <td>19.2</td>\n",
              "      <td>28.1</td>\n",
              "    </tr>\n",
              "    <tr>\n",
              "      <th>1</th>\n",
              "      <td>2</td>\n",
              "      <td>22.8</td>\n",
              "      <td>36.6</td>\n",
              "      <td>7.3</td>\n",
              "      <td>37.9</td>\n",
              "    </tr>\n",
              "    <tr>\n",
              "      <th>2</th>\n",
              "      <td>3</td>\n",
              "      <td>16.8</td>\n",
              "      <td>12.5</td>\n",
              "      <td>7.0</td>\n",
              "      <td>35.1</td>\n",
              "    </tr>\n",
              "    <tr>\n",
              "      <th>3</th>\n",
              "      <td>4</td>\n",
              "      <td>6.9</td>\n",
              "      <td>31.9</td>\n",
              "      <td>13.8</td>\n",
              "      <td>46.0</td>\n",
              "    </tr>\n",
              "    <tr>\n",
              "      <th>4</th>\n",
              "      <td>5</td>\n",
              "      <td>4.6</td>\n",
              "      <td>26.4</td>\n",
              "      <td>19.3</td>\n",
              "      <td>49.9</td>\n",
              "    </tr>\n",
              "  </tbody>\n",
              "</table>\n",
              "</div>\n",
              "      <button class=\"colab-df-convert\" onclick=\"convertToInteractive('df-639badae-e25d-4c5b-80e2-73f5009f8cd9')\"\n",
              "              title=\"Convert this dataframe to an interactive table.\"\n",
              "              style=\"display:none;\">\n",
              "        \n",
              "  <svg xmlns=\"http://www.w3.org/2000/svg\" height=\"24px\"viewBox=\"0 0 24 24\"\n",
              "       width=\"24px\">\n",
              "    <path d=\"M0 0h24v24H0V0z\" fill=\"none\"/>\n",
              "    <path d=\"M18.56 5.44l.94 2.06.94-2.06 2.06-.94-2.06-.94-.94-2.06-.94 2.06-2.06.94zm-11 1L8.5 8.5l.94-2.06 2.06-.94-2.06-.94L8.5 2.5l-.94 2.06-2.06.94zm10 10l.94 2.06.94-2.06 2.06-.94-2.06-.94-.94-2.06-.94 2.06-2.06.94z\"/><path d=\"M17.41 7.96l-1.37-1.37c-.4-.4-.92-.59-1.43-.59-.52 0-1.04.2-1.43.59L10.3 9.45l-7.72 7.72c-.78.78-.78 2.05 0 2.83L4 21.41c.39.39.9.59 1.41.59.51 0 1.02-.2 1.41-.59l7.78-7.78 2.81-2.81c.8-.78.8-2.07 0-2.86zM5.41 20L4 18.59l7.72-7.72 1.47 1.35L5.41 20z\"/>\n",
              "  </svg>\n",
              "      </button>\n",
              "      \n",
              "  <style>\n",
              "    .colab-df-container {\n",
              "      display:flex;\n",
              "      flex-wrap:wrap;\n",
              "      gap: 12px;\n",
              "    }\n",
              "\n",
              "    .colab-df-convert {\n",
              "      background-color: #E8F0FE;\n",
              "      border: none;\n",
              "      border-radius: 50%;\n",
              "      cursor: pointer;\n",
              "      display: none;\n",
              "      fill: #1967D2;\n",
              "      height: 32px;\n",
              "      padding: 0 0 0 0;\n",
              "      width: 32px;\n",
              "    }\n",
              "\n",
              "    .colab-df-convert:hover {\n",
              "      background-color: #E2EBFA;\n",
              "      box-shadow: 0px 1px 2px rgba(60, 64, 67, 0.3), 0px 1px 3px 1px rgba(60, 64, 67, 0.15);\n",
              "      fill: #174EA6;\n",
              "    }\n",
              "\n",
              "    [theme=dark] .colab-df-convert {\n",
              "      background-color: #3B4455;\n",
              "      fill: #D2E3FC;\n",
              "    }\n",
              "\n",
              "    [theme=dark] .colab-df-convert:hover {\n",
              "      background-color: #434B5C;\n",
              "      box-shadow: 0px 1px 3px 1px rgba(0, 0, 0, 0.15);\n",
              "      filter: drop-shadow(0px 1px 2px rgba(0, 0, 0, 0.3));\n",
              "      fill: #FFFFFF;\n",
              "    }\n",
              "  </style>\n",
              "\n",
              "      <script>\n",
              "        const buttonEl =\n",
              "          document.querySelector('#df-639badae-e25d-4c5b-80e2-73f5009f8cd9 button.colab-df-convert');\n",
              "        buttonEl.style.display =\n",
              "          google.colab.kernel.accessAllowed ? 'block' : 'none';\n",
              "\n",
              "        async function convertToInteractive(key) {\n",
              "          const element = document.querySelector('#df-639badae-e25d-4c5b-80e2-73f5009f8cd9');\n",
              "          const dataTable =\n",
              "            await google.colab.kernel.invokeFunction('convertToInteractive',\n",
              "                                                     [key], {});\n",
              "          if (!dataTable) return;\n",
              "\n",
              "          const docLinkHtml = 'Like what you see? Visit the ' +\n",
              "            '<a target=\"_blank\" href=https://colab.research.google.com/notebooks/data_table.ipynb>data table notebook</a>'\n",
              "            + ' to learn more about interactive tables.';\n",
              "          element.innerHTML = '';\n",
              "          dataTable['output_type'] = 'display_data';\n",
              "          await google.colab.output.renderOutput(dataTable, element);\n",
              "          const docLink = document.createElement('div');\n",
              "          docLink.innerHTML = docLinkHtml;\n",
              "          element.appendChild(docLink);\n",
              "        }\n",
              "      </script>\n",
              "    </div>\n",
              "  </div>\n",
              "  "
            ]
          },
          "metadata": {},
          "execution_count": 63
        }
      ]
    },
    {
      "cell_type": "code",
      "source": [
        "C111 = C11[(C11['2005-Feb'] < C11['2005-Oct']) & (C11['2005-Oct'] < C11['2010']) & (C11['2010'] < C11['2015'])]['AC No']"
      ],
      "metadata": {
        "id": "xSwlZrDn_1x3"
      },
      "execution_count": null,
      "outputs": []
    },
    {
      "cell_type": "code",
      "source": [
        "print(C11[(C11['2005-Feb'] < C11['2005-Oct']) & (C11['2005-Oct'] < C11['2010']) & (C11['2010'] < C11['2015'])]['AC No'].tolist())"
      ],
      "metadata": {
        "colab": {
          "base_uri": "https://localhost:8080/"
        },
        "id": "_akNgIh6BuxB",
        "outputId": "8a51e41c-31f5-46d0-df0e-19a76fa7f696"
      },
      "execution_count": null,
      "outputs": [
        {
          "output_type": "stream",
          "name": "stdout",
          "text": [
            "[8, 11, 22, 24, 56, 62, 65, 66, 68, 78, 92, 107, 109]\n"
          ]
        }
      ]
    },
    {
      "cell_type": "markdown",
      "source": [
        "In the case of Rashtriya Janata Dal, above list contains constituencies  which have witnessed continuous growth in thier votes \n",
        "for the last 3 elections."
      ],
      "metadata": {
        "id": "Ee9k5-aHB0F2"
      }
    },
    {
      "cell_type": "code",
      "source": [
        "D1 = df1[df1['Party'] == 'Independent'][['AC No','Votes %%']]\n",
        "D1.reset_index(inplace = True)\n",
        "D2 = df2[df2['Party'] == 'Independent'][['AC No','Votes %%']]\n",
        "D2.reset_index(inplace = True)\n",
        "D3 = df3[df3['Party'] == 'Independent'][['AC No','Votes %%']]\n",
        "D3.reset_index(inplace = True)\n",
        "D4 = df4[df4['Party'] == 'Independent'][['AC No','Votes %%']]\n",
        "D4.reset_index(inplace = True)\n",
        "D11 = pd.DataFrame()\n",
        "D11['AC No'] = D1['AC No']\n",
        "D11['2005-Feb'] = D1['Votes %%']\n",
        "D11['2005-Oct'] = D2['Votes %%']\n",
        "D11['2010'] = D3['Votes %%']\n",
        "D11['2015'] = D4['Votes %%']"
      ],
      "metadata": {
        "id": "Vi-P7u34CLNY"
      },
      "execution_count": null,
      "outputs": []
    },
    {
      "cell_type": "code",
      "source": [
        "print(D11[(D11['2005-Feb'] < D11['2005-Oct']) & (D11['2005-Oct'] < D11['2010']) & (D11['2010'] < D11['2015'])]['AC No'].tolist())"
      ],
      "metadata": {
        "colab": {
          "base_uri": "https://localhost:8080/"
        },
        "id": "VYk1VZUBCPej",
        "outputId": "af3eb985-01db-45a0-b0d6-6294b492ceb0"
      },
      "execution_count": null,
      "outputs": [
        {
          "output_type": "stream",
          "name": "stdout",
          "text": [
            "[3, 5, 8, 14, 14, 21, 23, 37, 39, 17, 54, 59, 59, 59, 59, 62, 67, 71, 89, 95, 120, 130, 16]\n"
          ]
        }
      ]
    },
    {
      "cell_type": "markdown",
      "source": [
        "In the case of Independent Candidates,, above list contains constituencies  which have witnessed continuous growth in thier votes \n",
        "for the last 3 elections."
      ],
      "metadata": {
        "id": "u--GUqoRCVbb"
      }
    },
    {
      "cell_type": "code",
      "source": [
        "E1 = df1[df1['Party'] == 'Janata Dal (United)'][['AC No','Votes %%']]\n",
        "E1.reset_index(inplace = True)\n",
        "E2 = df2[df2['Party'] == 'Janata Dal (United)'][['AC No','Votes %%']]\n",
        "E2.reset_index(inplace = True)\n",
        "E3 = df3[df3['Party'] == 'Janata Dal (United)'][['AC No','Votes %%']]\n",
        "E3.reset_index(inplace = True)\n",
        "E4 = df4[df4['Party'] == 'Janata Dal (United)'][['AC No','Votes %%']]\n",
        "E4.reset_index(inplace = True)\n",
        "E11 = pd.DataFrame()\n",
        "E11['AC No'] = E1['AC No']\n",
        "E11['2005-Feb'] = E1['Votes %%']\n",
        "E11['2005-Oct'] = E2['Votes %%']\n",
        "E11['2010'] = E3['Votes %%']\n",
        "E11['2015'] = E4['Votes %%']"
      ],
      "metadata": {
        "id": "DIQ-0CdKCTjW"
      },
      "execution_count": null,
      "outputs": []
    },
    {
      "cell_type": "code",
      "source": [
        "print(E11[(E11['2005-Feb'] < E11['2005-Oct']) & (E11['2005-Oct'] < E11['2010']) & (E11['2010'] < E11['2015'])]['AC No'].tolist())"
      ],
      "metadata": {
        "colab": {
          "base_uri": "https://localhost:8080/"
        },
        "id": "DDtc4KztCrA6",
        "outputId": "f3282fb6-1678-4fed-baa2-ee5565643d1a"
      },
      "execution_count": null,
      "outputs": [
        {
          "output_type": "stream",
          "name": "stdout",
          "text": [
            "[1, 23, 61, 83, 88, 92, 101, 115, 123, 124, 173]\n"
          ]
        }
      ]
    },
    {
      "cell_type": "markdown",
      "source": [
        " In the case of Janata Dal (United), above list contains constituencies  which have witnessed continuous growth in thier votes \n",
        "for the last 3 elections."
      ],
      "metadata": {
        "id": "y6X4tFA1Cn4B"
      }
    },
    {
      "cell_type": "code",
      "source": [
        "F1 = df1[df1['Party'] == 'Lok Jan Shakti Party'][['AC No','Votes %%']]\n",
        "F1.reset_index(inplace = True)\n",
        "F2 = df2[df2['Party'] == 'Lok Jan Shakti Party'][['AC No','Votes %%']]\n",
        "F2.reset_index(inplace = True)\n",
        "F3 = df3[df3['Party'] == 'Lok Jan Shakti Party'][['AC No','Votes %%']]\n",
        "F3.reset_index(inplace = True)\n",
        "F4 = df4[df4['Party'] == 'Lok Jan Shakti Party'][['AC No','Votes %%']]\n",
        "F4.reset_index(inplace = True)\n",
        "F11 = pd.DataFrame()\n",
        "F11['AC No'] = F1['AC No']\n",
        "F11['2005-Feb'] = F1['Votes %%']\n",
        "F11['2005-Oct'] = F2['Votes %%']\n",
        "F11['2010'] = F3['Votes %%']\n",
        "F11['2015'] = F4['Votes %%']"
      ],
      "metadata": {
        "id": "eF7ZjpChCnQ7"
      },
      "execution_count": null,
      "outputs": []
    },
    {
      "cell_type": "code",
      "source": [
        "print(F11[(F11['2005-Feb'] < F11['2005-Oct']) & (F11['2005-Oct'] < F11['2010']) & (F11['2010'] < F11['2015'])]['AC No'].tolist())"
      ],
      "metadata": {
        "colab": {
          "base_uri": "https://localhost:8080/"
        },
        "id": "BipKPN6ODB_J",
        "outputId": "80944434-dc0e-409d-91f6-43b474d5dcdf"
      },
      "execution_count": null,
      "outputs": [
        {
          "output_type": "stream",
          "name": "stdout",
          "text": [
            "[16, 25, 28, 39, 17]\n"
          ]
        }
      ]
    },
    {
      "cell_type": "markdown",
      "source": [
        " In the case of Lok Jan Shakti Party, above list contains constituencies  which have witnessed continuous growth in thier votes \n",
        "for the last 3 elections."
      ],
      "metadata": {
        "id": "g80DmFivDFvY"
      }
    },
    {
      "cell_type": "code",
      "source": [
        "G1 = df1[df1['Party'] == 'Bharatiya Janta Party'][['AC No','Votes %%']]\n",
        "G1.reset_index(inplace = True)\n",
        "G2 = df2[df2['Party'] == 'Bharatiya Janta Party'][['AC No','Votes %%']]\n",
        "G2.reset_index(inplace = True)\n",
        "G3 = df3[df3['Party'] == 'Bharatiya Janta Party'][['AC No','Votes %%']]\n",
        "G3.reset_index(inplace = True)\n",
        "G4 = df4[df4['Party'] == 'Bharatiya Janta Party'][['AC No','Votes %%']]\n",
        "G4.reset_index(inplace = True)\n",
        "G11 = pd.DataFrame()\n",
        "G11['AC No'] = G1['AC No']\n",
        "G11['2005-Feb'] = G1['Votes %%']\n",
        "G11['2005-Oct'] = G2['Votes %%']\n",
        "G11['2010'] = G3['Votes %%']\n",
        "G11['2015'] = G4['Votes %%']"
      ],
      "metadata": {
        "id": "k92aYC5WDNaD"
      },
      "execution_count": null,
      "outputs": []
    },
    {
      "cell_type": "code",
      "source": [
        "print(G11[(G11['2005-Feb'] < G11['2005-Oct']) & (G11['2005-Oct'] < G11['2010']) & (G11['2010'] < G11['2015'])]['AC No'].tolist())"
      ],
      "metadata": {
        "colab": {
          "base_uri": "https://localhost:8080/"
        },
        "id": "GBFklyVNDS8K",
        "outputId": "d621d50a-29b8-49dc-82ce-0f5da5e5df85"
      },
      "execution_count": null,
      "outputs": [
        {
          "output_type": "stream",
          "name": "stdout",
          "text": [
            "[3, 5, 21, 31, 71, 79, 113, 145]\n"
          ]
        }
      ]
    },
    {
      "cell_type": "markdown",
      "source": [
        " In the case of Bharatiya Janta Party, above list contains constituencies  which have witnessed continuous growth in thier votes \n",
        "for the last 3 elections."
      ],
      "metadata": {
        "id": "yfmvrSLWDWFY"
      }
    },
    {
      "cell_type": "code",
      "source": [
        "H1 = df1[df1['Party'] == 'Indian National Congress'][['AC No','Votes %%']]\n",
        "H1.reset_index(inplace = True)\n",
        "H2 = df2[df2['Party'] == 'Indian National Congress'][['AC No','Votes %%']]\n",
        "H2.reset_index(inplace = True)\n",
        "H3 = df3[df3['Party'] == 'Indian National Congress'][['AC No','Votes %%']]\n",
        "H3.reset_index(inplace = True)\n",
        "H4 = df4[df4['Party'] == 'Indian National Congress'][['AC No','Votes %%']]\n",
        "H4.reset_index(inplace = True)\n",
        "H11 = pd.DataFrame()\n",
        "H11['AC No'] = H1['AC No']\n",
        "H11['2005-Feb'] = H1['Votes %%']\n",
        "H11['2005-Oct'] = H2['Votes %%']\n",
        "H11['2010'] = H3['Votes %%']\n",
        "H11['2015'] = H4['Votes %%']"
      ],
      "metadata": {
        "id": "4fhn-9nGDmfh"
      },
      "execution_count": null,
      "outputs": []
    },
    {
      "cell_type": "code",
      "source": [
        "print(H11[(H11['2005-Feb'] < H11['2005-Oct']) & (H11['2005-Oct'] < H11['2010']) & (H11['2010'] < H11['2015'])]['AC No'].tolist())"
      ],
      "metadata": {
        "colab": {
          "base_uri": "https://localhost:8080/"
        },
        "id": "ZpAStVvzDb_M",
        "outputId": "c66981c1-adec-4254-c8e1-39ea586c798e"
      },
      "execution_count": null,
      "outputs": [
        {
          "output_type": "stream",
          "name": "stdout",
          "text": [
            "[]\n"
          ]
        }
      ]
    },
    {
      "cell_type": "markdown",
      "source": [
        " In the case of Indian National Congress, there is no constituency that has witnessed continuous growth in thier votes \n",
        " for the last 3 elections."
      ],
      "metadata": {
        "id": "Bics-C10DhHU"
      }
    },
    {
      "cell_type": "code",
      "source": [
        "I1 = df1[df1['Party'] == 'Bahujan Samaj Party'][['AC No','Votes %%']]\n",
        "I1.reset_index(inplace = True)\n",
        "I2 = df2[df2['Party'] == 'Bahujan Samaj Party'][['AC No','Votes %%']]\n",
        "I2.reset_index(inplace = True)\n",
        "I3 = df3[df3['Party'] == 'Bahujan Samaj Party'][['AC No','Votes %%']]\n",
        "I3.reset_index(inplace = True)\n",
        "I4 = df4[df4['Party'] == 'Bahujan Samaj Party'][['AC No','Votes %%']]\n",
        "I4.reset_index(inplace = True)\n",
        "I11 = pd.DataFrame()\n",
        "I11['AC No'] = I1['AC No']\n",
        "I11['2005-Feb'] = I1['Votes %%']\n",
        "I11['2005-Oct'] = I2['Votes %%']\n",
        "I11['2010'] = I3['Votes %%']\n",
        "I11['2015'] = I4['Votes %%']"
      ],
      "metadata": {
        "id": "VjUOcHyGD-7u"
      },
      "execution_count": null,
      "outputs": []
    },
    {
      "cell_type": "code",
      "source": [
        "print(I11[(I11['2005-Feb'] < I11['2005-Oct']) & (I11['2005-Oct'] < I11['2010']) & (I11['2010'] < I11['2015'])]['AC No'].tolist())"
      ],
      "metadata": {
        "colab": {
          "base_uri": "https://localhost:8080/"
        },
        "id": "SlAiB6oGEDNX",
        "outputId": "b1d87d0f-75a4-4563-df92-bd7dcf968738"
      },
      "execution_count": null,
      "outputs": [
        {
          "output_type": "stream",
          "name": "stdout",
          "text": [
            "[169, 199]\n"
          ]
        }
      ]
    },
    {
      "cell_type": "markdown",
      "source": [
        " In the case of Bahujan Samaj Party, above list contains constituencies  which have witnessed continuous growth in thier votes \n",
        "for the last 3 elections."
      ],
      "metadata": {
        "id": "uMyHMKluEGOV"
      }
    },
    {
      "cell_type": "code",
      "source": [
        "J1 = df1[df1['Party'] == 'Samajwadi Party'][['AC No','Votes %%']]\n",
        "J1.reset_index(inplace = True)\n",
        "J2 = df2[df2['Party'] == 'Samajwadi Party'][['AC No','Votes %%']]\n",
        "J2.reset_index(inplace = True)\n",
        "J3 = df3[df3['Party'] == 'Samajwadi Party'][['AC No','Votes %%']]\n",
        "J3.reset_index(inplace = True)\n",
        "J4 = df4[df4['Party'] == 'Samajwadi Party'][['AC No','Votes %%']]\n",
        "J4.reset_index(inplace = True)\n",
        "J11 = pd.DataFrame()\n",
        "J11['AC No'] = J1['AC No']\n",
        "J11['2005-Feb'] = J1['Votes %%']\n",
        "J11['2005-Oct'] = J2['Votes %%']\n",
        "J11['2010'] = J3['Votes %%']\n",
        "J11['2015'] = J4['Votes %%']"
      ],
      "metadata": {
        "id": "1wCsPpZiEVEO"
      },
      "execution_count": null,
      "outputs": []
    },
    {
      "cell_type": "code",
      "source": [
        "print(J11[(J11['2005-Feb'] < J11['2005-Oct']) & (J11['2005-Oct'] < J11['2010']) & (J11['2010'] < J11['2015'])]['AC No'].tolist())"
      ],
      "metadata": {
        "colab": {
          "base_uri": "https://localhost:8080/"
        },
        "id": "LV7i2YUIEZ3y",
        "outputId": "2b996e02-3131-4fd7-d619-8a4edaf13e90"
      },
      "execution_count": null,
      "outputs": [
        {
          "output_type": "stream",
          "name": "stdout",
          "text": [
            "[62]\n"
          ]
        }
      ]
    },
    {
      "cell_type": "markdown",
      "source": [
        "In the case of Samajwadi Party, the above 1 constituency have witnessed continuous growth in thier votes \n",
        " for the last 3 elections."
      ],
      "metadata": {
        "id": "j9FzNZmaEhiV"
      }
    },
    {
      "cell_type": "markdown",
      "source": [
        "Q j) Determine the state-winner-match constituencies. Find the seats which have\n",
        "always elected the party that has gone on to win the state election (most votes\n",
        "secured at state). So if the RJD won at the state level in 2010, then seats which\n",
        "voted an RJD candidate as winner are considered in this category. This criteria\n",
        "for a seat has to be matched for each election."
      ],
      "metadata": {
        "id": "K0irzHKpE4kr"
      }
    },
    {
      "cell_type": "markdown",
      "source": [
        "\n",
        "  Considering results from question a. :\n",
        "1.  2005-Feb Election was won by Rashtriya Janata Dal.\n",
        "2.  2005-Oct Election was won by Rashtriya Janata Dal.\n",
        "3.  2010 Election was won by Janata Dal (United).\n",
        "4.  2015 Election was won by Bharatiya Janta Party."
      ],
      "metadata": {
        "id": "wcwtSz42FinM"
      }
    },
    {
      "cell_type": "code",
      "source": [
        "print(df1[(df1['Position'] == 1) & (df1['Party'] == 'Rashtriya Janata Dal')]['AC No'].tolist())"
      ],
      "metadata": {
        "colab": {
          "base_uri": "https://localhost:8080/"
        },
        "id": "BRH8RsrLEePl",
        "outputId": "7b50c987-47c4-45bb-f032-342b4cadfd0b"
      },
      "execution_count": null,
      "outputs": [
        {
          "output_type": "stream",
          "name": "stdout",
          "text": [
            "[1, 11, 15, 16, 22, 26, 27, 29, 32, 43, 44, 46, 50, 53, 55, 60, 61, 63, 64, 66, 70, 71, 77, 79, 82, 85, 86, 87, 88, 91, 92, 93, 96, 100, 102, 103, 114, 115, 128, 135, 137, 142, 145, 147, 151, 152, 154, 156, 157, 161, 162, 169, 170, 185, 192, 193, 199, 200, 208, 210, 211, 212, 213, 217, 218, 221, 222, 227, 229, 234, 235, 236, 237, 238, 240]\n"
          ]
        }
      ]
    },
    {
      "cell_type": "code",
      "source": [
        "df.columns"
      ],
      "metadata": {
        "colab": {
          "base_uri": "https://localhost:8080/"
        },
        "id": "YAiyeV3BFHig",
        "outputId": "295bff07-5867-4850-a936-6dfd4697a8df"
      },
      "execution_count": null,
      "outputs": [
        {
          "output_type": "execute_result",
          "data": {
            "text/plain": [
              "Index(['Election Year', 'Position', 'Name', 'Votes', 'Votes %', 'Party',\n",
              "       'AC name', 'AC No', 'Votes %%'],\n",
              "      dtype='object')"
            ]
          },
          "metadata": {},
          "execution_count": 121
        }
      ]
    },
    {
      "cell_type": "code",
      "source": [
        "print(df1[df1['AC No'] == 44][['Party','Votes']])"
      ],
      "metadata": {
        "colab": {
          "base_uri": "https://localhost:8080/"
        },
        "id": "sT1d0bI-D61L",
        "outputId": "723cd070-ff14-49dc-f3a8-3a1e172305d6"
      },
      "execution_count": null,
      "outputs": [
        {
          "output_type": "stream",
          "name": "stdout",
          "text": [
            "                         Party  Votes\n",
            "9701      Rashtriya Janata Dal  47680\n",
            "9702     Bharatiya Janta Party  37129\n",
            "9703  Indian National Congress   2585\n",
            "9704       Bahujan Samaj Party   1970\n",
            "9705               Independent   1190\n",
            "9706           Samajwadi Party   1093\n",
            "9707               Independent    740\n",
            "9708                  Apna Dal    643\n"
          ]
        }
      ]
    },
    {
      "cell_type": "markdown",
      "source": [
        "Above is the list of constituencies which voted for the candidate belonging to the party - Rashtriya Janata Dal which won the 2005-Feb state elections."
      ],
      "metadata": {
        "id": "2nVu3sxIF97F"
      }
    },
    {
      "cell_type": "code",
      "source": [
        "print(df2[(df2['Position'] == 1) & (df2['Party'] == 'Rashtriya Janata Dal')]['AC No'].tolist())"
      ],
      "metadata": {
        "colab": {
          "base_uri": "https://localhost:8080/"
        },
        "id": "H4RVl7XWGGNo",
        "outputId": "88c6dccf-20ed-405c-e374-7d7852b86e37"
      },
      "execution_count": null,
      "outputs": [
        {
          "output_type": "stream",
          "name": "stdout",
          "text": [
            "[1, 15, 18, 22, 26, 27, 28, 38, 44, 46, 49, 50, 60, 61, 65, 66, 70, 71, 83, 84, 85, 87, 88, 91, 92, 96, 97, 98, 100, 102, 124, 125, 135, 145, 147, 152, 154, 158, 161, 172, 192, 193, 196, 200, 210, 213, 221, 222, 226, 227, 229, 234, 237, 238]\n"
          ]
        }
      ]
    },
    {
      "cell_type": "markdown",
      "source": [
        "Above is the list of constituencies which voted for the candidate belonging to the party - Rashtriya Janata Dal  which won the 2005-Oct state elections.\n",
        "\n"
      ],
      "metadata": {
        "id": "RkYd0ISDGFqC"
      }
    },
    {
      "cell_type": "code",
      "source": [
        "print(df3[(df3['Position'] == 1) & (df3['Party'] == 'Janata Dal (United)')]['AC No'].tolist())"
      ],
      "metadata": {
        "colab": {
          "base_uri": "https://localhost:8080/"
        },
        "id": "-gsj3MS_GYVf",
        "outputId": "c485690a-76ef-4200-e70b-5b81f422b63b"
      },
      "execution_count": null,
      "outputs": [
        {
          "output_type": "stream",
          "name": "stdout",
          "text": [
            "[1, 4, 6, 12, 14, 16, 17, 18, 22, 26, 27, 29, 30, 31, 38, 39, 40, 41, 17, 43, 44, 45, 50, 60, 61, 67, 70, 71, 72, 74, 76, 79, 85, 90, 91, 92, 93, 95, 98, 99, 102, 104, 109, 110, 112, 113, 114, 120, 121, 124, 125, 126, 127, 128, 16, 132, 135, 136, 138, 140, 141, 144, 145, 148, 149, 150, 153, 157, 158, 159, 160, 163, 164, 165, 166, 169, 170, 171, 172, 174, 175, 176, 177, 178, 179, 181, 188, 189, 196, 201, 202, 204, 207, 209, 210, 213, 215, 216, 217, 218, 219, 221, 222, 224, 226, 227, 228, 231, 233, 237, 238, 239, 240, 241, 242]\n"
          ]
        }
      ]
    },
    {
      "cell_type": "markdown",
      "source": [
        "Above  is the list of constituencies which voted for the candidate belonging to the party - Janata Dal (United) which won the 2010 state elections."
      ],
      "metadata": {
        "id": "P_qS5bIQGhiR"
      }
    },
    {
      "cell_type": "code",
      "source": [
        "print(df4[(df4['Position'] == 1) & (df4['Party'] == 'Bharatiya Janta Party')]['AC No'].tolist())"
      ],
      "metadata": {
        "colab": {
          "base_uri": "https://localhost:8080/"
        },
        "id": "vVaiPkORGbvs",
        "outputId": "733fba90-35ce-4f48-bf04-4580dc52cf6e"
      },
      "execution_count": null,
      "outputs": [
        {
          "output_type": "stream",
          "name": "stdout",
          "text": [
            "[2, 4, 5, 6, 7, 10, 11, 16, 17, 18, 19, 20, 96, 25, 37, 45, 48, 51, 59, 62, 63, 66, 83, 87, 93, 94, 97, 99, 101, 105, 118, 120, 123, 161, 168, 71, 179, 180, 181, 182, 183, 184, 186, 203, 204, 8, 206, 219, 225, 230, 236, 239, 242]\n"
          ]
        }
      ]
    },
    {
      "cell_type": "markdown",
      "source": [
        "Above  is the list of constituencies which voted for the candidate belonging to the party - Bharatiya Janta Party  which won the 2015 state elections."
      ],
      "metadata": {
        "id": "jrPTMPaCGxFX"
      }
    }
  ]
}